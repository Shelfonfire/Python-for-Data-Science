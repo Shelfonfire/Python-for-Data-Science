{
 "cells": [
  {
   "cell_type": "markdown",
   "id": "391b186c",
   "metadata": {},
   "source": [
    "# Python for Data Science Practice Session 4 : Mathematics and Statistics"
   ]
  },
  {
   "cell_type": "code",
   "execution_count": 1,
   "id": "86afe2e3",
   "metadata": {},
   "outputs": [],
   "source": [
    "#Import pandas, numpy, numpy.random and matplotlib.pyplot \n",
    "import pandas as pd\n",
    "import numpy as np\n",
    "import numpy.random as rand\n",
    "import matplotlib.pyplot as plt\n"
   ]
  },
  {
   "cell_type": "markdown",
   "id": "4cf34d50",
   "metadata": {},
   "source": [
    "## Missing data types: A closer look"
   ]
  },
  {
   "cell_type": "markdown",
   "id": "1e6e751a",
   "metadata": {},
   "source": [
    "In this section, I would like to talk more about missing values. It is one of the most influential problems that have to be dealt with carefully by Data Scientists, and even by other practitioners in different fields who analyse and use data to help in forming decisions/conclusions. Together, we will go through the three main types of missing values: Missing Completely at Random, Missing at Random and Missing Not at Random. Then, we will build up on the imputation methods discussed in this week's teaching session by using two more complex ones, namely Expectation Maximization and Linear Regression. We will also make use of the dataframe reshaping methods that we learned in this week's teaching session to help make our lives easier throughout this project session."
   ]
  },
  {
   "cell_type": "markdown",
   "id": "2f572c77",
   "metadata": {},
   "source": [
    "Let's start by generating a mock dataset that we will use to demonstrate the different missing value types. This dataset will contain simulated data of three consecutive lap times for ten F1 racing drivers on a track.\n",
    "\n",
    "Start by creating a Pandas dataframe with column labels 'D1', 'D2', 'D3', ... , 'D10' representing the ten drivers we have, and indexes 'Lap1', 'Lap2' representing the first two lap times for each driver."
   ]
  },
  {
   "cell_type": "code",
   "execution_count": 2,
   "id": "093e75ca",
   "metadata": {},
   "outputs": [
    {
     "data": {
      "text/html": [
       "<div>\n",
       "<style scoped>\n",
       "    .dataframe tbody tr th:only-of-type {\n",
       "        vertical-align: middle;\n",
       "    }\n",
       "\n",
       "    .dataframe tbody tr th {\n",
       "        vertical-align: top;\n",
       "    }\n",
       "\n",
       "    .dataframe thead th {\n",
       "        text-align: right;\n",
       "    }\n",
       "</style>\n",
       "<table border=\"1\" class=\"dataframe\">\n",
       "  <thead>\n",
       "    <tr style=\"text-align: right;\">\n",
       "      <th></th>\n",
       "      <th>D1</th>\n",
       "      <th>D2</th>\n",
       "      <th>D3</th>\n",
       "      <th>D4</th>\n",
       "      <th>D5</th>\n",
       "      <th>D6</th>\n",
       "      <th>D7</th>\n",
       "      <th>D8</th>\n",
       "      <th>D9</th>\n",
       "      <th>D10</th>\n",
       "    </tr>\n",
       "  </thead>\n",
       "  <tbody>\n",
       "    <tr>\n",
       "      <th>Lap1</th>\n",
       "      <td>NaN</td>\n",
       "      <td>NaN</td>\n",
       "      <td>NaN</td>\n",
       "      <td>NaN</td>\n",
       "      <td>NaN</td>\n",
       "      <td>NaN</td>\n",
       "      <td>NaN</td>\n",
       "      <td>NaN</td>\n",
       "      <td>NaN</td>\n",
       "      <td>NaN</td>\n",
       "    </tr>\n",
       "    <tr>\n",
       "      <th>Lap2</th>\n",
       "      <td>NaN</td>\n",
       "      <td>NaN</td>\n",
       "      <td>NaN</td>\n",
       "      <td>NaN</td>\n",
       "      <td>NaN</td>\n",
       "      <td>NaN</td>\n",
       "      <td>NaN</td>\n",
       "      <td>NaN</td>\n",
       "      <td>NaN</td>\n",
       "      <td>NaN</td>\n",
       "    </tr>\n",
       "  </tbody>\n",
       "</table>\n",
       "</div>"
      ],
      "text/plain": [
       "       D1   D2   D3   D4   D5   D6   D7   D8   D9  D10\n",
       "Lap1  NaN  NaN  NaN  NaN  NaN  NaN  NaN  NaN  NaN  NaN\n",
       "Lap2  NaN  NaN  NaN  NaN  NaN  NaN  NaN  NaN  NaN  NaN"
      ]
     },
     "execution_count": 2,
     "metadata": {},
     "output_type": "execute_result"
    }
   ],
   "source": [
    "#Create the dataframe as specified above\n",
    "Laps = pd.DataFrame(index = ['Lap1','Lap2'], columns = ['D1','D2','D3','D4','D5','D6','D7','D8','D9','D10',])\n",
    "Laps"
   ]
  },
  {
   "cell_type": "markdown",
   "id": "7fbb0e23",
   "metadata": {},
   "source": [
    "Now, we simulate lap time values from normal distributions. Assume that for the first lap times, data are normally distributed with a mean of 150 and standard deviation of 10. Then in lap 2, data are normally distributed with a mean of 145 and a standard deviation of 10. Simulating the data in this way allows for the possibility for some drivers improving their lap time in their second trial and some other drivers worsening their lap time in their second trial."
   ]
  },
  {
   "cell_type": "code",
   "execution_count": 3,
   "id": "4285ef3e",
   "metadata": {},
   "outputs": [],
   "source": [
    "#Simulate data from normal distributions for laps 1 and 2 using the means and standard deviations specified above\n",
    "#mean = 145\n",
    "#var = 100\n",
    "\n",
    "Laps.loc['Lap1'] = rand.normal(150, 10, 10)\n",
    "Laps.loc['Lap2'] = rand.normal(145, 10, 10)"
   ]
  },
  {
   "cell_type": "code",
   "execution_count": 4,
   "id": "f15b32a4",
   "metadata": {},
   "outputs": [
    {
     "data": {
      "text/html": [
       "<div>\n",
       "<style scoped>\n",
       "    .dataframe tbody tr th:only-of-type {\n",
       "        vertical-align: middle;\n",
       "    }\n",
       "\n",
       "    .dataframe tbody tr th {\n",
       "        vertical-align: top;\n",
       "    }\n",
       "\n",
       "    .dataframe thead th {\n",
       "        text-align: right;\n",
       "    }\n",
       "</style>\n",
       "<table border=\"1\" class=\"dataframe\">\n",
       "  <thead>\n",
       "    <tr style=\"text-align: right;\">\n",
       "      <th></th>\n",
       "      <th>D1</th>\n",
       "      <th>D2</th>\n",
       "      <th>D3</th>\n",
       "      <th>D4</th>\n",
       "      <th>D5</th>\n",
       "      <th>D6</th>\n",
       "      <th>D7</th>\n",
       "      <th>D8</th>\n",
       "      <th>D9</th>\n",
       "      <th>D10</th>\n",
       "    </tr>\n",
       "  </thead>\n",
       "  <tbody>\n",
       "    <tr>\n",
       "      <th>Lap1</th>\n",
       "      <td>140.513464</td>\n",
       "      <td>144.48517</td>\n",
       "      <td>144.423656</td>\n",
       "      <td>149.241472</td>\n",
       "      <td>159.730744</td>\n",
       "      <td>158.514737</td>\n",
       "      <td>154.302185</td>\n",
       "      <td>152.262832</td>\n",
       "      <td>144.453595</td>\n",
       "      <td>159.082678</td>\n",
       "    </tr>\n",
       "    <tr>\n",
       "      <th>Lap2</th>\n",
       "      <td>156.386572</td>\n",
       "      <td>139.685401</td>\n",
       "      <td>135.02373</td>\n",
       "      <td>145.207736</td>\n",
       "      <td>149.390937</td>\n",
       "      <td>113.985897</td>\n",
       "      <td>141.741339</td>\n",
       "      <td>156.141534</td>\n",
       "      <td>147.219965</td>\n",
       "      <td>135.798169</td>\n",
       "    </tr>\n",
       "  </tbody>\n",
       "</table>\n",
       "</div>"
      ],
      "text/plain": [
       "              D1          D2          D3          D4          D5          D6  \\\n",
       "Lap1  140.513464   144.48517  144.423656  149.241472  159.730744  158.514737   \n",
       "Lap2  156.386572  139.685401   135.02373  145.207736  149.390937  113.985897   \n",
       "\n",
       "              D7          D8          D9         D10  \n",
       "Lap1  154.302185  152.262832  144.453595  159.082678  \n",
       "Lap2  141.741339  156.141534  147.219965  135.798169  "
      ]
     },
     "execution_count": 4,
     "metadata": {},
     "output_type": "execute_result"
    }
   ],
   "source": [
    "#View the dataset\n",
    "Laps"
   ]
  },
  {
   "cell_type": "markdown",
   "id": "62c2feb6",
   "metadata": {},
   "source": [
    "The structure of the dataframe is not visually pleasing in my opinion, especially that we have ten columns and only two rows. Try transposing the dataframe: "
   ]
  },
  {
   "cell_type": "code",
   "execution_count": 5,
   "id": "efe5bf81",
   "metadata": {},
   "outputs": [],
   "source": [
    "#Transpose the dataset\n",
    "Laps = Laps.transpose()"
   ]
  },
  {
   "cell_type": "code",
   "execution_count": 6,
   "id": "b65f6257",
   "metadata": {},
   "outputs": [
    {
     "data": {
      "text/html": [
       "<div>\n",
       "<style scoped>\n",
       "    .dataframe tbody tr th:only-of-type {\n",
       "        vertical-align: middle;\n",
       "    }\n",
       "\n",
       "    .dataframe tbody tr th {\n",
       "        vertical-align: top;\n",
       "    }\n",
       "\n",
       "    .dataframe thead th {\n",
       "        text-align: right;\n",
       "    }\n",
       "</style>\n",
       "<table border=\"1\" class=\"dataframe\">\n",
       "  <thead>\n",
       "    <tr style=\"text-align: right;\">\n",
       "      <th></th>\n",
       "      <th>Lap1</th>\n",
       "      <th>Lap2</th>\n",
       "    </tr>\n",
       "  </thead>\n",
       "  <tbody>\n",
       "    <tr>\n",
       "      <th>D1</th>\n",
       "      <td>140.513464</td>\n",
       "      <td>156.386572</td>\n",
       "    </tr>\n",
       "    <tr>\n",
       "      <th>D2</th>\n",
       "      <td>144.48517</td>\n",
       "      <td>139.685401</td>\n",
       "    </tr>\n",
       "    <tr>\n",
       "      <th>D3</th>\n",
       "      <td>144.423656</td>\n",
       "      <td>135.02373</td>\n",
       "    </tr>\n",
       "    <tr>\n",
       "      <th>D4</th>\n",
       "      <td>149.241472</td>\n",
       "      <td>145.207736</td>\n",
       "    </tr>\n",
       "    <tr>\n",
       "      <th>D5</th>\n",
       "      <td>159.730744</td>\n",
       "      <td>149.390937</td>\n",
       "    </tr>\n",
       "    <tr>\n",
       "      <th>D6</th>\n",
       "      <td>158.514737</td>\n",
       "      <td>113.985897</td>\n",
       "    </tr>\n",
       "    <tr>\n",
       "      <th>D7</th>\n",
       "      <td>154.302185</td>\n",
       "      <td>141.741339</td>\n",
       "    </tr>\n",
       "    <tr>\n",
       "      <th>D8</th>\n",
       "      <td>152.262832</td>\n",
       "      <td>156.141534</td>\n",
       "    </tr>\n",
       "    <tr>\n",
       "      <th>D9</th>\n",
       "      <td>144.453595</td>\n",
       "      <td>147.219965</td>\n",
       "    </tr>\n",
       "    <tr>\n",
       "      <th>D10</th>\n",
       "      <td>159.082678</td>\n",
       "      <td>135.798169</td>\n",
       "    </tr>\n",
       "  </tbody>\n",
       "</table>\n",
       "</div>"
      ],
      "text/plain": [
       "           Lap1        Lap2\n",
       "D1   140.513464  156.386572\n",
       "D2    144.48517  139.685401\n",
       "D3   144.423656   135.02373\n",
       "D4   149.241472  145.207736\n",
       "D5   159.730744  149.390937\n",
       "D6   158.514737  113.985897\n",
       "D7   154.302185  141.741339\n",
       "D8   152.262832  156.141534\n",
       "D9   144.453595  147.219965\n",
       "D10  159.082678  135.798169"
      ]
     },
     "execution_count": 6,
     "metadata": {},
     "output_type": "execute_result"
    }
   ],
   "source": [
    "#View the dataset\n",
    "Laps"
   ]
  },
  {
   "cell_type": "markdown",
   "id": "ac0d9a7d",
   "metadata": {},
   "source": [
    "This looks much better, let us now proceed. \n",
    "\n",
    "Now, create a column for lap 3 times where drivers who score better lap times in their second lap than their first lap have their data generated from a normal distribution of mean of 140 and standard deviation of 5, and drivers who score worse in their second lap than their first lap have their lap 3 times generated from a normal distribution of mean 155 and standard deviation of 5. This can be thought of in the following sense: The drivers who do better in lap 2 than lap 1 are more likely to be motivated and improve on their lap 2 times with a faster lap 3 time, and people who score worse in lap 2 might be disappointed and thus more likely to score worse in lap 3. (Of course you can argue that this is not usually the case in real life, but for simplicity, we will proceed with it as it will help us in the explanation of the different missing data types)."
   ]
  },
  {
   "cell_type": "code",
   "execution_count": 7,
   "id": "99253131",
   "metadata": {},
   "outputs": [],
   "source": [
    "#Create the column Lap 3 following the scenario mentioned above\n",
    "Lap3 = [] #create a separate array\n",
    "for i in range(Laps.shape[0]): #this ensures length compatability logically\n",
    "    if Laps.iloc[i]['Lap2'] - Laps.iloc[i]['Lap1']  < 0 :\n",
    "        Lap3.append(rand.normal(140,5,1)[0])\n",
    "    else: \n",
    "        Lap3.append(rand.normal(155,5,1)[0])\n",
    "Laps['Lap3'] = Lap3 #add the array to the dataframe as a new column."
   ]
  },
  {
   "cell_type": "code",
   "execution_count": 8,
   "id": "a15f8ae0",
   "metadata": {},
   "outputs": [
    {
     "data": {
      "text/html": [
       "<div>\n",
       "<style scoped>\n",
       "    .dataframe tbody tr th:only-of-type {\n",
       "        vertical-align: middle;\n",
       "    }\n",
       "\n",
       "    .dataframe tbody tr th {\n",
       "        vertical-align: top;\n",
       "    }\n",
       "\n",
       "    .dataframe thead th {\n",
       "        text-align: right;\n",
       "    }\n",
       "</style>\n",
       "<table border=\"1\" class=\"dataframe\">\n",
       "  <thead>\n",
       "    <tr style=\"text-align: right;\">\n",
       "      <th></th>\n",
       "      <th>Lap1</th>\n",
       "      <th>Lap2</th>\n",
       "      <th>Lap3</th>\n",
       "    </tr>\n",
       "  </thead>\n",
       "  <tbody>\n",
       "    <tr>\n",
       "      <th>D1</th>\n",
       "      <td>140.513464</td>\n",
       "      <td>156.386572</td>\n",
       "      <td>161.056708</td>\n",
       "    </tr>\n",
       "    <tr>\n",
       "      <th>D2</th>\n",
       "      <td>144.48517</td>\n",
       "      <td>139.685401</td>\n",
       "      <td>141.023057</td>\n",
       "    </tr>\n",
       "    <tr>\n",
       "      <th>D3</th>\n",
       "      <td>144.423656</td>\n",
       "      <td>135.02373</td>\n",
       "      <td>142.886670</td>\n",
       "    </tr>\n",
       "    <tr>\n",
       "      <th>D4</th>\n",
       "      <td>149.241472</td>\n",
       "      <td>145.207736</td>\n",
       "      <td>139.542451</td>\n",
       "    </tr>\n",
       "    <tr>\n",
       "      <th>D5</th>\n",
       "      <td>159.730744</td>\n",
       "      <td>149.390937</td>\n",
       "      <td>139.077916</td>\n",
       "    </tr>\n",
       "    <tr>\n",
       "      <th>D6</th>\n",
       "      <td>158.514737</td>\n",
       "      <td>113.985897</td>\n",
       "      <td>140.402463</td>\n",
       "    </tr>\n",
       "    <tr>\n",
       "      <th>D7</th>\n",
       "      <td>154.302185</td>\n",
       "      <td>141.741339</td>\n",
       "      <td>139.893269</td>\n",
       "    </tr>\n",
       "    <tr>\n",
       "      <th>D8</th>\n",
       "      <td>152.262832</td>\n",
       "      <td>156.141534</td>\n",
       "      <td>154.657206</td>\n",
       "    </tr>\n",
       "    <tr>\n",
       "      <th>D9</th>\n",
       "      <td>144.453595</td>\n",
       "      <td>147.219965</td>\n",
       "      <td>156.025154</td>\n",
       "    </tr>\n",
       "    <tr>\n",
       "      <th>D10</th>\n",
       "      <td>159.082678</td>\n",
       "      <td>135.798169</td>\n",
       "      <td>144.653795</td>\n",
       "    </tr>\n",
       "  </tbody>\n",
       "</table>\n",
       "</div>"
      ],
      "text/plain": [
       "           Lap1        Lap2        Lap3\n",
       "D1   140.513464  156.386572  161.056708\n",
       "D2    144.48517  139.685401  141.023057\n",
       "D3   144.423656   135.02373  142.886670\n",
       "D4   149.241472  145.207736  139.542451\n",
       "D5   159.730744  149.390937  139.077916\n",
       "D6   158.514737  113.985897  140.402463\n",
       "D7   154.302185  141.741339  139.893269\n",
       "D8   152.262832  156.141534  154.657206\n",
       "D9   144.453595  147.219965  156.025154\n",
       "D10  159.082678  135.798169  144.653795"
      ]
     },
     "execution_count": 8,
     "metadata": {},
     "output_type": "execute_result"
    }
   ],
   "source": [
    "#View the dataset\n",
    "Laps"
   ]
  },
  {
   "cell_type": "markdown",
   "id": "d3b4f8f7",
   "metadata": {},
   "source": [
    "## Missing Completely At Random (MCAR)"
   ]
  },
  {
   "cell_type": "markdown",
   "id": "1a1665c9",
   "metadata": {},
   "source": [
    "From its name, missing data are said to be missing completely at random if they are missing due to completely random reasons. There is no specific pattern in the dataset: \n",
    "- No relationships between the variable with missing values and other variables.\n",
    "- No relationship between the variable with missing values and itself. \n",
    "\n",
    "An example for this in our dataset would be:\n",
    "- The tracking device on one of the cars suddenly got damaged.\n",
    "- A cars' engine broke down before finishing one of the laps.\n",
    "\n",
    "We are now going to create a column called MCAR which could represent Lap 3 times from real life data where the missing Lap 3 times for some of the drivers are missing completely at random. \n",
    "\n",
    "There are plenty of ways to do so, but the one I would hint towards is multiplying each lap 3 times with a number simulated from a binomial distribution with probability of success equalling 0.5 "
   ]
  },
  {
   "cell_type": "code",
   "execution_count": 9,
   "id": "a240ed1b",
   "metadata": {},
   "outputs": [],
   "source": [
    "#Create the column called MCAR for Lap 3 times, with some of them missing completely at random\n",
    "Laps['MCAR']= Laps['Lap3']*rand.binomial(1,0.5,len(Laps['Lap3']))"
   ]
  },
  {
   "cell_type": "code",
   "execution_count": 10,
   "id": "4e940ad2",
   "metadata": {},
   "outputs": [
    {
     "data": {
      "text/html": [
       "<div>\n",
       "<style scoped>\n",
       "    .dataframe tbody tr th:only-of-type {\n",
       "        vertical-align: middle;\n",
       "    }\n",
       "\n",
       "    .dataframe tbody tr th {\n",
       "        vertical-align: top;\n",
       "    }\n",
       "\n",
       "    .dataframe thead th {\n",
       "        text-align: right;\n",
       "    }\n",
       "</style>\n",
       "<table border=\"1\" class=\"dataframe\">\n",
       "  <thead>\n",
       "    <tr style=\"text-align: right;\">\n",
       "      <th></th>\n",
       "      <th>Lap1</th>\n",
       "      <th>Lap2</th>\n",
       "      <th>Lap3</th>\n",
       "      <th>MCAR</th>\n",
       "    </tr>\n",
       "  </thead>\n",
       "  <tbody>\n",
       "    <tr>\n",
       "      <th>D1</th>\n",
       "      <td>140.513464</td>\n",
       "      <td>156.386572</td>\n",
       "      <td>161.056708</td>\n",
       "      <td>0.000000</td>\n",
       "    </tr>\n",
       "    <tr>\n",
       "      <th>D2</th>\n",
       "      <td>144.48517</td>\n",
       "      <td>139.685401</td>\n",
       "      <td>141.023057</td>\n",
       "      <td>141.023057</td>\n",
       "    </tr>\n",
       "    <tr>\n",
       "      <th>D3</th>\n",
       "      <td>144.423656</td>\n",
       "      <td>135.02373</td>\n",
       "      <td>142.886670</td>\n",
       "      <td>142.886670</td>\n",
       "    </tr>\n",
       "    <tr>\n",
       "      <th>D4</th>\n",
       "      <td>149.241472</td>\n",
       "      <td>145.207736</td>\n",
       "      <td>139.542451</td>\n",
       "      <td>139.542451</td>\n",
       "    </tr>\n",
       "    <tr>\n",
       "      <th>D5</th>\n",
       "      <td>159.730744</td>\n",
       "      <td>149.390937</td>\n",
       "      <td>139.077916</td>\n",
       "      <td>0.000000</td>\n",
       "    </tr>\n",
       "    <tr>\n",
       "      <th>D6</th>\n",
       "      <td>158.514737</td>\n",
       "      <td>113.985897</td>\n",
       "      <td>140.402463</td>\n",
       "      <td>0.000000</td>\n",
       "    </tr>\n",
       "    <tr>\n",
       "      <th>D7</th>\n",
       "      <td>154.302185</td>\n",
       "      <td>141.741339</td>\n",
       "      <td>139.893269</td>\n",
       "      <td>0.000000</td>\n",
       "    </tr>\n",
       "    <tr>\n",
       "      <th>D8</th>\n",
       "      <td>152.262832</td>\n",
       "      <td>156.141534</td>\n",
       "      <td>154.657206</td>\n",
       "      <td>154.657206</td>\n",
       "    </tr>\n",
       "    <tr>\n",
       "      <th>D9</th>\n",
       "      <td>144.453595</td>\n",
       "      <td>147.219965</td>\n",
       "      <td>156.025154</td>\n",
       "      <td>0.000000</td>\n",
       "    </tr>\n",
       "    <tr>\n",
       "      <th>D10</th>\n",
       "      <td>159.082678</td>\n",
       "      <td>135.798169</td>\n",
       "      <td>144.653795</td>\n",
       "      <td>0.000000</td>\n",
       "    </tr>\n",
       "  </tbody>\n",
       "</table>\n",
       "</div>"
      ],
      "text/plain": [
       "           Lap1        Lap2        Lap3        MCAR\n",
       "D1   140.513464  156.386572  161.056708    0.000000\n",
       "D2    144.48517  139.685401  141.023057  141.023057\n",
       "D3   144.423656   135.02373  142.886670  142.886670\n",
       "D4   149.241472  145.207736  139.542451  139.542451\n",
       "D5   159.730744  149.390937  139.077916    0.000000\n",
       "D6   158.514737  113.985897  140.402463    0.000000\n",
       "D7   154.302185  141.741339  139.893269    0.000000\n",
       "D8   152.262832  156.141534  154.657206  154.657206\n",
       "D9   144.453595  147.219965  156.025154    0.000000\n",
       "D10  159.082678  135.798169  144.653795    0.000000"
      ]
     },
     "execution_count": 10,
     "metadata": {},
     "output_type": "execute_result"
    }
   ],
   "source": [
    "#View the dataset\n",
    "Laps"
   ]
  },
  {
   "cell_type": "markdown",
   "id": "8a84fd17",
   "metadata": {},
   "source": [
    "## Missing At Random (MAR)"
   ]
  },
  {
   "cell_type": "markdown",
   "id": "50265249",
   "metadata": {},
   "source": [
    "Missing values are said to be Missing at Random if they are missing due to a dependance on other variable/s. This means that for any observation, a variable being missing depends on other variable/s' values. An example for this in our dataset would be: \n",
    "\n",
    "- Drivers who scored 10-seconds slower lap 2 times or more than lap 1 times are ordered by their teams not to attempt a third lap as this might indicate loss of power in the car's engine. So, the availability of lap 3 times are affected by the times for laps 1 and 2. "
   ]
  },
  {
   "cell_type": "code",
   "execution_count": 11,
   "id": "72e48a13",
   "metadata": {},
   "outputs": [],
   "source": [
    "#Create a column called MAR that follows the scenario in the above bulletpoint\n",
    "Laps['MAR'] = Laps['Lap3']* (Laps['Lap2']>= Laps['Lap1']-10)"
   ]
  },
  {
   "cell_type": "code",
   "execution_count": 12,
   "id": "40862525",
   "metadata": {},
   "outputs": [
    {
     "data": {
      "text/html": [
       "<div>\n",
       "<style scoped>\n",
       "    .dataframe tbody tr th:only-of-type {\n",
       "        vertical-align: middle;\n",
       "    }\n",
       "\n",
       "    .dataframe tbody tr th {\n",
       "        vertical-align: top;\n",
       "    }\n",
       "\n",
       "    .dataframe thead th {\n",
       "        text-align: right;\n",
       "    }\n",
       "</style>\n",
       "<table border=\"1\" class=\"dataframe\">\n",
       "  <thead>\n",
       "    <tr style=\"text-align: right;\">\n",
       "      <th></th>\n",
       "      <th>Lap1</th>\n",
       "      <th>Lap2</th>\n",
       "      <th>Lap3</th>\n",
       "      <th>MCAR</th>\n",
       "      <th>MAR</th>\n",
       "    </tr>\n",
       "  </thead>\n",
       "  <tbody>\n",
       "    <tr>\n",
       "      <th>D1</th>\n",
       "      <td>140.513464</td>\n",
       "      <td>156.386572</td>\n",
       "      <td>161.056708</td>\n",
       "      <td>0.000000</td>\n",
       "      <td>161.056708</td>\n",
       "    </tr>\n",
       "    <tr>\n",
       "      <th>D2</th>\n",
       "      <td>144.48517</td>\n",
       "      <td>139.685401</td>\n",
       "      <td>141.023057</td>\n",
       "      <td>141.023057</td>\n",
       "      <td>141.023057</td>\n",
       "    </tr>\n",
       "    <tr>\n",
       "      <th>D3</th>\n",
       "      <td>144.423656</td>\n",
       "      <td>135.02373</td>\n",
       "      <td>142.886670</td>\n",
       "      <td>142.886670</td>\n",
       "      <td>142.886670</td>\n",
       "    </tr>\n",
       "    <tr>\n",
       "      <th>D4</th>\n",
       "      <td>149.241472</td>\n",
       "      <td>145.207736</td>\n",
       "      <td>139.542451</td>\n",
       "      <td>139.542451</td>\n",
       "      <td>139.542451</td>\n",
       "    </tr>\n",
       "    <tr>\n",
       "      <th>D5</th>\n",
       "      <td>159.730744</td>\n",
       "      <td>149.390937</td>\n",
       "      <td>139.077916</td>\n",
       "      <td>0.000000</td>\n",
       "      <td>0.000000</td>\n",
       "    </tr>\n",
       "    <tr>\n",
       "      <th>D6</th>\n",
       "      <td>158.514737</td>\n",
       "      <td>113.985897</td>\n",
       "      <td>140.402463</td>\n",
       "      <td>0.000000</td>\n",
       "      <td>0.000000</td>\n",
       "    </tr>\n",
       "    <tr>\n",
       "      <th>D7</th>\n",
       "      <td>154.302185</td>\n",
       "      <td>141.741339</td>\n",
       "      <td>139.893269</td>\n",
       "      <td>0.000000</td>\n",
       "      <td>0.000000</td>\n",
       "    </tr>\n",
       "    <tr>\n",
       "      <th>D8</th>\n",
       "      <td>152.262832</td>\n",
       "      <td>156.141534</td>\n",
       "      <td>154.657206</td>\n",
       "      <td>154.657206</td>\n",
       "      <td>154.657206</td>\n",
       "    </tr>\n",
       "    <tr>\n",
       "      <th>D9</th>\n",
       "      <td>144.453595</td>\n",
       "      <td>147.219965</td>\n",
       "      <td>156.025154</td>\n",
       "      <td>0.000000</td>\n",
       "      <td>156.025154</td>\n",
       "    </tr>\n",
       "    <tr>\n",
       "      <th>D10</th>\n",
       "      <td>159.082678</td>\n",
       "      <td>135.798169</td>\n",
       "      <td>144.653795</td>\n",
       "      <td>0.000000</td>\n",
       "      <td>0.000000</td>\n",
       "    </tr>\n",
       "  </tbody>\n",
       "</table>\n",
       "</div>"
      ],
      "text/plain": [
       "           Lap1        Lap2        Lap3        MCAR         MAR\n",
       "D1   140.513464  156.386572  161.056708    0.000000  161.056708\n",
       "D2    144.48517  139.685401  141.023057  141.023057  141.023057\n",
       "D3   144.423656   135.02373  142.886670  142.886670  142.886670\n",
       "D4   149.241472  145.207736  139.542451  139.542451  139.542451\n",
       "D5   159.730744  149.390937  139.077916    0.000000    0.000000\n",
       "D6   158.514737  113.985897  140.402463    0.000000    0.000000\n",
       "D7   154.302185  141.741339  139.893269    0.000000    0.000000\n",
       "D8   152.262832  156.141534  154.657206  154.657206  154.657206\n",
       "D9   144.453595  147.219965  156.025154    0.000000  156.025154\n",
       "D10  159.082678  135.798169  144.653795    0.000000    0.000000"
      ]
     },
     "execution_count": 12,
     "metadata": {},
     "output_type": "execute_result"
    }
   ],
   "source": [
    "#View the dataset\n",
    "Laps"
   ]
  },
  {
   "cell_type": "markdown",
   "id": "b4017f10",
   "metadata": {},
   "source": [
    "## Missing Not at Random (MNAR)"
   ]
  },
  {
   "cell_type": "markdown",
   "id": "25782e2c",
   "metadata": {},
   "source": [
    "Missing values are said to be Missing Not at Random if they are missing because of their values themselves. This might sound unintuitive, but here is an example from our dataset that will make it clearer: \n",
    "\n",
    "- Assume that drivers on this track generally score in the range of 120-160 seconds. Drivers who score above 160 seconds on Lap 3 get disheartened by that and sometimes decide not to report their scores as they are afraid it will reflect badly on their performance. This means that missing values in lap 3 are missing because of the time scored in lap 3."
   ]
  },
  {
   "cell_type": "code",
   "execution_count": 13,
   "id": "f4ddb918",
   "metadata": {},
   "outputs": [],
   "source": [
    "#Create a column called MNAR that follows the scenario in the above bulletpoint\n",
    "Laps['MNAR'] = Laps['Lap3']* (Laps['Lap3']<=150)"
   ]
  },
  {
   "cell_type": "code",
   "execution_count": 14,
   "id": "71570642",
   "metadata": {},
   "outputs": [
    {
     "data": {
      "text/html": [
       "<div>\n",
       "<style scoped>\n",
       "    .dataframe tbody tr th:only-of-type {\n",
       "        vertical-align: middle;\n",
       "    }\n",
       "\n",
       "    .dataframe tbody tr th {\n",
       "        vertical-align: top;\n",
       "    }\n",
       "\n",
       "    .dataframe thead th {\n",
       "        text-align: right;\n",
       "    }\n",
       "</style>\n",
       "<table border=\"1\" class=\"dataframe\">\n",
       "  <thead>\n",
       "    <tr style=\"text-align: right;\">\n",
       "      <th></th>\n",
       "      <th>Lap1</th>\n",
       "      <th>Lap2</th>\n",
       "      <th>Lap3</th>\n",
       "      <th>MCAR</th>\n",
       "      <th>MAR</th>\n",
       "      <th>MNAR</th>\n",
       "    </tr>\n",
       "  </thead>\n",
       "  <tbody>\n",
       "    <tr>\n",
       "      <th>D1</th>\n",
       "      <td>140.513464</td>\n",
       "      <td>156.386572</td>\n",
       "      <td>161.056708</td>\n",
       "      <td>0.000000</td>\n",
       "      <td>161.056708</td>\n",
       "      <td>0.000000</td>\n",
       "    </tr>\n",
       "    <tr>\n",
       "      <th>D2</th>\n",
       "      <td>144.48517</td>\n",
       "      <td>139.685401</td>\n",
       "      <td>141.023057</td>\n",
       "      <td>141.023057</td>\n",
       "      <td>141.023057</td>\n",
       "      <td>141.023057</td>\n",
       "    </tr>\n",
       "    <tr>\n",
       "      <th>D3</th>\n",
       "      <td>144.423656</td>\n",
       "      <td>135.02373</td>\n",
       "      <td>142.886670</td>\n",
       "      <td>142.886670</td>\n",
       "      <td>142.886670</td>\n",
       "      <td>142.886670</td>\n",
       "    </tr>\n",
       "    <tr>\n",
       "      <th>D4</th>\n",
       "      <td>149.241472</td>\n",
       "      <td>145.207736</td>\n",
       "      <td>139.542451</td>\n",
       "      <td>139.542451</td>\n",
       "      <td>139.542451</td>\n",
       "      <td>139.542451</td>\n",
       "    </tr>\n",
       "    <tr>\n",
       "      <th>D5</th>\n",
       "      <td>159.730744</td>\n",
       "      <td>149.390937</td>\n",
       "      <td>139.077916</td>\n",
       "      <td>0.000000</td>\n",
       "      <td>0.000000</td>\n",
       "      <td>139.077916</td>\n",
       "    </tr>\n",
       "    <tr>\n",
       "      <th>D6</th>\n",
       "      <td>158.514737</td>\n",
       "      <td>113.985897</td>\n",
       "      <td>140.402463</td>\n",
       "      <td>0.000000</td>\n",
       "      <td>0.000000</td>\n",
       "      <td>140.402463</td>\n",
       "    </tr>\n",
       "    <tr>\n",
       "      <th>D7</th>\n",
       "      <td>154.302185</td>\n",
       "      <td>141.741339</td>\n",
       "      <td>139.893269</td>\n",
       "      <td>0.000000</td>\n",
       "      <td>0.000000</td>\n",
       "      <td>139.893269</td>\n",
       "    </tr>\n",
       "    <tr>\n",
       "      <th>D8</th>\n",
       "      <td>152.262832</td>\n",
       "      <td>156.141534</td>\n",
       "      <td>154.657206</td>\n",
       "      <td>154.657206</td>\n",
       "      <td>154.657206</td>\n",
       "      <td>0.000000</td>\n",
       "    </tr>\n",
       "    <tr>\n",
       "      <th>D9</th>\n",
       "      <td>144.453595</td>\n",
       "      <td>147.219965</td>\n",
       "      <td>156.025154</td>\n",
       "      <td>0.000000</td>\n",
       "      <td>156.025154</td>\n",
       "      <td>0.000000</td>\n",
       "    </tr>\n",
       "    <tr>\n",
       "      <th>D10</th>\n",
       "      <td>159.082678</td>\n",
       "      <td>135.798169</td>\n",
       "      <td>144.653795</td>\n",
       "      <td>0.000000</td>\n",
       "      <td>0.000000</td>\n",
       "      <td>144.653795</td>\n",
       "    </tr>\n",
       "  </tbody>\n",
       "</table>\n",
       "</div>"
      ],
      "text/plain": [
       "           Lap1        Lap2        Lap3        MCAR         MAR        MNAR\n",
       "D1   140.513464  156.386572  161.056708    0.000000  161.056708    0.000000\n",
       "D2    144.48517  139.685401  141.023057  141.023057  141.023057  141.023057\n",
       "D3   144.423656   135.02373  142.886670  142.886670  142.886670  142.886670\n",
       "D4   149.241472  145.207736  139.542451  139.542451  139.542451  139.542451\n",
       "D5   159.730744  149.390937  139.077916    0.000000    0.000000  139.077916\n",
       "D6   158.514737  113.985897  140.402463    0.000000    0.000000  140.402463\n",
       "D7   154.302185  141.741339  139.893269    0.000000    0.000000  139.893269\n",
       "D8   152.262832  156.141534  154.657206  154.657206  154.657206    0.000000\n",
       "D9   144.453595  147.219965  156.025154    0.000000  156.025154    0.000000\n",
       "D10  159.082678  135.798169  144.653795    0.000000    0.000000  144.653795"
      ]
     },
     "execution_count": 14,
     "metadata": {},
     "output_type": "execute_result"
    }
   ],
   "source": [
    "#View the dataset\n",
    "Laps"
   ]
  },
  {
   "cell_type": "markdown",
   "id": "74a3bf41",
   "metadata": {},
   "source": [
    "A good question right now would be: How to detect whether the missing values in your dataset are MCAR, MAR or MNAR? \n",
    "\n",
    "Here is a good discussion I found on Kaggle: https://www.kaggle.com/questions-and-answers/105010 \n",
    "\n",
    "Now, we move onto the more advanced missing value imputation methods, starting with Expectation Maximization."
   ]
  },
  {
   "cell_type": "markdown",
   "id": "8b199dd6",
   "metadata": {},
   "source": [
    "## Expectation Maximization"
   ]
  },
  {
   "cell_type": "markdown",
   "id": "bcd24cdb",
   "metadata": {},
   "source": [
    "Expectation Maximization is an iterative algorithm used to calculate the maximum likelihood estimates for the parameters of a statistical model that depends on latent variables (or unobserved variables). Due to its nature of working with statistical models of unobserved variables, it is suitable for missing data imputations.\n",
    "\n",
    "In more details, suppose you have an explicit form for the joint distribution of $X_{obs}$ (the observed data), and $X_{mis}$ (the missing data). The goal is to estimate the parameters $\\theta \\in \\mathbb{R}^{d}$ for the statistical model of the joint distribution ($X_{obs}$,$X_{mis}$) by calculating the maximum likelihood estimates for the likelihood function of the marginal distribution of $X_{obs}$. We have that:\n",
    "$$\n",
    "L(\\theta ; X_{obs}) = p(X_{obs} | \\theta) = \\int p(X_{obs},X_{mis} | \\theta) \\, dX_{mis} = \\int p(X_{obs} | X_{mis},\\theta) p(X_{mis}|\\theta) \\, dX_{mis} \n",
    "$$\n",
    "As we do not observe the missing values $X_{mis}$, we cannot always compute the above explicitly. \n",
    "\n",
    "This is where EM comes into play. It obtains the maximum likelihood estimates for the marginal distribution of $X_{obs}$ by iteratively maximizing the expected complete-data log likelihood. Here are the two steps of the iteration:\n",
    "\n",
    "Start with an initial estimate $\\theta^{(0)}$ and let $\\theta^{(t)}$ be the iterate for the parameter $\\theta$ in the  $t^{th}$ iteration of the algorithm.\n",
    "\n",
    "<b> 1) Expectation: </b> Compute the expectation of the log likelihood of the complete-data with respect to the conditional distribution of $X_{mis}$ parameterized by $\\theta^{(t)}$: \n",
    "$$\n",
    "Q(\\theta, \\theta^{(t)}) = \\mathbb{E}_{X_{mis} | X_{obs},\\theta^{(t)}}[log(l(\\theta ; X_{obs}, X_{mis})]\n",
    "$$\n",
    "\n",
    "<b> 2) Maximization: </b> Obtain the value of $\\theta$ that maximizes Q($\\theta$, $\\theta^{(t)})$:\n",
    "\n",
    "$$\n",
    "\\theta^{(t+1)} = argmax_{\\theta} \\, Q(\\theta, \\theta^{(t)})\n",
    "$$\n",
    "\n",
    "The algorithm keeps iterating until it reaches a point where the difference between the estimates is negligible, and the algorithm is thought to have converged.\n",
    "\n",
    "In a nutshell, the algorithm starts with $\\theta^{(0)}$, then it estimates the values for the missing data using the observed data and the parameters $\\theta^{(0)}$, then it calculates the maximum likelihood parameter estimates for the complete-data, then it estimates new values for the previous missing data, and then the process keeps repeating until it converges. \n",
    "\n",
    "\n",
    "Expectation Maximization only works with MCAR and MAR missing data, and it works specifically well with distributions from the exponential family. One thing to bear in mind is that it calculates the local maximum likelihood estimates, and so for multimodal distributions, the global likelihood might not be obtained. \n",
    "\n",
    "- - - - - -\n",
    "\n",
    "Let us work through a simulated dataset from a multivariate normal distribution, where we are going to remove data randomly using the help of a binomial distribution as we did before; so that they fall under the MCAR missing data category.\n",
    "\n",
    "We are going to simulate random vectors of size 3 from a multivariate normal distribution with the following mean vector and variance covariance matrix (Feel free to change the parameters if you'd like):"
   ]
  },
  {
   "cell_type": "code",
   "execution_count": 15,
   "id": "32012fdf",
   "metadata": {},
   "outputs": [
    {
     "data": {
      "text/plain": [
       "array([6.0604922 , 4.82109489, 9.23929336])"
      ]
     },
     "execution_count": 15,
     "metadata": {},
     "output_type": "execute_result"
    }
   ],
   "source": [
    "#The mean vector\n",
    "Mean = rand.normal(10,5,3)\n",
    "Mean"
   ]
  },
  {
   "cell_type": "code",
   "execution_count": 16,
   "id": "1d1dccf0",
   "metadata": {},
   "outputs": [
    {
     "data": {
      "text/plain": [
       "array([[1, 1, 1],\n",
       "       [1, 1, 1],\n",
       "       [1, 1, 1]])"
      ]
     },
     "execution_count": 16,
     "metadata": {},
     "output_type": "execute_result"
    }
   ],
   "source": [
    "#The variance-covariance matrix\n",
    "Cov_matrix = np.array([[1,1,1], [1,1,1], [1,1,1]])\n",
    "Cov_matrix"
   ]
  },
  {
   "cell_type": "code",
   "execution_count": 17,
   "id": "70631dd4",
   "metadata": {},
   "outputs": [],
   "source": [
    "#Generate 200 vectors from a multivariate normal distribution with the mean vector and var-cov matrix specified above \n",
    "vect = rand.multivariate_normal(mean =Mean,cov = Cov_matrix, size = (200))"
   ]
  },
  {
   "cell_type": "code",
   "execution_count": 18,
   "id": "364ecd72",
   "metadata": {},
   "outputs": [
    {
     "name": "stdout",
     "output_type": "stream",
     "text": [
      "[[ 7.12346343  5.88406613 10.3022646 ]\n",
      " [ 7.71302533  6.47362801 10.89182648]\n",
      " [ 7.01977704  5.78037972 10.19857819]\n",
      " [ 5.40145324  4.16205593  8.5802544 ]\n",
      " [ 7.07397567  5.83457836 10.25277683]\n",
      " [ 5.40364349  4.16424618  8.58244465]\n",
      " [ 4.02947592  2.7900786   7.20827707]\n",
      " [ 4.68829678  3.44889947  7.86709794]\n",
      " [ 5.97886806  4.73947074  9.15766921]\n",
      " [ 5.67825802  4.43886071  8.85705918]]\n"
     ]
    }
   ],
   "source": [
    "#View the first 10 vectors\n",
    "print(vect[0:10])"
   ]
  },
  {
   "cell_type": "markdown",
   "id": "74dc4d38",
   "metadata": {},
   "source": [
    "Now, we are going to remove some of the data randomly from the third entry of the vectors so that we could then try imputing them using EM and other simple imputations methods. \n",
    "\n",
    "Let us start by creating a copy from the array so that we could have a full array and another array with MCAR values in the third entry that we could impute and compare to the original array."
   ]
  },
  {
   "cell_type": "code",
   "execution_count": 19,
   "id": "c88b7d35",
   "metadata": {},
   "outputs": [],
   "source": [
    "#Create a copy from the original array\n",
    "sim_array_missing = vect.copy()\n"
   ]
  },
  {
   "cell_type": "code",
   "execution_count": 20,
   "id": "ab9df334",
   "metadata": {},
   "outputs": [],
   "source": [
    "#Remove data from the third entry randomly (as done before)\n",
    "sim_array_missing[:,2] = sim_array_missing[:,2]*rand.binomial(1,0.5,200)\n",
    "sim_array_missing[:,2] = np.where(sim_array_missing[:,2] == 0, np.nan, sim_array_missing[:,2])"
   ]
  },
  {
   "cell_type": "markdown",
   "id": "3e6d6ec3",
   "metadata": {},
   "source": [
    "Download a library called `impyute` using `pip install impyute`. \n",
    "\n",
    "Then, import impyute as impy into the notebook:"
   ]
  },
  {
   "cell_type": "code",
   "execution_count": 21,
   "id": "627d22c7",
   "metadata": {},
   "outputs": [],
   "source": [
    "#import impyute\n",
    "import impyute as impy"
   ]
  },
  {
   "cell_type": "markdown",
   "id": "27b10107",
   "metadata": {},
   "source": [
    "Quickly research how impyute is used, and then create three arrays where each array has its missing values imputed using one of the following methods: \n",
    "\n",
    "- Expectation Maximization\n",
    "- Mean\n",
    "- Median "
   ]
  },
  {
   "cell_type": "code",
   "execution_count": 22,
   "id": "18d15f63",
   "metadata": {},
   "outputs": [],
   "source": [
    "#Create the array imputed with EM\n",
    "sim_array_em_imputed = impy.em(sim_array_missing)"
   ]
  },
  {
   "cell_type": "code",
   "execution_count": 23,
   "id": "dba9015d",
   "metadata": {},
   "outputs": [],
   "source": [
    "#Create the array imputed with the mean\n",
    "sim_array_mean_imputed = impy.mean(sim_array_missing)"
   ]
  },
  {
   "cell_type": "code",
   "execution_count": 24,
   "id": "65fc82ae",
   "metadata": {},
   "outputs": [],
   "source": [
    "#Create the array imputed with the median\n",
    "sim_array_median_imputed = impy.median(sim_array_missing)"
   ]
  },
  {
   "cell_type": "markdown",
   "id": "48e30b88",
   "metadata": {},
   "source": [
    "## Comparing them together"
   ]
  },
  {
   "cell_type": "markdown",
   "id": "e2de3b65",
   "metadata": {},
   "source": [
    "Now, we are going to specify the entries that were imputed in the three imputation methods, and then compare them by concatenating them together alongside the original data, and then using matplotlib to plot a graph for the data from the three imputed methods as well as the original data. \n",
    "\n",
    "Let us start by specifying the indices of the observations where there was a missing value in the third entry: \n"
   ]
  },
  {
   "cell_type": "code",
   "execution_count": 25,
   "id": "a74bf7b5",
   "metadata": {},
   "outputs": [
    {
     "data": {
      "text/plain": [
       "array([  1,   5,   7,   8,  14,  17,  20,  21,  25,  29,  30,  31,  32,\n",
       "        35,  38,  40,  41,  42,  43,  46,  47,  49,  51,  53,  55,  56,\n",
       "        58,  61,  63,  64,  65,  66,  69,  70,  71,  72,  73,  76,  77,\n",
       "        79,  86,  87,  88,  90,  91,  94,  96,  98, 100, 102, 105, 106,\n",
       "       107, 110, 112, 115, 120, 121, 125, 129, 130, 131, 133, 134, 135,\n",
       "       139, 140, 144, 146, 147, 148, 149, 154, 156, 158, 159, 160, 162,\n",
       "       163, 164, 167, 169, 170, 173, 174, 178, 179, 186, 188, 190, 193,\n",
       "       198], dtype=int64)"
      ]
     },
     "execution_count": 25,
     "metadata": {},
     "output_type": "execute_result"
    }
   ],
   "source": [
    "#Create an array with the indices of the observations where there was a missing value in the third entry\n",
    "indices = np.argwhere(np.isnan(sim_array_missing))[:,0]\n",
    "indices"
   ]
  },
  {
   "cell_type": "code",
   "execution_count": 26,
   "id": "f2af260e",
   "metadata": {},
   "outputs": [],
   "source": [
    "#Create an array with the EM imputed values \n",
    "a = sim_array_em_imputed[indices,2]"
   ]
  },
  {
   "cell_type": "code",
   "execution_count": 27,
   "id": "d115340d",
   "metadata": {},
   "outputs": [],
   "source": [
    "#Create an array with the mean imputed values\n",
    "b = sim_array_mean_imputed[indices,2]"
   ]
  },
  {
   "cell_type": "code",
   "execution_count": 28,
   "id": "60fc83d4",
   "metadata": {},
   "outputs": [],
   "source": [
    "#Create an array with the median imputed values \n",
    "c = sim_array_median_imputed[indices,2]"
   ]
  },
  {
   "cell_type": "code",
   "execution_count": 29,
   "id": "8d569347",
   "metadata": {},
   "outputs": [],
   "source": [
    "#Create an array with the original data \n",
    "d = vect[indices,2]"
   ]
  },
  {
   "cell_type": "markdown",
   "id": "a0832452",
   "metadata": {},
   "source": [
    "Now, create three datasets where each dataset contain the imputed values from one data imputation method, and one final dataset with the original data."
   ]
  },
  {
   "cell_type": "code",
   "execution_count": 30,
   "id": "fcd199b1",
   "metadata": {},
   "outputs": [
    {
     "data": {
      "text/html": [
       "<div>\n",
       "<style scoped>\n",
       "    .dataframe tbody tr th:only-of-type {\n",
       "        vertical-align: middle;\n",
       "    }\n",
       "\n",
       "    .dataframe tbody tr th {\n",
       "        vertical-align: top;\n",
       "    }\n",
       "\n",
       "    .dataframe thead th {\n",
       "        text-align: right;\n",
       "    }\n",
       "</style>\n",
       "<table border=\"1\" class=\"dataframe\">\n",
       "  <thead>\n",
       "    <tr style=\"text-align: right;\">\n",
       "      <th></th>\n",
       "      <th>EM_imputed</th>\n",
       "    </tr>\n",
       "  </thead>\n",
       "  <tbody>\n",
       "    <tr>\n",
       "      <th>0</th>\n",
       "      <td>8.493136</td>\n",
       "    </tr>\n",
       "    <tr>\n",
       "      <th>1</th>\n",
       "      <td>8.258959</td>\n",
       "    </tr>\n",
       "    <tr>\n",
       "      <th>2</th>\n",
       "      <td>9.991870</td>\n",
       "    </tr>\n",
       "    <tr>\n",
       "      <th>3</th>\n",
       "      <td>9.622308</td>\n",
       "    </tr>\n",
       "    <tr>\n",
       "      <th>4</th>\n",
       "      <td>9.583740</td>\n",
       "    </tr>\n",
       "    <tr>\n",
       "      <th>...</th>\n",
       "      <td>...</td>\n",
       "    </tr>\n",
       "    <tr>\n",
       "      <th>87</th>\n",
       "      <td>8.525126</td>\n",
       "    </tr>\n",
       "    <tr>\n",
       "      <th>88</th>\n",
       "      <td>9.568614</td>\n",
       "    </tr>\n",
       "    <tr>\n",
       "      <th>89</th>\n",
       "      <td>8.883559</td>\n",
       "    </tr>\n",
       "    <tr>\n",
       "      <th>90</th>\n",
       "      <td>7.558171</td>\n",
       "    </tr>\n",
       "    <tr>\n",
       "      <th>91</th>\n",
       "      <td>7.528443</td>\n",
       "    </tr>\n",
       "  </tbody>\n",
       "</table>\n",
       "<p>92 rows × 1 columns</p>\n",
       "</div>"
      ],
      "text/plain": [
       "    EM_imputed\n",
       "0     8.493136\n",
       "1     8.258959\n",
       "2     9.991870\n",
       "3     9.622308\n",
       "4     9.583740\n",
       "..         ...\n",
       "87    8.525126\n",
       "88    9.568614\n",
       "89    8.883559\n",
       "90    7.558171\n",
       "91    7.528443\n",
       "\n",
       "[92 rows x 1 columns]"
      ]
     },
     "execution_count": 30,
     "metadata": {},
     "output_type": "execute_result"
    }
   ],
   "source": [
    "#Create a dataset with the EM imputed values\n",
    "EM = pd.DataFrame(data=a, columns=['EM_imputed'])\n",
    "EM"
   ]
  },
  {
   "cell_type": "code",
   "execution_count": 31,
   "id": "e78c05dd",
   "metadata": {},
   "outputs": [
    {
     "data": {
      "text/html": [
       "<div>\n",
       "<style scoped>\n",
       "    .dataframe tbody tr th:only-of-type {\n",
       "        vertical-align: middle;\n",
       "    }\n",
       "\n",
       "    .dataframe tbody tr th {\n",
       "        vertical-align: top;\n",
       "    }\n",
       "\n",
       "    .dataframe thead th {\n",
       "        text-align: right;\n",
       "    }\n",
       "</style>\n",
       "<table border=\"1\" class=\"dataframe\">\n",
       "  <thead>\n",
       "    <tr style=\"text-align: right;\">\n",
       "      <th></th>\n",
       "      <th>Mean_imputed</th>\n",
       "    </tr>\n",
       "  </thead>\n",
       "  <tbody>\n",
       "    <tr>\n",
       "      <th>0</th>\n",
       "      <td>9.23059</td>\n",
       "    </tr>\n",
       "    <tr>\n",
       "      <th>1</th>\n",
       "      <td>9.23059</td>\n",
       "    </tr>\n",
       "    <tr>\n",
       "      <th>2</th>\n",
       "      <td>9.23059</td>\n",
       "    </tr>\n",
       "    <tr>\n",
       "      <th>3</th>\n",
       "      <td>9.23059</td>\n",
       "    </tr>\n",
       "    <tr>\n",
       "      <th>4</th>\n",
       "      <td>9.23059</td>\n",
       "    </tr>\n",
       "    <tr>\n",
       "      <th>...</th>\n",
       "      <td>...</td>\n",
       "    </tr>\n",
       "    <tr>\n",
       "      <th>87</th>\n",
       "      <td>9.23059</td>\n",
       "    </tr>\n",
       "    <tr>\n",
       "      <th>88</th>\n",
       "      <td>9.23059</td>\n",
       "    </tr>\n",
       "    <tr>\n",
       "      <th>89</th>\n",
       "      <td>9.23059</td>\n",
       "    </tr>\n",
       "    <tr>\n",
       "      <th>90</th>\n",
       "      <td>9.23059</td>\n",
       "    </tr>\n",
       "    <tr>\n",
       "      <th>91</th>\n",
       "      <td>9.23059</td>\n",
       "    </tr>\n",
       "  </tbody>\n",
       "</table>\n",
       "<p>92 rows × 1 columns</p>\n",
       "</div>"
      ],
      "text/plain": [
       "    Mean_imputed\n",
       "0        9.23059\n",
       "1        9.23059\n",
       "2        9.23059\n",
       "3        9.23059\n",
       "4        9.23059\n",
       "..           ...\n",
       "87       9.23059\n",
       "88       9.23059\n",
       "89       9.23059\n",
       "90       9.23059\n",
       "91       9.23059\n",
       "\n",
       "[92 rows x 1 columns]"
      ]
     },
     "execution_count": 31,
     "metadata": {},
     "output_type": "execute_result"
    }
   ],
   "source": [
    "#Create a dataset with the mean imputed values\n",
    "Mean = pd.DataFrame(data=b, columns=['Mean_imputed'])\n",
    "Mean"
   ]
  },
  {
   "cell_type": "code",
   "execution_count": 32,
   "id": "d07ea151",
   "metadata": {},
   "outputs": [
    {
     "data": {
      "text/html": [
       "<div>\n",
       "<style scoped>\n",
       "    .dataframe tbody tr th:only-of-type {\n",
       "        vertical-align: middle;\n",
       "    }\n",
       "\n",
       "    .dataframe tbody tr th {\n",
       "        vertical-align: top;\n",
       "    }\n",
       "\n",
       "    .dataframe thead th {\n",
       "        text-align: right;\n",
       "    }\n",
       "</style>\n",
       "<table border=\"1\" class=\"dataframe\">\n",
       "  <thead>\n",
       "    <tr style=\"text-align: right;\">\n",
       "      <th></th>\n",
       "      <th>Median_imputed</th>\n",
       "    </tr>\n",
       "  </thead>\n",
       "  <tbody>\n",
       "    <tr>\n",
       "      <th>0</th>\n",
       "      <td>9.164048</td>\n",
       "    </tr>\n",
       "    <tr>\n",
       "      <th>1</th>\n",
       "      <td>9.164048</td>\n",
       "    </tr>\n",
       "    <tr>\n",
       "      <th>2</th>\n",
       "      <td>9.164048</td>\n",
       "    </tr>\n",
       "    <tr>\n",
       "      <th>3</th>\n",
       "      <td>9.164048</td>\n",
       "    </tr>\n",
       "    <tr>\n",
       "      <th>4</th>\n",
       "      <td>9.164048</td>\n",
       "    </tr>\n",
       "    <tr>\n",
       "      <th>...</th>\n",
       "      <td>...</td>\n",
       "    </tr>\n",
       "    <tr>\n",
       "      <th>87</th>\n",
       "      <td>9.164048</td>\n",
       "    </tr>\n",
       "    <tr>\n",
       "      <th>88</th>\n",
       "      <td>9.164048</td>\n",
       "    </tr>\n",
       "    <tr>\n",
       "      <th>89</th>\n",
       "      <td>9.164048</td>\n",
       "    </tr>\n",
       "    <tr>\n",
       "      <th>90</th>\n",
       "      <td>9.164048</td>\n",
       "    </tr>\n",
       "    <tr>\n",
       "      <th>91</th>\n",
       "      <td>9.164048</td>\n",
       "    </tr>\n",
       "  </tbody>\n",
       "</table>\n",
       "<p>92 rows × 1 columns</p>\n",
       "</div>"
      ],
      "text/plain": [
       "    Median_imputed\n",
       "0         9.164048\n",
       "1         9.164048\n",
       "2         9.164048\n",
       "3         9.164048\n",
       "4         9.164048\n",
       "..             ...\n",
       "87        9.164048\n",
       "88        9.164048\n",
       "89        9.164048\n",
       "90        9.164048\n",
       "91        9.164048\n",
       "\n",
       "[92 rows x 1 columns]"
      ]
     },
     "execution_count": 32,
     "metadata": {},
     "output_type": "execute_result"
    }
   ],
   "source": [
    "#Create a dataset with the median imputed values\n",
    "Median = pd.DataFrame(data=c, columns=['Median_imputed'])\n",
    "Median"
   ]
  },
  {
   "cell_type": "code",
   "execution_count": 33,
   "id": "54a7f5d4",
   "metadata": {},
   "outputs": [
    {
     "data": {
      "text/html": [
       "<div>\n",
       "<style scoped>\n",
       "    .dataframe tbody tr th:only-of-type {\n",
       "        vertical-align: middle;\n",
       "    }\n",
       "\n",
       "    .dataframe tbody tr th {\n",
       "        vertical-align: top;\n",
       "    }\n",
       "\n",
       "    .dataframe thead th {\n",
       "        text-align: right;\n",
       "    }\n",
       "</style>\n",
       "<table border=\"1\" class=\"dataframe\">\n",
       "  <thead>\n",
       "    <tr style=\"text-align: right;\">\n",
       "      <th></th>\n",
       "      <th>Original data</th>\n",
       "    </tr>\n",
       "  </thead>\n",
       "  <tbody>\n",
       "    <tr>\n",
       "      <th>0</th>\n",
       "      <td>10.891826</td>\n",
       "    </tr>\n",
       "    <tr>\n",
       "      <th>1</th>\n",
       "      <td>8.582445</td>\n",
       "    </tr>\n",
       "    <tr>\n",
       "      <th>2</th>\n",
       "      <td>7.867098</td>\n",
       "    </tr>\n",
       "    <tr>\n",
       "      <th>3</th>\n",
       "      <td>9.157669</td>\n",
       "    </tr>\n",
       "    <tr>\n",
       "      <th>4</th>\n",
       "      <td>8.582248</td>\n",
       "    </tr>\n",
       "    <tr>\n",
       "      <th>...</th>\n",
       "      <td>...</td>\n",
       "    </tr>\n",
       "    <tr>\n",
       "      <th>87</th>\n",
       "      <td>10.332446</td>\n",
       "    </tr>\n",
       "    <tr>\n",
       "      <th>88</th>\n",
       "      <td>9.386818</td>\n",
       "    </tr>\n",
       "    <tr>\n",
       "      <th>89</th>\n",
       "      <td>10.189029</td>\n",
       "    </tr>\n",
       "    <tr>\n",
       "      <th>90</th>\n",
       "      <td>9.301484</td>\n",
       "    </tr>\n",
       "    <tr>\n",
       "      <th>91</th>\n",
       "      <td>9.177803</td>\n",
       "    </tr>\n",
       "  </tbody>\n",
       "</table>\n",
       "<p>92 rows × 1 columns</p>\n",
       "</div>"
      ],
      "text/plain": [
       "    Original data\n",
       "0       10.891826\n",
       "1        8.582445\n",
       "2        7.867098\n",
       "3        9.157669\n",
       "4        8.582248\n",
       "..            ...\n",
       "87      10.332446\n",
       "88       9.386818\n",
       "89      10.189029\n",
       "90       9.301484\n",
       "91       9.177803\n",
       "\n",
       "[92 rows x 1 columns]"
      ]
     },
     "execution_count": 33,
     "metadata": {},
     "output_type": "execute_result"
    }
   ],
   "source": [
    "#Create a dataset with the original values\n",
    "Origin = pd.DataFrame(data=d, columns=['Original data'])\n",
    "Origin"
   ]
  },
  {
   "cell_type": "markdown",
   "id": "76b48b94",
   "metadata": {},
   "source": [
    "Now, concatenate the four datasets together to help in the comparison between the values from the different imputation methods:"
   ]
  },
  {
   "cell_type": "code",
   "execution_count": 34,
   "id": "7a251c63",
   "metadata": {},
   "outputs": [],
   "source": [
    "#Concatenate the above four datasets \n",
    "full_dataset = pd.concat((EM, Mean, Median, Origin), axis=1)"
   ]
  },
  {
   "cell_type": "code",
   "execution_count": 35,
   "id": "abbebd05",
   "metadata": {},
   "outputs": [
    {
     "data": {
      "text/html": [
       "<div>\n",
       "<style scoped>\n",
       "    .dataframe tbody tr th:only-of-type {\n",
       "        vertical-align: middle;\n",
       "    }\n",
       "\n",
       "    .dataframe tbody tr th {\n",
       "        vertical-align: top;\n",
       "    }\n",
       "\n",
       "    .dataframe thead th {\n",
       "        text-align: right;\n",
       "    }\n",
       "</style>\n",
       "<table border=\"1\" class=\"dataframe\">\n",
       "  <thead>\n",
       "    <tr style=\"text-align: right;\">\n",
       "      <th></th>\n",
       "      <th>EM_imputed</th>\n",
       "      <th>Mean_imputed</th>\n",
       "      <th>Median_imputed</th>\n",
       "      <th>Original data</th>\n",
       "    </tr>\n",
       "  </thead>\n",
       "  <tbody>\n",
       "    <tr>\n",
       "      <th>0</th>\n",
       "      <td>8.493136</td>\n",
       "      <td>9.23059</td>\n",
       "      <td>9.164048</td>\n",
       "      <td>10.891826</td>\n",
       "    </tr>\n",
       "    <tr>\n",
       "      <th>1</th>\n",
       "      <td>8.258959</td>\n",
       "      <td>9.23059</td>\n",
       "      <td>9.164048</td>\n",
       "      <td>8.582445</td>\n",
       "    </tr>\n",
       "    <tr>\n",
       "      <th>2</th>\n",
       "      <td>9.991870</td>\n",
       "      <td>9.23059</td>\n",
       "      <td>9.164048</td>\n",
       "      <td>7.867098</td>\n",
       "    </tr>\n",
       "    <tr>\n",
       "      <th>3</th>\n",
       "      <td>9.622308</td>\n",
       "      <td>9.23059</td>\n",
       "      <td>9.164048</td>\n",
       "      <td>9.157669</td>\n",
       "    </tr>\n",
       "    <tr>\n",
       "      <th>4</th>\n",
       "      <td>9.583740</td>\n",
       "      <td>9.23059</td>\n",
       "      <td>9.164048</td>\n",
       "      <td>8.582248</td>\n",
       "    </tr>\n",
       "    <tr>\n",
       "      <th>...</th>\n",
       "      <td>...</td>\n",
       "      <td>...</td>\n",
       "      <td>...</td>\n",
       "      <td>...</td>\n",
       "    </tr>\n",
       "    <tr>\n",
       "      <th>87</th>\n",
       "      <td>8.525126</td>\n",
       "      <td>9.23059</td>\n",
       "      <td>9.164048</td>\n",
       "      <td>10.332446</td>\n",
       "    </tr>\n",
       "    <tr>\n",
       "      <th>88</th>\n",
       "      <td>9.568614</td>\n",
       "      <td>9.23059</td>\n",
       "      <td>9.164048</td>\n",
       "      <td>9.386818</td>\n",
       "    </tr>\n",
       "    <tr>\n",
       "      <th>89</th>\n",
       "      <td>8.883559</td>\n",
       "      <td>9.23059</td>\n",
       "      <td>9.164048</td>\n",
       "      <td>10.189029</td>\n",
       "    </tr>\n",
       "    <tr>\n",
       "      <th>90</th>\n",
       "      <td>7.558171</td>\n",
       "      <td>9.23059</td>\n",
       "      <td>9.164048</td>\n",
       "      <td>9.301484</td>\n",
       "    </tr>\n",
       "    <tr>\n",
       "      <th>91</th>\n",
       "      <td>7.528443</td>\n",
       "      <td>9.23059</td>\n",
       "      <td>9.164048</td>\n",
       "      <td>9.177803</td>\n",
       "    </tr>\n",
       "  </tbody>\n",
       "</table>\n",
       "<p>92 rows × 4 columns</p>\n",
       "</div>"
      ],
      "text/plain": [
       "    EM_imputed  Mean_imputed  Median_imputed  Original data\n",
       "0     8.493136       9.23059        9.164048      10.891826\n",
       "1     8.258959       9.23059        9.164048       8.582445\n",
       "2     9.991870       9.23059        9.164048       7.867098\n",
       "3     9.622308       9.23059        9.164048       9.157669\n",
       "4     9.583740       9.23059        9.164048       8.582248\n",
       "..         ...           ...             ...            ...\n",
       "87    8.525126       9.23059        9.164048      10.332446\n",
       "88    9.568614       9.23059        9.164048       9.386818\n",
       "89    8.883559       9.23059        9.164048      10.189029\n",
       "90    7.558171       9.23059        9.164048       9.301484\n",
       "91    7.528443       9.23059        9.164048       9.177803\n",
       "\n",
       "[92 rows x 4 columns]"
      ]
     },
     "execution_count": 35,
     "metadata": {},
     "output_type": "execute_result"
    }
   ],
   "source": [
    "#View the new dataset\n",
    "full_dataset"
   ]
  },
  {
   "cell_type": "markdown",
   "id": "dd4125c2",
   "metadata": {},
   "source": [
    "Now, plot a line graph for the data imputed from the three imputation methods as well as the original data in one plot:"
   ]
  },
  {
   "cell_type": "code",
   "execution_count": 36,
   "id": "d4f4f57c",
   "metadata": {},
   "outputs": [
    {
     "data": {
      "image/png": "[encoded data removed]",
      "text/plain": [
       "<Figure size 3000x1000 with 1 Axes>"
      ]
     },
     "metadata": {},
     "output_type": "display_data"
    }
   ],
   "source": [
    "#Plot a line graph for the data imputed from the three imputation methods and the original data \n",
    "x = np.linspace(1,a.size, a.size)\n",
    "fig, ax = plt.subplots(figsize=(30,10))\n",
    "ax.plot(x, a, marker='o',label='EM')\n",
    "ax.plot(x,b,marker='o', label='Mean')\n",
    "ax.plot(x,c,marker='o', label='Median')\n",
    "ax.plot(x,d,marker='o', label='Original')\n",
    "ax.legend()\n",
    "plt.show()"
   ]
  },
  {
   "cell_type": "markdown",
   "id": "274aab62",
   "metadata": {},
   "source": [
    "- - - - - -"
   ]
  },
  {
   "cell_type": "markdown",
   "id": "be7b7b09",
   "metadata": {},
   "source": [
    "## Linear Regression imputation"
   ]
  },
  {
   "cell_type": "markdown",
   "id": "e8a08a3f",
   "metadata": {},
   "source": [
    "If you have a dataset where one of the variables has some missing values, and this variable correlates strongly with one other or more variables in the dataset, then Linear Regression imputation might work really well. \n",
    "\n",
    "It fits a linear regression model where the variable with the missing values is the target/response variable, and the other variable/s (has no missing data) that correlate with it as the predictor variable/s. \n",
    "\n",
    "Because relationships/correlations between variables are conserved in this imputation method, it has an advantage over the simpler imputation methods such as the mean and median in some of the cases.\n",
    "\n",
    "There are two versions for this imputation method: \n",
    "\n",
    "<b> 1) Deterministic Regression Imputation: </b>\n",
    "\n",
    "This is when the missing values are imputed with the exact predictions from the linear regression model, without adding any error terms to it. A disadvantage for this is that it reduces the variability of the imputed variable. This is because the imputed values would lie exactly on the regression hyperplane, which is not a very good representative of real world data. This leads to the second version.\n",
    "\n",
    "<b> 2) Stochastic Regression Imputation: </b>\n",
    "\n",
    "This follows the same idea of Deterministic Regression Imputation but with the addition of a random error term to the predicted value. \n",
    "\n",
    "You will try by yourself an example of imputing missing data using both methods to see how each one performs. "
   ]
  },
  {
   "cell_type": "markdown",
   "id": "dc37d342",
   "metadata": {},
   "source": [
    "Again, let us simulate two variables that are correlated.\n",
    "\n",
    "Start by generating 100 data points from a normal distribution of mean 5 and standard deviation 1. Call this array col1."
   ]
  },
  {
   "cell_type": "code",
   "execution_count": 37,
   "id": "b275121e",
   "metadata": {},
   "outputs": [],
   "source": [
    "# Generate 100 data points from a normal distribution of mean 5 and standard deviation 1. \n",
    "col1 = rand.normal(5.,1.,100)"
   ]
  },
  {
   "cell_type": "markdown",
   "id": "4a0f4a5a",
   "metadata": {},
   "source": [
    "Simulate another random variable that correlates with it. Remember to add a random noise/term to prevent the two variables from correlating perfectly. Call this array col2."
   ]
  },
  {
   "cell_type": "code",
   "execution_count": 38,
   "id": "991eafab",
   "metadata": {},
   "outputs": [],
   "source": [
    "#Generate another 100 data points that correlate with the previously generated 100 data points\n",
    "col2 = col1*1.5 +  rand.normal(0.,.5,100)\n"
   ]
  },
  {
   "cell_type": "code",
   "execution_count": 39,
   "id": "198177ec",
   "metadata": {},
   "outputs": [
    {
     "data": {
      "image/png": "[encoded data removed]",
      "text/plain": [
       "<Figure size 640x480 with 1 Axes>"
      ]
     },
     "metadata": {},
     "output_type": "display_data"
    }
   ],
   "source": [
    "#Create a scatterplot for col2 against col1\n",
    "plt.scatter(col1,col2)\n",
    "plt.show()"
   ]
  },
  {
   "cell_type": "markdown",
   "id": "da08beae",
   "metadata": {},
   "source": [
    "Again, we will remove data randomly from col2 using the binomial distribution; so that the missing data fall under the MCAR type."
   ]
  },
  {
   "cell_type": "code",
   "execution_count": 40,
   "id": "6a609735",
   "metadata": {},
   "outputs": [],
   "source": [
    "#Create a copy of v2.\n",
    "col2_MCAR = col2.copy()"
   ]
  },
  {
   "cell_type": "code",
   "execution_count": 41,
   "id": "5eac73d9",
   "metadata": {},
   "outputs": [],
   "source": [
    "#Remove data randomly\n",
    "col2_MCAR = col2_MCAR * rand.binomial(1,0.5,100)\n",
    "col2_MCAR = np.where(col2_MCAR == 0, np.nan, col2_MCAR) # nice method"
   ]
  },
  {
   "cell_type": "code",
   "execution_count": 42,
   "id": "615b8e2b",
   "metadata": {},
   "outputs": [
    {
     "data": {
      "text/plain": [
       "array([        nan,  6.50446263,         nan,  7.76213166,         nan,\n",
       "        6.10747404,  6.94462538,  9.71616274,  7.77801013,  9.24719096,\n",
       "               nan,         nan,  9.76476249,  7.62197463,  7.8378579 ,\n",
       "               nan,  6.40010417,         nan,         nan,  8.48146131,\n",
       "        9.13998327,         nan,         nan,  7.01191577,         nan,\n",
       "               nan,         nan,  7.38495843,         nan,         nan,\n",
       "               nan,         nan,         nan,         nan,         nan,\n",
       "        5.05354817,  6.40472212, 10.52423728,         nan,         nan,\n",
       "               nan,  7.4959796 ,  5.80770093,         nan,         nan,\n",
       "        5.64634842,         nan,  7.23579148,  8.27825196,         nan,\n",
       "               nan,  6.21967144,  7.64034727,  6.9360967 ,  8.35597843,\n",
       "        6.69281148,         nan,         nan,         nan,         nan,\n",
       "        6.65423854,  6.30411271,  7.43492734,  5.55977752,         nan,\n",
       "       10.15049654,  6.93096728,         nan,  3.95850379,  7.58668397,\n",
       "               nan,  6.28858377,  6.57752549,  6.92223223,         nan,\n",
       "        7.9017323 ,         nan,  6.22528839,         nan,         nan,\n",
       "               nan,         nan,         nan,  5.79931595,         nan,\n",
       "               nan,  6.53724454, 10.15353139,  7.34844497,         nan,\n",
       "        3.92452066,         nan,  8.19494173,         nan,         nan,\n",
       "               nan,  7.54365467,  8.26099873,         nan,  6.02226549])"
      ]
     },
     "execution_count": 42,
     "metadata": {},
     "output_type": "execute_result"
    }
   ],
   "source": [
    "#View v2 with missing data\n",
    "col2_MCAR"
   ]
  },
  {
   "cell_type": "code",
   "execution_count": 43,
   "id": "918ae423",
   "metadata": {},
   "outputs": [
    {
     "data": {
      "text/plain": [
       "array([ 0,  2,  4, 10, 11, 15, 17, 18, 21, 22, 24, 25, 26, 28, 29, 30, 31,\n",
       "       32, 33, 34, 38, 39, 40, 43, 44, 46, 49, 50, 56, 57, 58, 59, 64, 67,\n",
       "       70, 74, 76, 78, 79, 80, 81, 82, 84, 85, 89, 91, 93, 94, 95, 98],\n",
       "      dtype=int64)"
      ]
     },
     "execution_count": 43,
     "metadata": {},
     "output_type": "execute_result"
    }
   ],
   "source": [
    "#Find the indices of the observations that having a missing value for v2\n",
    "indices = np.argwhere(np.isnan(col2_MCAR))[:,0]\n",
    "indices"
   ]
  },
  {
   "cell_type": "markdown",
   "id": "1f16a0c3",
   "metadata": {},
   "source": [
    "Now, we are going to fit a linear regression model for the observations with no missing data. Recall in the third project session, we went through the steps of creating a linear regression model step by step. Now, we are going to make use of a library called `sklearn` that has a built-in function called LinearRegression. \n",
    "\n",
    "Read more about how to use it here, and then use it to fit a linear regression model where v1 is the predictor variable and v2 is the target/response variable. \n"
   ]
  },
  {
   "cell_type": "code",
   "execution_count": 44,
   "id": "f8e7039a",
   "metadata": {},
   "outputs": [],
   "source": [
    "#Import LinearRegression from sklearn.linear_model\n",
    "from sklearn.linear_model import LinearRegression"
   ]
  },
  {
   "cell_type": "code",
   "execution_count": 45,
   "id": "2e919c29",
   "metadata": {},
   "outputs": [],
   "source": [
    "#Find the indices of the observations that have no missing values \n",
    "indices2 = np.argwhere(~np.isnan(col2_MCAR))[:,0]"
   ]
  },
  {
   "cell_type": "code",
   "execution_count": 46,
   "id": "1da338e5",
   "metadata": {},
   "outputs": [],
   "source": [
    "#Create X_train for the v1 values for observations with no missing values\n",
    "X_train = col1[indices2]"
   ]
  },
  {
   "cell_type": "code",
   "execution_count": 47,
   "id": "3aac020c",
   "metadata": {},
   "outputs": [],
   "source": [
    "#Create y_train for the v2 values for observations with no missing values\n",
    "y_train = col2[indices2]"
   ]
  },
  {
   "cell_type": "markdown",
   "id": "d08fba8f",
   "metadata": {},
   "source": [
    "The LinearRegression function requires the X_train values to follow a specific format, where each entry is an array on its own, and all of those individual arrays are stacked on top of each others. I will reformat it for you."
   ]
  },
  {
   "cell_type": "code",
   "execution_count": 48,
   "id": "2968c25d",
   "metadata": {},
   "outputs": [],
   "source": [
    "X_train = np.reshape(X_train, [X_train.size,1])"
   ]
  },
  {
   "cell_type": "code",
   "execution_count": 49,
   "id": "1ed03d96",
   "metadata": {},
   "outputs": [],
   "source": [
    "#Fit the linear regression model\n",
    "Model_1= LinearRegression().fit(X_train, y_train)\n"
   ]
  },
  {
   "cell_type": "markdown",
   "id": "408b1883",
   "metadata": {},
   "source": [
    "## Deterministic Linear Regression"
   ]
  },
  {
   "cell_type": "markdown",
   "id": "33c22bd9",
   "metadata": {},
   "source": [
    "Let us start by imputing the missing values using the Deterministic Linear Regression approach. \n",
    "\n",
    "Start by using the fitted regression model to predict values for the missing data:"
   ]
  },
  {
   "cell_type": "code",
   "execution_count": 50,
   "id": "85c0c463",
   "metadata": {},
   "outputs": [],
   "source": [
    "#Create an array of the v1 values of the observations that have missing values \n",
    "col1_miss = col1[indices]"
   ]
  },
  {
   "cell_type": "code",
   "execution_count": 51,
   "id": "fdac7cc4",
   "metadata": {},
   "outputs": [],
   "source": [
    "#Reshaping of the array to be suitable for usage in the regression model\n",
    "col1_miss = np.reshape(col1_miss, [col1_miss.size,1])"
   ]
  },
  {
   "cell_type": "code",
   "execution_count": 52,
   "id": "f97559f6",
   "metadata": {},
   "outputs": [],
   "source": [
    "#Create an array for the missing v2 values \n",
    "y_test = Model_1.predict(col1_miss)"
   ]
  },
  {
   "cell_type": "markdown",
   "id": "324f8410",
   "metadata": {},
   "source": [
    "Now, create a dataset where each row has the imputed value of v2 by linear regression, and the original value of v2 from the original array:"
   ]
  },
  {
   "cell_type": "code",
   "execution_count": 53,
   "id": "79fa0730",
   "metadata": {},
   "outputs": [],
   "source": [
    "#Create the dataset as specified above\n",
    "original = col2[indices]\n",
    "imputed = y_test\n",
    "df = pd.DataFrame(columns = ['Original','Imputed'])\n",
    "df['Original'] = original\n",
    "df['Imputed'] = imputed"
   ]
  },
  {
   "cell_type": "code",
   "execution_count": 54,
   "id": "118b3fd6",
   "metadata": {},
   "outputs": [
    {
     "data": {
      "text/html": [
       "<div>\n",
       "<style scoped>\n",
       "    .dataframe tbody tr th:only-of-type {\n",
       "        vertical-align: middle;\n",
       "    }\n",
       "\n",
       "    .dataframe tbody tr th {\n",
       "        vertical-align: top;\n",
       "    }\n",
       "\n",
       "    .dataframe thead th {\n",
       "        text-align: right;\n",
       "    }\n",
       "</style>\n",
       "<table border=\"1\" class=\"dataframe\">\n",
       "  <thead>\n",
       "    <tr style=\"text-align: right;\">\n",
       "      <th></th>\n",
       "      <th>Original</th>\n",
       "      <th>Imputed</th>\n",
       "    </tr>\n",
       "  </thead>\n",
       "  <tbody>\n",
       "    <tr>\n",
       "      <th>0</th>\n",
       "      <td>10.363786</td>\n",
       "      <td>9.335663</td>\n",
       "    </tr>\n",
       "    <tr>\n",
       "      <th>1</th>\n",
       "      <td>6.526621</td>\n",
       "      <td>5.924762</td>\n",
       "    </tr>\n",
       "    <tr>\n",
       "      <th>2</th>\n",
       "      <td>9.199616</td>\n",
       "      <td>8.514860</td>\n",
       "    </tr>\n",
       "    <tr>\n",
       "      <th>3</th>\n",
       "      <td>6.519771</td>\n",
       "      <td>6.673599</td>\n",
       "    </tr>\n",
       "    <tr>\n",
       "      <th>4</th>\n",
       "      <td>8.854912</td>\n",
       "      <td>7.514876</td>\n",
       "    </tr>\n",
       "    <tr>\n",
       "      <th>5</th>\n",
       "      <td>5.904348</td>\n",
       "      <td>5.867479</td>\n",
       "    </tr>\n",
       "    <tr>\n",
       "      <th>6</th>\n",
       "      <td>6.747228</td>\n",
       "      <td>6.763503</td>\n",
       "    </tr>\n",
       "    <tr>\n",
       "      <th>7</th>\n",
       "      <td>8.163664</td>\n",
       "      <td>8.244908</td>\n",
       "    </tr>\n",
       "    <tr>\n",
       "      <th>8</th>\n",
       "      <td>9.865297</td>\n",
       "      <td>8.825146</td>\n",
       "    </tr>\n",
       "    <tr>\n",
       "      <th>9</th>\n",
       "      <td>9.212549</td>\n",
       "      <td>8.558791</td>\n",
       "    </tr>\n",
       "    <tr>\n",
       "      <th>10</th>\n",
       "      <td>6.837693</td>\n",
       "      <td>6.879834</td>\n",
       "    </tr>\n",
       "    <tr>\n",
       "      <th>11</th>\n",
       "      <td>8.661411</td>\n",
       "      <td>9.316100</td>\n",
       "    </tr>\n",
       "    <tr>\n",
       "      <th>12</th>\n",
       "      <td>6.980798</td>\n",
       "      <td>6.449594</td>\n",
       "    </tr>\n",
       "    <tr>\n",
       "      <th>13</th>\n",
       "      <td>7.549635</td>\n",
       "      <td>8.359045</td>\n",
       "    </tr>\n",
       "    <tr>\n",
       "      <th>14</th>\n",
       "      <td>8.490072</td>\n",
       "      <td>8.878290</td>\n",
       "    </tr>\n",
       "    <tr>\n",
       "      <th>15</th>\n",
       "      <td>8.074513</td>\n",
       "      <td>7.185291</td>\n",
       "    </tr>\n",
       "    <tr>\n",
       "      <th>16</th>\n",
       "      <td>7.056973</td>\n",
       "      <td>6.838303</td>\n",
       "    </tr>\n",
       "    <tr>\n",
       "      <th>17</th>\n",
       "      <td>8.723684</td>\n",
       "      <td>8.806858</td>\n",
       "    </tr>\n",
       "    <tr>\n",
       "      <th>18</th>\n",
       "      <td>6.653072</td>\n",
       "      <td>5.934428</td>\n",
       "    </tr>\n",
       "    <tr>\n",
       "      <th>19</th>\n",
       "      <td>8.146578</td>\n",
       "      <td>8.345941</td>\n",
       "    </tr>\n",
       "    <tr>\n",
       "      <th>20</th>\n",
       "      <td>9.594913</td>\n",
       "      <td>8.783805</td>\n",
       "    </tr>\n",
       "    <tr>\n",
       "      <th>21</th>\n",
       "      <td>3.631336</td>\n",
       "      <td>4.082591</td>\n",
       "    </tr>\n",
       "    <tr>\n",
       "      <th>22</th>\n",
       "      <td>8.548484</td>\n",
       "      <td>8.633896</td>\n",
       "    </tr>\n",
       "    <tr>\n",
       "      <th>23</th>\n",
       "      <td>6.527413</td>\n",
       "      <td>6.546029</td>\n",
       "    </tr>\n",
       "    <tr>\n",
       "      <th>24</th>\n",
       "      <td>6.985334</td>\n",
       "      <td>7.028069</td>\n",
       "    </tr>\n",
       "    <tr>\n",
       "      <th>25</th>\n",
       "      <td>10.211069</td>\n",
       "      <td>10.172254</td>\n",
       "    </tr>\n",
       "    <tr>\n",
       "      <th>26</th>\n",
       "      <td>9.130166</td>\n",
       "      <td>7.648313</td>\n",
       "    </tr>\n",
       "    <tr>\n",
       "      <th>27</th>\n",
       "      <td>8.243175</td>\n",
       "      <td>7.980067</td>\n",
       "    </tr>\n",
       "    <tr>\n",
       "      <th>28</th>\n",
       "      <td>4.302484</td>\n",
       "      <td>4.563583</td>\n",
       "    </tr>\n",
       "    <tr>\n",
       "      <th>29</th>\n",
       "      <td>6.878890</td>\n",
       "      <td>6.279044</td>\n",
       "    </tr>\n",
       "    <tr>\n",
       "      <th>30</th>\n",
       "      <td>8.803023</td>\n",
       "      <td>8.290726</td>\n",
       "    </tr>\n",
       "    <tr>\n",
       "      <th>31</th>\n",
       "      <td>8.386944</td>\n",
       "      <td>9.432364</td>\n",
       "    </tr>\n",
       "    <tr>\n",
       "      <th>32</th>\n",
       "      <td>6.298758</td>\n",
       "      <td>5.793226</td>\n",
       "    </tr>\n",
       "    <tr>\n",
       "      <th>33</th>\n",
       "      <td>6.547374</td>\n",
       "      <td>6.512734</td>\n",
       "    </tr>\n",
       "    <tr>\n",
       "      <th>34</th>\n",
       "      <td>8.776037</td>\n",
       "      <td>9.528904</td>\n",
       "    </tr>\n",
       "    <tr>\n",
       "      <th>35</th>\n",
       "      <td>7.640879</td>\n",
       "      <td>7.574739</td>\n",
       "    </tr>\n",
       "    <tr>\n",
       "      <th>36</th>\n",
       "      <td>6.395301</td>\n",
       "      <td>5.931645</td>\n",
       "    </tr>\n",
       "    <tr>\n",
       "      <th>37</th>\n",
       "      <td>8.523518</td>\n",
       "      <td>9.381772</td>\n",
       "    </tr>\n",
       "    <tr>\n",
       "      <th>38</th>\n",
       "      <td>8.693535</td>\n",
       "      <td>8.683765</td>\n",
       "    </tr>\n",
       "    <tr>\n",
       "      <th>39</th>\n",
       "      <td>7.319162</td>\n",
       "      <td>7.586603</td>\n",
       "    </tr>\n",
       "    <tr>\n",
       "      <th>40</th>\n",
       "      <td>6.087321</td>\n",
       "      <td>6.048474</td>\n",
       "    </tr>\n",
       "    <tr>\n",
       "      <th>41</th>\n",
       "      <td>8.310624</td>\n",
       "      <td>8.086888</td>\n",
       "    </tr>\n",
       "    <tr>\n",
       "      <th>42</th>\n",
       "      <td>7.069433</td>\n",
       "      <td>7.196935</td>\n",
       "    </tr>\n",
       "    <tr>\n",
       "      <th>43</th>\n",
       "      <td>8.398447</td>\n",
       "      <td>8.338310</td>\n",
       "    </tr>\n",
       "    <tr>\n",
       "      <th>44</th>\n",
       "      <td>7.533645</td>\n",
       "      <td>6.610413</td>\n",
       "    </tr>\n",
       "    <tr>\n",
       "      <th>45</th>\n",
       "      <td>5.039836</td>\n",
       "      <td>5.286768</td>\n",
       "    </tr>\n",
       "    <tr>\n",
       "      <th>46</th>\n",
       "      <td>9.907229</td>\n",
       "      <td>9.683981</td>\n",
       "    </tr>\n",
       "    <tr>\n",
       "      <th>47</th>\n",
       "      <td>3.168102</td>\n",
       "      <td>3.589983</td>\n",
       "    </tr>\n",
       "    <tr>\n",
       "      <th>48</th>\n",
       "      <td>6.230866</td>\n",
       "      <td>7.174431</td>\n",
       "    </tr>\n",
       "    <tr>\n",
       "      <th>49</th>\n",
       "      <td>11.391874</td>\n",
       "      <td>11.620446</td>\n",
       "    </tr>\n",
       "  </tbody>\n",
       "</table>\n",
       "</div>"
      ],
      "text/plain": [
       "     Original    Imputed\n",
       "0   10.363786   9.335663\n",
       "1    6.526621   5.924762\n",
       "2    9.199616   8.514860\n",
       "3    6.519771   6.673599\n",
       "4    8.854912   7.514876\n",
       "5    5.904348   5.867479\n",
       "6    6.747228   6.763503\n",
       "7    8.163664   8.244908\n",
       "8    9.865297   8.825146\n",
       "9    9.212549   8.558791\n",
       "10   6.837693   6.879834\n",
       "11   8.661411   9.316100\n",
       "12   6.980798   6.449594\n",
       "13   7.549635   8.359045\n",
       "14   8.490072   8.878290\n",
       "15   8.074513   7.185291\n",
       "16   7.056973   6.838303\n",
       "17   8.723684   8.806858\n",
       "18   6.653072   5.934428\n",
       "19   8.146578   8.345941\n",
       "20   9.594913   8.783805\n",
       "21   3.631336   4.082591\n",
       "22   8.548484   8.633896\n",
       "23   6.527413   6.546029\n",
       "24   6.985334   7.028069\n",
       "25  10.211069  10.172254\n",
       "26   9.130166   7.648313\n",
       "27   8.243175   7.980067\n",
       "28   4.302484   4.563583\n",
       "29   6.878890   6.279044\n",
       "30   8.803023   8.290726\n",
       "31   8.386944   9.432364\n",
       "32   6.298758   5.793226\n",
       "33   6.547374   6.512734\n",
       "34   8.776037   9.528904\n",
       "35   7.640879   7.574739\n",
       "36   6.395301   5.931645\n",
       "37   8.523518   9.381772\n",
       "38   8.693535   8.683765\n",
       "39   7.319162   7.586603\n",
       "40   6.087321   6.048474\n",
       "41   8.310624   8.086888\n",
       "42   7.069433   7.196935\n",
       "43   8.398447   8.338310\n",
       "44   7.533645   6.610413\n",
       "45   5.039836   5.286768\n",
       "46   9.907229   9.683981\n",
       "47   3.168102   3.589983\n",
       "48   6.230866   7.174431\n",
       "49  11.391874  11.620446"
      ]
     },
     "execution_count": 54,
     "metadata": {},
     "output_type": "execute_result"
    }
   ],
   "source": [
    "#View the dataset\n",
    "df"
   ]
  },
  {
   "cell_type": "code",
   "execution_count": 56,
   "id": "7acc9e6b",
   "metadata": {},
   "outputs": [
    {
     "data": {
      "image/png": "[encoded data removed]",
      "text/plain": [
       "<Figure size 640x480 with 1 Axes>"
      ]
     },
     "metadata": {},
     "output_type": "display_data"
    }
   ],
   "source": [
    "#Plot the observations using the original values and the observations with the imputed values\n",
    "plt.scatter(col1_miss, col2[indices], label='Original')\n",
    "plt.scatter(col1_miss, y_test, label='imputed')\n",
    "plt.legend()\n",
    "plt.show()"
   ]
  },
  {
   "cell_type": "markdown",
   "id": "a53e3dd1",
   "metadata": {},
   "source": [
    "Now, I will leave you to try and impute data using Stochastic Linear Regression. This resource might help you out: https://www.kaggle.com/shashankasubrahmanya/missing-data-imputation-using-regression but feel free to do your own research."
   ]
  }
 ],
 "metadata": {
  "kernelspec": {
   "display_name": "Python 3 (ipykernel)",
   "language": "python",
   "name": "python3"
  },
  "language_info": {
   "codemirror_mode": {
    "name": "ipython",
    "version": 3
   },
   "file_extension": ".py",
   "mimetype": "text/x-python",
   "name": "python",
   "nbconvert_exporter": "python",
   "pygments_lexer": "ipython3",
   "version": "3.10.9"
  }
 },
 "nbformat": 4,
 "nbformat_minor": 5
}
