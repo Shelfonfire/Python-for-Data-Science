{
 "cells": [
  {
   "cell_type": "markdown",
   "id": "391b186c",
   "metadata": {},
   "source": [
    "# Python for Data Science Practice Session 4 : Mathematics and Statistics"
   ]
  },
  {
   "cell_type": "code",
   "execution_count": 1,
   "id": "86afe2e3",
   "metadata": {},
   "outputs": [],
   "source": [
    "#Import pandas, numpy, numpy.random and matplotlib.pyplot \n",
    "import pandas as pd\n",
    "import numpy as np\n",
    "import numpy.random as rand\n",
    "import matplotlib.pyplot as plt\n"
   ]
  },
  {
   "cell_type": "markdown",
   "id": "4cf34d50",
   "metadata": {},
   "source": [
    "## Missing data types: A closer look"
   ]
  },
  {
   "cell_type": "markdown",
   "id": "1e6e751a",
   "metadata": {},
   "source": [
    "In this section, I would like to talk more about missing values. It is one of the most influential problems that have to be dealt with carefully by Data Scientists, and even by other practitioners in different fields who analyse and use data to help in forming decisions/conclusions. Together, we will go through the three main types of missing values: Missing Completely at Random, Missing at Random and Missing Not at Random. Then, we will build up on the imputation methods discussed in this week's teaching session by using two more complex ones, namely Expectation Maximization and Linear Regression. We will also make use of the dataframe reshaping methods that we learned in this week's teaching session to help make our lives easier throughout this project session."
   ]
  },
  {
   "cell_type": "markdown",
   "id": "2f572c77",
   "metadata": {},
   "source": [
    "Let's start by generating a mock dataset that we will use to demonstrate the different missing value types. This dataset will contain simulated data of three consecutive lap times for ten F1 racing drivers on a track.\n",
    "\n",
    "Start by creating a Pandas dataframe with column labels 'D1', 'D2', 'D3', ... , 'D10' representing the ten drivers we have, and indexes 'Lap1', 'Lap2' representing the first two lap times for each driver."
   ]
  },
  {
   "cell_type": "code",
   "execution_count": 2,
   "id": "093e75ca",
   "metadata": {},
   "outputs": [
    {
     "data": {
      "text/html": [
       "<div>\n",
       "<style scoped>\n",
       "    .dataframe tbody tr th:only-of-type {\n",
       "        vertical-align: middle;\n",
       "    }\n",
       "\n",
       "    .dataframe tbody tr th {\n",
       "        vertical-align: top;\n",
       "    }\n",
       "\n",
       "    .dataframe thead th {\n",
       "        text-align: right;\n",
       "    }\n",
       "</style>\n",
       "<table border=\"1\" class=\"dataframe\">\n",
       "  <thead>\n",
       "    <tr style=\"text-align: right;\">\n",
       "      <th></th>\n",
       "      <th>D1</th>\n",
       "      <th>D2</th>\n",
       "      <th>D3</th>\n",
       "      <th>D4</th>\n",
       "      <th>D5</th>\n",
       "      <th>D6</th>\n",
       "      <th>D7</th>\n",
       "      <th>D8</th>\n",
       "      <th>D9</th>\n",
       "      <th>D10</th>\n",
       "    </tr>\n",
       "  </thead>\n",
       "  <tbody>\n",
       "    <tr>\n",
       "      <th>Lap1</th>\n",
       "      <td>NaN</td>\n",
       "      <td>NaN</td>\n",
       "      <td>NaN</td>\n",
       "      <td>NaN</td>\n",
       "      <td>NaN</td>\n",
       "      <td>NaN</td>\n",
       "      <td>NaN</td>\n",
       "      <td>NaN</td>\n",
       "      <td>NaN</td>\n",
       "      <td>NaN</td>\n",
       "    </tr>\n",
       "    <tr>\n",
       "      <th>Lap2</th>\n",
       "      <td>NaN</td>\n",
       "      <td>NaN</td>\n",
       "      <td>NaN</td>\n",
       "      <td>NaN</td>\n",
       "      <td>NaN</td>\n",
       "      <td>NaN</td>\n",
       "      <td>NaN</td>\n",
       "      <td>NaN</td>\n",
       "      <td>NaN</td>\n",
       "      <td>NaN</td>\n",
       "    </tr>\n",
       "  </tbody>\n",
       "</table>\n",
       "</div>"
      ],
      "text/plain": [
       "       D1   D2   D3   D4   D5   D6   D7   D8   D9  D10\n",
       "Lap1  NaN  NaN  NaN  NaN  NaN  NaN  NaN  NaN  NaN  NaN\n",
       "Lap2  NaN  NaN  NaN  NaN  NaN  NaN  NaN  NaN  NaN  NaN"
      ]
     },
     "execution_count": 2,
     "metadata": {},
     "output_type": "execute_result"
    }
   ],
   "source": [
    "#Create the dataframe as specified above\n",
    "Laps = pd.DataFrame(index = ['Lap1','Lap2'], columns = ['D1','D2','D3','D4','D5','D6','D7','D8','D9','D10',])\n",
    "Laps"
   ]
  },
  {
   "cell_type": "markdown",
   "id": "7fbb0e23",
   "metadata": {},
   "source": [
    "Now, we simulate lap time values from normal distributions. Assume that for the first lap times, data are normally distributed with a mean of 150 and standard deviation of 10. Then in lap 2, data are normally distributed with a mean of 145 and a standard deviation of 10. Simulating the data in this way allows for the possibility for some drivers improving their lap time in their second trial and some other drivers worsening their lap time in their second trial."
   ]
  },
  {
   "cell_type": "code",
   "execution_count": 3,
   "id": "4285ef3e",
   "metadata": {},
   "outputs": [],
   "source": [
    "#Simulate data from normal distributions for laps 1 and 2 using the means and standard deviations specified above\n",
    "#mean = 145\n",
    "#var = 100\n",
    "\n",
    "Laps.loc['Lap1'] = rand.normal(150, 10, 10)\n",
    "Laps.loc['Lap2'] = rand.normal(145, 10, 10)"
   ]
  },
  {
   "cell_type": "code",
   "execution_count": 4,
   "id": "f15b32a4",
   "metadata": {},
   "outputs": [
    {
     "data": {
      "text/html": [
       "<div>\n",
       "<style scoped>\n",
       "    .dataframe tbody tr th:only-of-type {\n",
       "        vertical-align: middle;\n",
       "    }\n",
       "\n",
       "    .dataframe tbody tr th {\n",
       "        vertical-align: top;\n",
       "    }\n",
       "\n",
       "    .dataframe thead th {\n",
       "        text-align: right;\n",
       "    }\n",
       "</style>\n",
       "<table border=\"1\" class=\"dataframe\">\n",
       "  <thead>\n",
       "    <tr style=\"text-align: right;\">\n",
       "      <th></th>\n",
       "      <th>D1</th>\n",
       "      <th>D2</th>\n",
       "      <th>D3</th>\n",
       "      <th>D4</th>\n",
       "      <th>D5</th>\n",
       "      <th>D6</th>\n",
       "      <th>D7</th>\n",
       "      <th>D8</th>\n",
       "      <th>D9</th>\n",
       "      <th>D10</th>\n",
       "    </tr>\n",
       "  </thead>\n",
       "  <tbody>\n",
       "    <tr>\n",
       "      <th>Lap1</th>\n",
       "      <td>148.271982</td>\n",
       "      <td>148.852732</td>\n",
       "      <td>141.498454</td>\n",
       "      <td>138.908681</td>\n",
       "      <td>146.91389</td>\n",
       "      <td>154.116395</td>\n",
       "      <td>143.33836</td>\n",
       "      <td>147.595785</td>\n",
       "      <td>159.186481</td>\n",
       "      <td>139.320979</td>\n",
       "    </tr>\n",
       "    <tr>\n",
       "      <th>Lap2</th>\n",
       "      <td>132.845523</td>\n",
       "      <td>158.756813</td>\n",
       "      <td>142.350294</td>\n",
       "      <td>147.1301</td>\n",
       "      <td>133.677467</td>\n",
       "      <td>151.736728</td>\n",
       "      <td>143.232631</td>\n",
       "      <td>139.795556</td>\n",
       "      <td>151.728238</td>\n",
       "      <td>167.046323</td>\n",
       "    </tr>\n",
       "  </tbody>\n",
       "</table>\n",
       "</div>"
      ],
      "text/plain": [
       "              D1          D2          D3          D4          D5          D6  \\\n",
       "Lap1  148.271982  148.852732  141.498454  138.908681   146.91389  154.116395   \n",
       "Lap2  132.845523  158.756813  142.350294    147.1301  133.677467  151.736728   \n",
       "\n",
       "              D7          D8          D9         D10  \n",
       "Lap1   143.33836  147.595785  159.186481  139.320979  \n",
       "Lap2  143.232631  139.795556  151.728238  167.046323  "
      ]
     },
     "execution_count": 4,
     "metadata": {},
     "output_type": "execute_result"
    }
   ],
   "source": [
    "#View the dataset\n",
    "Laps"
   ]
  },
  {
   "cell_type": "markdown",
   "id": "62c2feb6",
   "metadata": {},
   "source": [
    "The structure of the dataframe is not visually pleasing in my opinion, especially that we have ten columns and only two rows. Try transposing the dataframe: "
   ]
  },
  {
   "cell_type": "code",
   "execution_count": 5,
   "id": "efe5bf81",
   "metadata": {},
   "outputs": [],
   "source": [
    "#Transpose the dataset\n",
    "Laps = Laps.transpose()"
   ]
  },
  {
   "cell_type": "code",
   "execution_count": 6,
   "id": "b65f6257",
   "metadata": {},
   "outputs": [
    {
     "data": {
      "text/html": [
       "<div>\n",
       "<style scoped>\n",
       "    .dataframe tbody tr th:only-of-type {\n",
       "        vertical-align: middle;\n",
       "    }\n",
       "\n",
       "    .dataframe tbody tr th {\n",
       "        vertical-align: top;\n",
       "    }\n",
       "\n",
       "    .dataframe thead th {\n",
       "        text-align: right;\n",
       "    }\n",
       "</style>\n",
       "<table border=\"1\" class=\"dataframe\">\n",
       "  <thead>\n",
       "    <tr style=\"text-align: right;\">\n",
       "      <th></th>\n",
       "      <th>Lap1</th>\n",
       "      <th>Lap2</th>\n",
       "    </tr>\n",
       "  </thead>\n",
       "  <tbody>\n",
       "    <tr>\n",
       "      <th>D1</th>\n",
       "      <td>148.271982</td>\n",
       "      <td>132.845523</td>\n",
       "    </tr>\n",
       "    <tr>\n",
       "      <th>D2</th>\n",
       "      <td>148.852732</td>\n",
       "      <td>158.756813</td>\n",
       "    </tr>\n",
       "    <tr>\n",
       "      <th>D3</th>\n",
       "      <td>141.498454</td>\n",
       "      <td>142.350294</td>\n",
       "    </tr>\n",
       "    <tr>\n",
       "      <th>D4</th>\n",
       "      <td>138.908681</td>\n",
       "      <td>147.1301</td>\n",
       "    </tr>\n",
       "    <tr>\n",
       "      <th>D5</th>\n",
       "      <td>146.91389</td>\n",
       "      <td>133.677467</td>\n",
       "    </tr>\n",
       "    <tr>\n",
       "      <th>D6</th>\n",
       "      <td>154.116395</td>\n",
       "      <td>151.736728</td>\n",
       "    </tr>\n",
       "    <tr>\n",
       "      <th>D7</th>\n",
       "      <td>143.33836</td>\n",
       "      <td>143.232631</td>\n",
       "    </tr>\n",
       "    <tr>\n",
       "      <th>D8</th>\n",
       "      <td>147.595785</td>\n",
       "      <td>139.795556</td>\n",
       "    </tr>\n",
       "    <tr>\n",
       "      <th>D9</th>\n",
       "      <td>159.186481</td>\n",
       "      <td>151.728238</td>\n",
       "    </tr>\n",
       "    <tr>\n",
       "      <th>D10</th>\n",
       "      <td>139.320979</td>\n",
       "      <td>167.046323</td>\n",
       "    </tr>\n",
       "  </tbody>\n",
       "</table>\n",
       "</div>"
      ],
      "text/plain": [
       "           Lap1        Lap2\n",
       "D1   148.271982  132.845523\n",
       "D2   148.852732  158.756813\n",
       "D3   141.498454  142.350294\n",
       "D4   138.908681    147.1301\n",
       "D5    146.91389  133.677467\n",
       "D6   154.116395  151.736728\n",
       "D7    143.33836  143.232631\n",
       "D8   147.595785  139.795556\n",
       "D9   159.186481  151.728238\n",
       "D10  139.320979  167.046323"
      ]
     },
     "execution_count": 6,
     "metadata": {},
     "output_type": "execute_result"
    }
   ],
   "source": [
    "#View the dataset\n",
    "Laps"
   ]
  },
  {
   "cell_type": "markdown",
   "id": "ac0d9a7d",
   "metadata": {},
   "source": [
    "This looks much better, let us now proceed. \n",
    "\n",
    "Now, create a column for lap 3 times where drivers who score better lap times in their second lap than their first lap have their data generated from a normal distribution of mean of 140 and standard deviation of 5, and drivers who score worse in their second lap than their first lap have their lap 3 times generated from a normal distribution of mean 155 and standard deviation of 5. This can be thought of in the following sense: The drivers who do better in lap 2 than lap 1 are more likely to be motivated and improve on their lap 2 times with a faster lap 3 time, and people who score worse in lap 2 might be disappointed and thus more likely to score worse in lap 3. (Of course you can argue that this is not usually the case in real life, but for simplicity, we will proceed with it as it will help us in the explanation of the different missing data types)."
   ]
  },
  {
   "cell_type": "code",
   "execution_count": 7,
   "id": "99253131",
   "metadata": {},
   "outputs": [],
   "source": [
    "#Create the column Lap 3 following the scenario mentioned above\n",
    "Lap3 = [] #create a separate array\n",
    "for i in range(Laps.shape[0]): #this ensures length compatability logically\n",
    "    if Laps.iloc[i]['Lap2'] - Laps.iloc[i]['Lap1']  < 0 :\n",
    "        Lap3.append(rand.normal(140,5,1)[0])\n",
    "    else: \n",
    "        Lap3.append(rand.normal(155,5,1)[0])\n",
    "Laps['Lap3'] = Lap3 #add the array to the dataframe as a new column."
   ]
  },
  {
   "cell_type": "code",
   "execution_count": 8,
   "id": "a15f8ae0",
   "metadata": {},
   "outputs": [
    {
     "data": {
      "text/html": [
       "<div>\n",
       "<style scoped>\n",
       "    .dataframe tbody tr th:only-of-type {\n",
       "        vertical-align: middle;\n",
       "    }\n",
       "\n",
       "    .dataframe tbody tr th {\n",
       "        vertical-align: top;\n",
       "    }\n",
       "\n",
       "    .dataframe thead th {\n",
       "        text-align: right;\n",
       "    }\n",
       "</style>\n",
       "<table border=\"1\" class=\"dataframe\">\n",
       "  <thead>\n",
       "    <tr style=\"text-align: right;\">\n",
       "      <th></th>\n",
       "      <th>Lap1</th>\n",
       "      <th>Lap2</th>\n",
       "      <th>Lap3</th>\n",
       "    </tr>\n",
       "  </thead>\n",
       "  <tbody>\n",
       "    <tr>\n",
       "      <th>D1</th>\n",
       "      <td>148.271982</td>\n",
       "      <td>132.845523</td>\n",
       "      <td>135.472970</td>\n",
       "    </tr>\n",
       "    <tr>\n",
       "      <th>D2</th>\n",
       "      <td>148.852732</td>\n",
       "      <td>158.756813</td>\n",
       "      <td>149.513948</td>\n",
       "    </tr>\n",
       "    <tr>\n",
       "      <th>D3</th>\n",
       "      <td>141.498454</td>\n",
       "      <td>142.350294</td>\n",
       "      <td>154.712935</td>\n",
       "    </tr>\n",
       "    <tr>\n",
       "      <th>D4</th>\n",
       "      <td>138.908681</td>\n",
       "      <td>147.1301</td>\n",
       "      <td>168.964377</td>\n",
       "    </tr>\n",
       "    <tr>\n",
       "      <th>D5</th>\n",
       "      <td>146.91389</td>\n",
       "      <td>133.677467</td>\n",
       "      <td>137.196685</td>\n",
       "    </tr>\n",
       "    <tr>\n",
       "      <th>D6</th>\n",
       "      <td>154.116395</td>\n",
       "      <td>151.736728</td>\n",
       "      <td>141.973287</td>\n",
       "    </tr>\n",
       "    <tr>\n",
       "      <th>D7</th>\n",
       "      <td>143.33836</td>\n",
       "      <td>143.232631</td>\n",
       "      <td>130.660085</td>\n",
       "    </tr>\n",
       "    <tr>\n",
       "      <th>D8</th>\n",
       "      <td>147.595785</td>\n",
       "      <td>139.795556</td>\n",
       "      <td>142.433153</td>\n",
       "    </tr>\n",
       "    <tr>\n",
       "      <th>D9</th>\n",
       "      <td>159.186481</td>\n",
       "      <td>151.728238</td>\n",
       "      <td>142.029929</td>\n",
       "    </tr>\n",
       "    <tr>\n",
       "      <th>D10</th>\n",
       "      <td>139.320979</td>\n",
       "      <td>167.046323</td>\n",
       "      <td>158.382273</td>\n",
       "    </tr>\n",
       "  </tbody>\n",
       "</table>\n",
       "</div>"
      ],
      "text/plain": [
       "           Lap1        Lap2        Lap3\n",
       "D1   148.271982  132.845523  135.472970\n",
       "D2   148.852732  158.756813  149.513948\n",
       "D3   141.498454  142.350294  154.712935\n",
       "D4   138.908681    147.1301  168.964377\n",
       "D5    146.91389  133.677467  137.196685\n",
       "D6   154.116395  151.736728  141.973287\n",
       "D7    143.33836  143.232631  130.660085\n",
       "D8   147.595785  139.795556  142.433153\n",
       "D9   159.186481  151.728238  142.029929\n",
       "D10  139.320979  167.046323  158.382273"
      ]
     },
     "execution_count": 8,
     "metadata": {},
     "output_type": "execute_result"
    }
   ],
   "source": [
    "#View the dataset\n",
    "Laps"
   ]
  },
  {
   "cell_type": "markdown",
   "id": "d3b4f8f7",
   "metadata": {},
   "source": [
    "## Missing Completely At Random (MCAR)"
   ]
  },
  {
   "cell_type": "markdown",
   "id": "1a1665c9",
   "metadata": {},
   "source": [
    "From its name, missing data are said to be missing completely at random if they are missing due to completely random reasons. There is no specific pattern in the dataset: \n",
    "- No relationships between the variable with missing values and other variables.\n",
    "- No relationship between the variable with missing values and itself. \n",
    "\n",
    "An example for this in our dataset would be:\n",
    "- The tracking device on one of the cars suddenly got damaged.\n",
    "- A cars' engine broke down before finishing one of the laps.\n",
    "\n",
    "We are now going to create a column called MCAR which could represent Lap 3 times from real life data where the missing Lap 3 times for some of the drivers are missing completely at random. \n",
    "\n",
    "There are plenty of ways to do so, but the one I would hint towards is multiplying each lap 3 times with a number simulated from a binomial distribution with probability of success equalling 0.5 "
   ]
  },
  {
   "cell_type": "code",
   "execution_count": 9,
   "id": "a240ed1b",
   "metadata": {},
   "outputs": [],
   "source": [
    "#Create the column called MCAR for Lap 3 times, with some of them missing completely at random\n",
    "Laps['MCAR']= Laps['Lap3']*rand.binomial(1,0.5,len(Laps['Lap3']))"
   ]
  },
  {
   "cell_type": "code",
   "execution_count": 10,
   "id": "4e940ad2",
   "metadata": {},
   "outputs": [
    {
     "data": {
      "text/html": [
       "<div>\n",
       "<style scoped>\n",
       "    .dataframe tbody tr th:only-of-type {\n",
       "        vertical-align: middle;\n",
       "    }\n",
       "\n",
       "    .dataframe tbody tr th {\n",
       "        vertical-align: top;\n",
       "    }\n",
       "\n",
       "    .dataframe thead th {\n",
       "        text-align: right;\n",
       "    }\n",
       "</style>\n",
       "<table border=\"1\" class=\"dataframe\">\n",
       "  <thead>\n",
       "    <tr style=\"text-align: right;\">\n",
       "      <th></th>\n",
       "      <th>Lap1</th>\n",
       "      <th>Lap2</th>\n",
       "      <th>Lap3</th>\n",
       "      <th>MCAR</th>\n",
       "    </tr>\n",
       "  </thead>\n",
       "  <tbody>\n",
       "    <tr>\n",
       "      <th>D1</th>\n",
       "      <td>148.271982</td>\n",
       "      <td>132.845523</td>\n",
       "      <td>135.472970</td>\n",
       "      <td>0.000000</td>\n",
       "    </tr>\n",
       "    <tr>\n",
       "      <th>D2</th>\n",
       "      <td>148.852732</td>\n",
       "      <td>158.756813</td>\n",
       "      <td>149.513948</td>\n",
       "      <td>0.000000</td>\n",
       "    </tr>\n",
       "    <tr>\n",
       "      <th>D3</th>\n",
       "      <td>141.498454</td>\n",
       "      <td>142.350294</td>\n",
       "      <td>154.712935</td>\n",
       "      <td>154.712935</td>\n",
       "    </tr>\n",
       "    <tr>\n",
       "      <th>D4</th>\n",
       "      <td>138.908681</td>\n",
       "      <td>147.1301</td>\n",
       "      <td>168.964377</td>\n",
       "      <td>0.000000</td>\n",
       "    </tr>\n",
       "    <tr>\n",
       "      <th>D5</th>\n",
       "      <td>146.91389</td>\n",
       "      <td>133.677467</td>\n",
       "      <td>137.196685</td>\n",
       "      <td>137.196685</td>\n",
       "    </tr>\n",
       "    <tr>\n",
       "      <th>D6</th>\n",
       "      <td>154.116395</td>\n",
       "      <td>151.736728</td>\n",
       "      <td>141.973287</td>\n",
       "      <td>141.973287</td>\n",
       "    </tr>\n",
       "    <tr>\n",
       "      <th>D7</th>\n",
       "      <td>143.33836</td>\n",
       "      <td>143.232631</td>\n",
       "      <td>130.660085</td>\n",
       "      <td>0.000000</td>\n",
       "    </tr>\n",
       "    <tr>\n",
       "      <th>D8</th>\n",
       "      <td>147.595785</td>\n",
       "      <td>139.795556</td>\n",
       "      <td>142.433153</td>\n",
       "      <td>0.000000</td>\n",
       "    </tr>\n",
       "    <tr>\n",
       "      <th>D9</th>\n",
       "      <td>159.186481</td>\n",
       "      <td>151.728238</td>\n",
       "      <td>142.029929</td>\n",
       "      <td>0.000000</td>\n",
       "    </tr>\n",
       "    <tr>\n",
       "      <th>D10</th>\n",
       "      <td>139.320979</td>\n",
       "      <td>167.046323</td>\n",
       "      <td>158.382273</td>\n",
       "      <td>0.000000</td>\n",
       "    </tr>\n",
       "  </tbody>\n",
       "</table>\n",
       "</div>"
      ],
      "text/plain": [
       "           Lap1        Lap2        Lap3        MCAR\n",
       "D1   148.271982  132.845523  135.472970    0.000000\n",
       "D2   148.852732  158.756813  149.513948    0.000000\n",
       "D3   141.498454  142.350294  154.712935  154.712935\n",
       "D4   138.908681    147.1301  168.964377    0.000000\n",
       "D5    146.91389  133.677467  137.196685  137.196685\n",
       "D6   154.116395  151.736728  141.973287  141.973287\n",
       "D7    143.33836  143.232631  130.660085    0.000000\n",
       "D8   147.595785  139.795556  142.433153    0.000000\n",
       "D9   159.186481  151.728238  142.029929    0.000000\n",
       "D10  139.320979  167.046323  158.382273    0.000000"
      ]
     },
     "execution_count": 10,
     "metadata": {},
     "output_type": "execute_result"
    }
   ],
   "source": [
    "#View the dataset\n",
    "Laps"
   ]
  },
  {
   "cell_type": "markdown",
   "id": "8a84fd17",
   "metadata": {},
   "source": [
    "## Missing At Random (MAR)"
   ]
  },
  {
   "cell_type": "markdown",
   "id": "50265249",
   "metadata": {},
   "source": [
    "Missing values are said to be Missing at Random if they are missing due to a dependance on other variable/s. This means that for any observation, a variable being missing depends on other variable/s' values. An example for this in our dataset would be: \n",
    "\n",
    "- Drivers who scored 10-seconds slower lap 2 times or more than lap 1 times are ordered by their teams not to attempt a third lap as this might indicate loss of power in the car's engine. So, the availability of lap 3 times are affected by the times for laps 1 and 2. "
   ]
  },
  {
   "cell_type": "code",
   "execution_count": 11,
   "id": "72e48a13",
   "metadata": {},
   "outputs": [],
   "source": [
    "#Create a column called MAR that follows the scenario in the above bulletpoint\n",
    "Laps['MAR'] = Laps['Lap3']* (Laps['Lap2']>= Laps['Lap1']-10)"
   ]
  },
  {
   "cell_type": "code",
   "execution_count": 12,
   "id": "40862525",
   "metadata": {},
   "outputs": [
    {
     "data": {
      "text/html": [
       "<div>\n",
       "<style scoped>\n",
       "    .dataframe tbody tr th:only-of-type {\n",
       "        vertical-align: middle;\n",
       "    }\n",
       "\n",
       "    .dataframe tbody tr th {\n",
       "        vertical-align: top;\n",
       "    }\n",
       "\n",
       "    .dataframe thead th {\n",
       "        text-align: right;\n",
       "    }\n",
       "</style>\n",
       "<table border=\"1\" class=\"dataframe\">\n",
       "  <thead>\n",
       "    <tr style=\"text-align: right;\">\n",
       "      <th></th>\n",
       "      <th>Lap1</th>\n",
       "      <th>Lap2</th>\n",
       "      <th>Lap3</th>\n",
       "      <th>MCAR</th>\n",
       "      <th>MAR</th>\n",
       "    </tr>\n",
       "  </thead>\n",
       "  <tbody>\n",
       "    <tr>\n",
       "      <th>D1</th>\n",
       "      <td>148.271982</td>\n",
       "      <td>132.845523</td>\n",
       "      <td>135.472970</td>\n",
       "      <td>0.000000</td>\n",
       "      <td>0.000000</td>\n",
       "    </tr>\n",
       "    <tr>\n",
       "      <th>D2</th>\n",
       "      <td>148.852732</td>\n",
       "      <td>158.756813</td>\n",
       "      <td>149.513948</td>\n",
       "      <td>0.000000</td>\n",
       "      <td>149.513948</td>\n",
       "    </tr>\n",
       "    <tr>\n",
       "      <th>D3</th>\n",
       "      <td>141.498454</td>\n",
       "      <td>142.350294</td>\n",
       "      <td>154.712935</td>\n",
       "      <td>154.712935</td>\n",
       "      <td>154.712935</td>\n",
       "    </tr>\n",
       "    <tr>\n",
       "      <th>D4</th>\n",
       "      <td>138.908681</td>\n",
       "      <td>147.1301</td>\n",
       "      <td>168.964377</td>\n",
       "      <td>0.000000</td>\n",
       "      <td>168.964377</td>\n",
       "    </tr>\n",
       "    <tr>\n",
       "      <th>D5</th>\n",
       "      <td>146.91389</td>\n",
       "      <td>133.677467</td>\n",
       "      <td>137.196685</td>\n",
       "      <td>137.196685</td>\n",
       "      <td>0.000000</td>\n",
       "    </tr>\n",
       "    <tr>\n",
       "      <th>D6</th>\n",
       "      <td>154.116395</td>\n",
       "      <td>151.736728</td>\n",
       "      <td>141.973287</td>\n",
       "      <td>141.973287</td>\n",
       "      <td>141.973287</td>\n",
       "    </tr>\n",
       "    <tr>\n",
       "      <th>D7</th>\n",
       "      <td>143.33836</td>\n",
       "      <td>143.232631</td>\n",
       "      <td>130.660085</td>\n",
       "      <td>0.000000</td>\n",
       "      <td>130.660085</td>\n",
       "    </tr>\n",
       "    <tr>\n",
       "      <th>D8</th>\n",
       "      <td>147.595785</td>\n",
       "      <td>139.795556</td>\n",
       "      <td>142.433153</td>\n",
       "      <td>0.000000</td>\n",
       "      <td>142.433153</td>\n",
       "    </tr>\n",
       "    <tr>\n",
       "      <th>D9</th>\n",
       "      <td>159.186481</td>\n",
       "      <td>151.728238</td>\n",
       "      <td>142.029929</td>\n",
       "      <td>0.000000</td>\n",
       "      <td>142.029929</td>\n",
       "    </tr>\n",
       "    <tr>\n",
       "      <th>D10</th>\n",
       "      <td>139.320979</td>\n",
       "      <td>167.046323</td>\n",
       "      <td>158.382273</td>\n",
       "      <td>0.000000</td>\n",
       "      <td>158.382273</td>\n",
       "    </tr>\n",
       "  </tbody>\n",
       "</table>\n",
       "</div>"
      ],
      "text/plain": [
       "           Lap1        Lap2        Lap3        MCAR         MAR\n",
       "D1   148.271982  132.845523  135.472970    0.000000    0.000000\n",
       "D2   148.852732  158.756813  149.513948    0.000000  149.513948\n",
       "D3   141.498454  142.350294  154.712935  154.712935  154.712935\n",
       "D4   138.908681    147.1301  168.964377    0.000000  168.964377\n",
       "D5    146.91389  133.677467  137.196685  137.196685    0.000000\n",
       "D6   154.116395  151.736728  141.973287  141.973287  141.973287\n",
       "D7    143.33836  143.232631  130.660085    0.000000  130.660085\n",
       "D8   147.595785  139.795556  142.433153    0.000000  142.433153\n",
       "D9   159.186481  151.728238  142.029929    0.000000  142.029929\n",
       "D10  139.320979  167.046323  158.382273    0.000000  158.382273"
      ]
     },
     "execution_count": 12,
     "metadata": {},
     "output_type": "execute_result"
    }
   ],
   "source": [
    "#View the dataset\n",
    "Laps"
   ]
  },
  {
   "cell_type": "markdown",
   "id": "b4017f10",
   "metadata": {},
   "source": [
    "## Missing Not at Random (MNAR)"
   ]
  },
  {
   "cell_type": "markdown",
   "id": "25782e2c",
   "metadata": {},
   "source": [
    "Missing values are said to be Missing Not at Random if they are missing because of their values themselves. This might sound unintuitive, but here is an example from our dataset that will make it clearer: \n",
    "\n",
    "- Assume that drivers on this track generally score in the range of 120-160 seconds. Drivers who score above 160 seconds on Lap 3 get disheartened by that and sometimes decide not to report their scores as they are afraid it will reflect badly on their performance. This means that missing values in lap 3 are missing because of the time scored in lap 3."
   ]
  },
  {
   "cell_type": "code",
   "execution_count": 13,
   "id": "f4ddb918",
   "metadata": {},
   "outputs": [],
   "source": [
    "#Create a column called MNAR that follows the scenario in the above bulletpoint\n",
    "Laps['MNAR'] = Laps['Lap3']* (Laps['Lap3']<=150)"
   ]
  },
  {
   "cell_type": "code",
   "execution_count": 14,
   "id": "71570642",
   "metadata": {},
   "outputs": [
    {
     "data": {
      "text/html": [
       "<div>\n",
       "<style scoped>\n",
       "    .dataframe tbody tr th:only-of-type {\n",
       "        vertical-align: middle;\n",
       "    }\n",
       "\n",
       "    .dataframe tbody tr th {\n",
       "        vertical-align: top;\n",
       "    }\n",
       "\n",
       "    .dataframe thead th {\n",
       "        text-align: right;\n",
       "    }\n",
       "</style>\n",
       "<table border=\"1\" class=\"dataframe\">\n",
       "  <thead>\n",
       "    <tr style=\"text-align: right;\">\n",
       "      <th></th>\n",
       "      <th>Lap1</th>\n",
       "      <th>Lap2</th>\n",
       "      <th>Lap3</th>\n",
       "      <th>MCAR</th>\n",
       "      <th>MAR</th>\n",
       "      <th>MNAR</th>\n",
       "    </tr>\n",
       "  </thead>\n",
       "  <tbody>\n",
       "    <tr>\n",
       "      <th>D1</th>\n",
       "      <td>148.271982</td>\n",
       "      <td>132.845523</td>\n",
       "      <td>135.472970</td>\n",
       "      <td>0.000000</td>\n",
       "      <td>0.000000</td>\n",
       "      <td>135.472970</td>\n",
       "    </tr>\n",
       "    <tr>\n",
       "      <th>D2</th>\n",
       "      <td>148.852732</td>\n",
       "      <td>158.756813</td>\n",
       "      <td>149.513948</td>\n",
       "      <td>0.000000</td>\n",
       "      <td>149.513948</td>\n",
       "      <td>149.513948</td>\n",
       "    </tr>\n",
       "    <tr>\n",
       "      <th>D3</th>\n",
       "      <td>141.498454</td>\n",
       "      <td>142.350294</td>\n",
       "      <td>154.712935</td>\n",
       "      <td>154.712935</td>\n",
       "      <td>154.712935</td>\n",
       "      <td>0.000000</td>\n",
       "    </tr>\n",
       "    <tr>\n",
       "      <th>D4</th>\n",
       "      <td>138.908681</td>\n",
       "      <td>147.1301</td>\n",
       "      <td>168.964377</td>\n",
       "      <td>0.000000</td>\n",
       "      <td>168.964377</td>\n",
       "      <td>0.000000</td>\n",
       "    </tr>\n",
       "    <tr>\n",
       "      <th>D5</th>\n",
       "      <td>146.91389</td>\n",
       "      <td>133.677467</td>\n",
       "      <td>137.196685</td>\n",
       "      <td>137.196685</td>\n",
       "      <td>0.000000</td>\n",
       "      <td>137.196685</td>\n",
       "    </tr>\n",
       "    <tr>\n",
       "      <th>D6</th>\n",
       "      <td>154.116395</td>\n",
       "      <td>151.736728</td>\n",
       "      <td>141.973287</td>\n",
       "      <td>141.973287</td>\n",
       "      <td>141.973287</td>\n",
       "      <td>141.973287</td>\n",
       "    </tr>\n",
       "    <tr>\n",
       "      <th>D7</th>\n",
       "      <td>143.33836</td>\n",
       "      <td>143.232631</td>\n",
       "      <td>130.660085</td>\n",
       "      <td>0.000000</td>\n",
       "      <td>130.660085</td>\n",
       "      <td>130.660085</td>\n",
       "    </tr>\n",
       "    <tr>\n",
       "      <th>D8</th>\n",
       "      <td>147.595785</td>\n",
       "      <td>139.795556</td>\n",
       "      <td>142.433153</td>\n",
       "      <td>0.000000</td>\n",
       "      <td>142.433153</td>\n",
       "      <td>142.433153</td>\n",
       "    </tr>\n",
       "    <tr>\n",
       "      <th>D9</th>\n",
       "      <td>159.186481</td>\n",
       "      <td>151.728238</td>\n",
       "      <td>142.029929</td>\n",
       "      <td>0.000000</td>\n",
       "      <td>142.029929</td>\n",
       "      <td>142.029929</td>\n",
       "    </tr>\n",
       "    <tr>\n",
       "      <th>D10</th>\n",
       "      <td>139.320979</td>\n",
       "      <td>167.046323</td>\n",
       "      <td>158.382273</td>\n",
       "      <td>0.000000</td>\n",
       "      <td>158.382273</td>\n",
       "      <td>0.000000</td>\n",
       "    </tr>\n",
       "  </tbody>\n",
       "</table>\n",
       "</div>"
      ],
      "text/plain": [
       "           Lap1        Lap2        Lap3        MCAR         MAR        MNAR\n",
       "D1   148.271982  132.845523  135.472970    0.000000    0.000000  135.472970\n",
       "D2   148.852732  158.756813  149.513948    0.000000  149.513948  149.513948\n",
       "D3   141.498454  142.350294  154.712935  154.712935  154.712935    0.000000\n",
       "D4   138.908681    147.1301  168.964377    0.000000  168.964377    0.000000\n",
       "D5    146.91389  133.677467  137.196685  137.196685    0.000000  137.196685\n",
       "D6   154.116395  151.736728  141.973287  141.973287  141.973287  141.973287\n",
       "D7    143.33836  143.232631  130.660085    0.000000  130.660085  130.660085\n",
       "D8   147.595785  139.795556  142.433153    0.000000  142.433153  142.433153\n",
       "D9   159.186481  151.728238  142.029929    0.000000  142.029929  142.029929\n",
       "D10  139.320979  167.046323  158.382273    0.000000  158.382273    0.000000"
      ]
     },
     "execution_count": 14,
     "metadata": {},
     "output_type": "execute_result"
    }
   ],
   "source": [
    "#View the dataset\n",
    "Laps"
   ]
  },
  {
   "cell_type": "markdown",
   "id": "74a3bf41",
   "metadata": {},
   "source": [
    "A good question right now would be: How to detect whether the missing values in your dataset are MCAR, MAR or MNAR? \n",
    "\n",
    "Here is a good discussion I found on Kaggle: https://www.kaggle.com/questions-and-answers/105010 \n",
    "\n",
    "Now, we move onto the more advanced missing value imputation methods, starting with Expectation Maximization."
   ]
  },
  {
   "cell_type": "markdown",
   "id": "8b199dd6",
   "metadata": {},
   "source": [
    "## Expectation Maximization"
   ]
  },
  {
   "cell_type": "markdown",
   "id": "bcd24cdb",
   "metadata": {},
   "source": [
    "Expectation Maximization is an iterative algorithm used to calculate the maximum likelihood estimates for the parameters of a statistical model that depends on latent variables (or unobserved variables). Due to its nature of working with statistical models of unobserved variables, it is suitable for missing data imputations.\n",
    "\n",
    "In more details, suppose you have an explicit form for the joint distribution of $X_{obs}$ (the observed data), and $X_{mis}$ (the missing data). The goal is to estimate the parameters $\\theta \\in \\mathbb{R}^{d}$ for the statistical model of the joint distribution ($X_{obs}$,$X_{mis}$) by calculating the maximum likelihood estimates for the likelihood function of the marginal distribution of $X_{obs}$. We have that:\n",
    "$$\n",
    "L(\\theta ; X_{obs}) = p(X_{obs} | \\theta) = \\int p(X_{obs},X_{mis} | \\theta) \\, dX_{mis} = \\int p(X_{obs} | X_{mis},\\theta) p(X_{mis}|\\theta) \\, dX_{mis} \n",
    "$$\n",
    "As we do not observe the missing values $X_{mis}$, we cannot always compute the above explicitly. \n",
    "\n",
    "This is where EM comes into play. It obtains the maximum likelihood estimates for the marginal distribution of $X_{obs}$ by iteratively maximizing the expected complete-data log likelihood. Here are the two steps of the iteration:\n",
    "\n",
    "Start with an initial estimate $\\theta^{(0)}$ and let $\\theta^{(t)}$ be the iterate for the parameter $\\theta$ in the  $t^{th}$ iteration of the algorithm.\n",
    "\n",
    "<b> 1) Expectation: </b> Compute the expectation of the log likelihood of the complete-data with respect to the conditional distribution of $X_{mis}$ parameterized by $\\theta^{(t)}$: \n",
    "$$\n",
    "Q(\\theta, \\theta^{(t)}) = \\mathbb{E}_{X_{mis} | X_{obs},\\theta^{(t)}}[log(l(\\theta ; X_{obs}, X_{mis})]\n",
    "$$\n",
    "\n",
    "<b> 2) Maximization: </b> Obtain the value of $\\theta$ that maximizes Q($\\theta$, $\\theta^{(t)})$:\n",
    "\n",
    "$$\n",
    "\\theta^{(t+1)} = argmax_{\\theta} \\, Q(\\theta, \\theta^{(t)})\n",
    "$$\n",
    "\n",
    "The algorithm keeps iterating until it reaches a point where the difference between the estimates is negligible, and the algorithm is thought to have converged.\n",
    "\n",
    "In a nutshell, the algorithm starts with $\\theta^{(0)}$, then it estimates the values for the missing data using the observed data and the parameters $\\theta^{(0)}$, then it calculates the maximum likelihood parameter estimates for the complete-data, then it estimates new values for the previous missing data, and then the process keeps repeating until it converges. \n",
    "\n",
    "\n",
    "Expectation Maximization only works with MCAR and MAR missing data, and it works specifically well with distributions from the exponential family. One thing to bear in mind is that it calculates the local maximum likelihood estimates, and so for multimodal distributions, the global likelihood might not be obtained. \n",
    "\n",
    "- - - - - -\n",
    "\n",
    "Let us work through a simulated dataset from a multivariate normal distribution, where we are going to remove data randomly using the help of a binomial distribution as we did before; so that they fall under the MCAR missing data category.\n",
    "\n",
    "We are going to simulate random vectors of size 3 from a multivariate normal distribution with the following mean vector and variance covariance matrix (Feel free to change the parameters if you'd like):"
   ]
  },
  {
   "cell_type": "code",
   "execution_count": 15,
   "id": "32012fdf",
   "metadata": {},
   "outputs": [
    {
     "data": {
      "text/plain": [
       "array([19.02890616,  5.11092011, 12.93425969])"
      ]
     },
     "execution_count": 15,
     "metadata": {},
     "output_type": "execute_result"
    }
   ],
   "source": [
    "#The mean vector\n",
    "Mean = rand.normal(10,5,3)\n",
    "Mean"
   ]
  },
  {
   "cell_type": "code",
   "execution_count": 16,
   "id": "1d1dccf0",
   "metadata": {},
   "outputs": [
    {
     "data": {
      "text/plain": [
       "array([[1, 1, 1],\n",
       "       [1, 1, 1],\n",
       "       [1, 1, 1]])"
      ]
     },
     "execution_count": 16,
     "metadata": {},
     "output_type": "execute_result"
    }
   ],
   "source": [
    "#The variance-covariance matrix\n",
    "Cov_matrix = np.array([[1,1,1], [1,1,1], [1,1,1]])\n",
    "Cov_matrix"
   ]
  },
  {
   "cell_type": "code",
   "execution_count": 17,
   "id": "70631dd4",
   "metadata": {},
   "outputs": [],
   "source": [
    "#Generate 200 vectors from a multivariate normal distribution with the mean vector and var-cov matrix specified above \n",
    "vect = rand.multivariate_normal(mean =Mean,cov = Cov_matrix, size = (200))"
   ]
  },
  {
   "cell_type": "code",
   "execution_count": 18,
   "id": "364ecd72",
   "metadata": {},
   "outputs": [
    {
     "name": "stdout",
     "output_type": "stream",
     "text": [
      "[[18.14969327  4.23170722 12.0550468 ]\n",
      " [20.41513079  6.49714474 14.32048432]\n",
      " [20.5292774   6.61129135 14.43463093]\n",
      " [17.76408557  3.84609952 11.6694391 ]\n",
      " [18.77488851  4.85690247 12.68024205]\n",
      " [16.66073755  2.74275149 10.56609107]\n",
      " [17.91021271  3.99222665 11.81556623]\n",
      " [19.21658649  5.29860044 13.12194002]\n",
      " [19.4558335   5.53784745 13.36118703]\n",
      " [18.87258439  4.95459833 12.77793791]]\n"
     ]
    }
   ],
   "source": [
    "#View the first 10 vectors\n",
    "print(vect[0:10])"
   ]
  },
  {
   "cell_type": "markdown",
   "id": "74dc4d38",
   "metadata": {},
   "source": [
    "Now, we are going to remove some of the data randomly from the third entry of the vectors so that we could then try imputing them using EM and other simple imputations methods. \n",
    "\n",
    "Let us start by creating a copy from the array so that we could have a full array and another array with MCAR values in the third entry that we could impute and compare to the original array."
   ]
  },
  {
   "cell_type": "code",
   "execution_count": 19,
   "id": "c88b7d35",
   "metadata": {},
   "outputs": [],
   "source": [
    "#Create a copy from the original array\n",
    "sim_array_missing = vect.copy()\n"
   ]
  },
  {
   "cell_type": "code",
   "execution_count": 20,
   "id": "ab9df334",
   "metadata": {},
   "outputs": [],
   "source": [
    "#Remove data from the third entry randomly (as done before)\n",
    "sim_array_missing[:,2] = sim_array_missing[:,2]*rand.binomial(1,0.5,200)\n",
    "sim_array_missing[:,2] = np.where(sim_array_missing[:,2] == 0, np.nan, sim_array_missing[:,2])"
   ]
  },
  {
   "cell_type": "markdown",
   "id": "3e6d6ec3",
   "metadata": {},
   "source": [
    "Download a library called `impyute` using `pip install impyute`. \n",
    "\n",
    "Then, import impyute as impy into the notebook:"
   ]
  },
  {
   "cell_type": "code",
   "execution_count": 21,
   "id": "627d22c7",
   "metadata": {},
   "outputs": [],
   "source": [
    "#import impyute\n",
    "import impyute as impy"
   ]
  },
  {
   "cell_type": "markdown",
   "id": "27b10107",
   "metadata": {},
   "source": [
    "Quickly research how impyute is used, and then create three arrays where each array has its missing values imputed using one of the following methods: \n",
    "\n",
    "- Expectation Maximization\n",
    "- Mean\n",
    "- Median "
   ]
  },
  {
   "cell_type": "code",
   "execution_count": 22,
   "id": "18d15f63",
   "metadata": {},
   "outputs": [],
   "source": [
    "#Create the array imputed with EM\n",
    "sim_array_em_imputed = impy.em(sim_array_missing)"
   ]
  },
  {
   "cell_type": "code",
   "execution_count": 23,
   "id": "dba9015d",
   "metadata": {},
   "outputs": [],
   "source": [
    "#Create the array imputed with the mean\n",
    "sim_array_mean_imputed = impy.mean(sim_array_missing)"
   ]
  },
  {
   "cell_type": "code",
   "execution_count": 24,
   "id": "65fc82ae",
   "metadata": {},
   "outputs": [],
   "source": [
    "#Create the array imputed with the median\n",
    "sim_array_median_imputed = impy.median(sim_array_missing)"
   ]
  },
  {
   "cell_type": "markdown",
   "id": "48e30b88",
   "metadata": {},
   "source": [
    "## Comparing them together"
   ]
  },
  {
   "cell_type": "markdown",
   "id": "e2de3b65",
   "metadata": {},
   "source": [
    "Now, we are going to specify the entries that were imputed in the three imputation methods, and then compare them by concatenating them together alongside the original data, and then using matplotlib to plot a graph for the data from the three imputed methods as well as the original data. \n",
    "\n",
    "Let us start by specifying the indices of the observations where there was a missing value in the third entry: \n"
   ]
  },
  {
   "cell_type": "code",
   "execution_count": 25,
   "id": "a74bf7b5",
   "metadata": {},
   "outputs": [
    {
     "data": {
      "text/plain": [
       "array([  0,   2,   3,   4,   5,   6,   8,   9,  11,  12,  14,  15,  18,\n",
       "        19,  23,  24,  25,  30,  31,  33,  36,  40,  41,  42,  43,  44,\n",
       "        45,  51,  53,  54,  55,  56,  58,  60,  67,  68,  69,  70,  72,\n",
       "        74,  76,  77,  79,  81,  83,  84,  85,  89,  97,  99, 102, 103,\n",
       "       106, 107, 109, 110, 116, 119, 121, 122, 123, 128, 130, 131, 136,\n",
       "       137, 138, 139, 140, 142, 144, 148, 150, 152, 154, 156, 157, 158,\n",
       "       159, 165, 166, 170, 172, 174, 176, 177, 181, 182, 184, 185, 187,\n",
       "       188, 189, 190, 194, 195, 196, 198, 199], dtype=int64)"
      ]
     },
     "execution_count": 25,
     "metadata": {},
     "output_type": "execute_result"
    }
   ],
   "source": [
    "#Create an array with the indices of the observations where there was a missing value in the third entry\n",
    "indices = np.argwhere(np.isnan(sim_array_missing))[:,0]\n",
    "indices"
   ]
  },
  {
   "cell_type": "code",
   "execution_count": 26,
   "id": "f2af260e",
   "metadata": {},
   "outputs": [],
   "source": [
    "#Create an array with the EM imputed values \n",
    "a = sim_array_em_imputed[indices,2]"
   ]
  },
  {
   "cell_type": "code",
   "execution_count": 27,
   "id": "d115340d",
   "metadata": {},
   "outputs": [],
   "source": [
    "#Create an array with the mean imputed values\n",
    "b = sim_array_mean_imputed[indices,2]"
   ]
  },
  {
   "cell_type": "code",
   "execution_count": 28,
   "id": "60fc83d4",
   "metadata": {},
   "outputs": [],
   "source": [
    "#Create an array with the median imputed values \n",
    "c = sim_array_median_imputed[indices,2]"
   ]
  },
  {
   "cell_type": "code",
   "execution_count": 29,
   "id": "8d569347",
   "metadata": {},
   "outputs": [],
   "source": [
    "#Create an array with the original data \n",
    "d = vect[indices,2]"
   ]
  },
  {
   "cell_type": "markdown",
   "id": "a0832452",
   "metadata": {},
   "source": [
    "Now, create three datasets where each dataset contain the imputed values from one data imputation method, and one final dataset with the original data."
   ]
  },
  {
   "cell_type": "code",
   "execution_count": 30,
   "id": "fcd199b1",
   "metadata": {},
   "outputs": [
    {
     "data": {
      "text/html": [
       "<div>\n",
       "<style scoped>\n",
       "    .dataframe tbody tr th:only-of-type {\n",
       "        vertical-align: middle;\n",
       "    }\n",
       "\n",
       "    .dataframe tbody tr th {\n",
       "        vertical-align: top;\n",
       "    }\n",
       "\n",
       "    .dataframe thead th {\n",
       "        text-align: right;\n",
       "    }\n",
       "</style>\n",
       "<table border=\"1\" class=\"dataframe\">\n",
       "  <thead>\n",
       "    <tr style=\"text-align: right;\">\n",
       "      <th></th>\n",
       "      <th>EM_imputed</th>\n",
       "    </tr>\n",
       "  </thead>\n",
       "  <tbody>\n",
       "    <tr>\n",
       "      <th>0</th>\n",
       "      <td>13.621966</td>\n",
       "    </tr>\n",
       "    <tr>\n",
       "      <th>1</th>\n",
       "      <td>14.439823</td>\n",
       "    </tr>\n",
       "    <tr>\n",
       "      <th>2</th>\n",
       "      <td>12.523295</td>\n",
       "    </tr>\n",
       "    <tr>\n",
       "      <th>3</th>\n",
       "      <td>11.723295</td>\n",
       "    </tr>\n",
       "    <tr>\n",
       "      <th>4</th>\n",
       "      <td>13.142303</td>\n",
       "    </tr>\n",
       "    <tr>\n",
       "      <th>...</th>\n",
       "      <td>...</td>\n",
       "    </tr>\n",
       "    <tr>\n",
       "      <th>94</th>\n",
       "      <td>12.616354</td>\n",
       "    </tr>\n",
       "    <tr>\n",
       "      <th>95</th>\n",
       "      <td>12.034212</td>\n",
       "    </tr>\n",
       "    <tr>\n",
       "      <th>96</th>\n",
       "      <td>12.192145</td>\n",
       "    </tr>\n",
       "    <tr>\n",
       "      <th>97</th>\n",
       "      <td>11.727850</td>\n",
       "    </tr>\n",
       "    <tr>\n",
       "      <th>98</th>\n",
       "      <td>12.272701</td>\n",
       "    </tr>\n",
       "  </tbody>\n",
       "</table>\n",
       "<p>99 rows × 1 columns</p>\n",
       "</div>"
      ],
      "text/plain": [
       "    EM_imputed\n",
       "0    13.621966\n",
       "1    14.439823\n",
       "2    12.523295\n",
       "3    11.723295\n",
       "4    13.142303\n",
       "..         ...\n",
       "94   12.616354\n",
       "95   12.034212\n",
       "96   12.192145\n",
       "97   11.727850\n",
       "98   12.272701\n",
       "\n",
       "[99 rows x 1 columns]"
      ]
     },
     "execution_count": 30,
     "metadata": {},
     "output_type": "execute_result"
    }
   ],
   "source": [
    "#Create a dataset with the EM imputed values\n",
    "EM = pd.DataFrame(data=a, columns=['EM_imputed'])\n",
    "EM"
   ]
  },
  {
   "cell_type": "code",
   "execution_count": 31,
   "id": "e78c05dd",
   "metadata": {},
   "outputs": [
    {
     "data": {
      "text/html": [
       "<div>\n",
       "<style scoped>\n",
       "    .dataframe tbody tr th:only-of-type {\n",
       "        vertical-align: middle;\n",
       "    }\n",
       "\n",
       "    .dataframe tbody tr th {\n",
       "        vertical-align: top;\n",
       "    }\n",
       "\n",
       "    .dataframe thead th {\n",
       "        text-align: right;\n",
       "    }\n",
       "</style>\n",
       "<table border=\"1\" class=\"dataframe\">\n",
       "  <thead>\n",
       "    <tr style=\"text-align: right;\">\n",
       "      <th></th>\n",
       "      <th>Mean_imputed</th>\n",
       "    </tr>\n",
       "  </thead>\n",
       "  <tbody>\n",
       "    <tr>\n",
       "      <th>0</th>\n",
       "      <td>12.94511</td>\n",
       "    </tr>\n",
       "    <tr>\n",
       "      <th>1</th>\n",
       "      <td>12.94511</td>\n",
       "    </tr>\n",
       "    <tr>\n",
       "      <th>2</th>\n",
       "      <td>12.94511</td>\n",
       "    </tr>\n",
       "    <tr>\n",
       "      <th>3</th>\n",
       "      <td>12.94511</td>\n",
       "    </tr>\n",
       "    <tr>\n",
       "      <th>4</th>\n",
       "      <td>12.94511</td>\n",
       "    </tr>\n",
       "    <tr>\n",
       "      <th>...</th>\n",
       "      <td>...</td>\n",
       "    </tr>\n",
       "    <tr>\n",
       "      <th>94</th>\n",
       "      <td>12.94511</td>\n",
       "    </tr>\n",
       "    <tr>\n",
       "      <th>95</th>\n",
       "      <td>12.94511</td>\n",
       "    </tr>\n",
       "    <tr>\n",
       "      <th>96</th>\n",
       "      <td>12.94511</td>\n",
       "    </tr>\n",
       "    <tr>\n",
       "      <th>97</th>\n",
       "      <td>12.94511</td>\n",
       "    </tr>\n",
       "    <tr>\n",
       "      <th>98</th>\n",
       "      <td>12.94511</td>\n",
       "    </tr>\n",
       "  </tbody>\n",
       "</table>\n",
       "<p>99 rows × 1 columns</p>\n",
       "</div>"
      ],
      "text/plain": [
       "    Mean_imputed\n",
       "0       12.94511\n",
       "1       12.94511\n",
       "2       12.94511\n",
       "3       12.94511\n",
       "4       12.94511\n",
       "..           ...\n",
       "94      12.94511\n",
       "95      12.94511\n",
       "96      12.94511\n",
       "97      12.94511\n",
       "98      12.94511\n",
       "\n",
       "[99 rows x 1 columns]"
      ]
     },
     "execution_count": 31,
     "metadata": {},
     "output_type": "execute_result"
    }
   ],
   "source": [
    "#Create a dataset with the mean imputed values\n",
    "Mean = pd.DataFrame(data=b, columns=['Mean_imputed'])\n",
    "Mean"
   ]
  },
  {
   "cell_type": "code",
   "execution_count": 32,
   "id": "d07ea151",
   "metadata": {},
   "outputs": [
    {
     "data": {
      "text/html": [
       "<div>\n",
       "<style scoped>\n",
       "    .dataframe tbody tr th:only-of-type {\n",
       "        vertical-align: middle;\n",
       "    }\n",
       "\n",
       "    .dataframe tbody tr th {\n",
       "        vertical-align: top;\n",
       "    }\n",
       "\n",
       "    .dataframe thead th {\n",
       "        text-align: right;\n",
       "    }\n",
       "</style>\n",
       "<table border=\"1\" class=\"dataframe\">\n",
       "  <thead>\n",
       "    <tr style=\"text-align: right;\">\n",
       "      <th></th>\n",
       "      <th>Median_imputed</th>\n",
       "    </tr>\n",
       "  </thead>\n",
       "  <tbody>\n",
       "    <tr>\n",
       "      <th>0</th>\n",
       "      <td>12.860913</td>\n",
       "    </tr>\n",
       "    <tr>\n",
       "      <th>1</th>\n",
       "      <td>12.860913</td>\n",
       "    </tr>\n",
       "    <tr>\n",
       "      <th>2</th>\n",
       "      <td>12.860913</td>\n",
       "    </tr>\n",
       "    <tr>\n",
       "      <th>3</th>\n",
       "      <td>12.860913</td>\n",
       "    </tr>\n",
       "    <tr>\n",
       "      <th>4</th>\n",
       "      <td>12.860913</td>\n",
       "    </tr>\n",
       "    <tr>\n",
       "      <th>...</th>\n",
       "      <td>...</td>\n",
       "    </tr>\n",
       "    <tr>\n",
       "      <th>94</th>\n",
       "      <td>12.860913</td>\n",
       "    </tr>\n",
       "    <tr>\n",
       "      <th>95</th>\n",
       "      <td>12.860913</td>\n",
       "    </tr>\n",
       "    <tr>\n",
       "      <th>96</th>\n",
       "      <td>12.860913</td>\n",
       "    </tr>\n",
       "    <tr>\n",
       "      <th>97</th>\n",
       "      <td>12.860913</td>\n",
       "    </tr>\n",
       "    <tr>\n",
       "      <th>98</th>\n",
       "      <td>12.860913</td>\n",
       "    </tr>\n",
       "  </tbody>\n",
       "</table>\n",
       "<p>99 rows × 1 columns</p>\n",
       "</div>"
      ],
      "text/plain": [
       "    Median_imputed\n",
       "0        12.860913\n",
       "1        12.860913\n",
       "2        12.860913\n",
       "3        12.860913\n",
       "4        12.860913\n",
       "..             ...\n",
       "94       12.860913\n",
       "95       12.860913\n",
       "96       12.860913\n",
       "97       12.860913\n",
       "98       12.860913\n",
       "\n",
       "[99 rows x 1 columns]"
      ]
     },
     "execution_count": 32,
     "metadata": {},
     "output_type": "execute_result"
    }
   ],
   "source": [
    "#Create a dataset with the median imputed values\n",
    "Median = pd.DataFrame(data=c, columns=['Median_imputed'])\n",
    "Median"
   ]
  },
  {
   "cell_type": "code",
   "execution_count": 33,
   "id": "54a7f5d4",
   "metadata": {},
   "outputs": [
    {
     "data": {
      "text/html": [
       "<div>\n",
       "<style scoped>\n",
       "    .dataframe tbody tr th:only-of-type {\n",
       "        vertical-align: middle;\n",
       "    }\n",
       "\n",
       "    .dataframe tbody tr th {\n",
       "        vertical-align: top;\n",
       "    }\n",
       "\n",
       "    .dataframe thead th {\n",
       "        text-align: right;\n",
       "    }\n",
       "</style>\n",
       "<table border=\"1\" class=\"dataframe\">\n",
       "  <thead>\n",
       "    <tr style=\"text-align: right;\">\n",
       "      <th></th>\n",
       "      <th>Original data</th>\n",
       "    </tr>\n",
       "  </thead>\n",
       "  <tbody>\n",
       "    <tr>\n",
       "      <th>0</th>\n",
       "      <td>12.055047</td>\n",
       "    </tr>\n",
       "    <tr>\n",
       "      <th>1</th>\n",
       "      <td>14.434631</td>\n",
       "    </tr>\n",
       "    <tr>\n",
       "      <th>2</th>\n",
       "      <td>11.669439</td>\n",
       "    </tr>\n",
       "    <tr>\n",
       "      <th>3</th>\n",
       "      <td>12.680242</td>\n",
       "    </tr>\n",
       "    <tr>\n",
       "      <th>4</th>\n",
       "      <td>10.566091</td>\n",
       "    </tr>\n",
       "    <tr>\n",
       "      <th>...</th>\n",
       "      <td>...</td>\n",
       "    </tr>\n",
       "    <tr>\n",
       "      <th>94</th>\n",
       "      <td>11.918931</td>\n",
       "    </tr>\n",
       "    <tr>\n",
       "      <th>95</th>\n",
       "      <td>14.186799</td>\n",
       "    </tr>\n",
       "    <tr>\n",
       "      <th>96</th>\n",
       "      <td>13.348421</td>\n",
       "    </tr>\n",
       "    <tr>\n",
       "      <th>97</th>\n",
       "      <td>13.398582</td>\n",
       "    </tr>\n",
       "    <tr>\n",
       "      <th>98</th>\n",
       "      <td>13.885535</td>\n",
       "    </tr>\n",
       "  </tbody>\n",
       "</table>\n",
       "<p>99 rows × 1 columns</p>\n",
       "</div>"
      ],
      "text/plain": [
       "    Original data\n",
       "0       12.055047\n",
       "1       14.434631\n",
       "2       11.669439\n",
       "3       12.680242\n",
       "4       10.566091\n",
       "..            ...\n",
       "94      11.918931\n",
       "95      14.186799\n",
       "96      13.348421\n",
       "97      13.398582\n",
       "98      13.885535\n",
       "\n",
       "[99 rows x 1 columns]"
      ]
     },
     "execution_count": 33,
     "metadata": {},
     "output_type": "execute_result"
    }
   ],
   "source": [
    "#Create a dataset with the original values\n",
    "Origin = pd.DataFrame(data=d, columns=['Original data'])\n",
    "Origin"
   ]
  },
  {
   "cell_type": "markdown",
   "id": "76b48b94",
   "metadata": {},
   "source": [
    "Now, concatenate the four datasets together to help in the comparison between the values from the different imputation methods:"
   ]
  },
  {
   "cell_type": "code",
   "execution_count": 34,
   "id": "7a251c63",
   "metadata": {},
   "outputs": [],
   "source": [
    "#Concatenate the above four datasets \n",
    "full_dataset = pd.concat((EM, Mean, Median, Origin), axis=1)"
   ]
  },
  {
   "cell_type": "code",
   "execution_count": 35,
   "id": "abbebd05",
   "metadata": {},
   "outputs": [
    {
     "data": {
      "text/html": [
       "<div>\n",
       "<style scoped>\n",
       "    .dataframe tbody tr th:only-of-type {\n",
       "        vertical-align: middle;\n",
       "    }\n",
       "\n",
       "    .dataframe tbody tr th {\n",
       "        vertical-align: top;\n",
       "    }\n",
       "\n",
       "    .dataframe thead th {\n",
       "        text-align: right;\n",
       "    }\n",
       "</style>\n",
       "<table border=\"1\" class=\"dataframe\">\n",
       "  <thead>\n",
       "    <tr style=\"text-align: right;\">\n",
       "      <th></th>\n",
       "      <th>EM_imputed</th>\n",
       "      <th>Mean_imputed</th>\n",
       "      <th>Median_imputed</th>\n",
       "      <th>Original data</th>\n",
       "    </tr>\n",
       "  </thead>\n",
       "  <tbody>\n",
       "    <tr>\n",
       "      <th>0</th>\n",
       "      <td>13.621966</td>\n",
       "      <td>12.94511</td>\n",
       "      <td>12.860913</td>\n",
       "      <td>12.055047</td>\n",
       "    </tr>\n",
       "    <tr>\n",
       "      <th>1</th>\n",
       "      <td>14.439823</td>\n",
       "      <td>12.94511</td>\n",
       "      <td>12.860913</td>\n",
       "      <td>14.434631</td>\n",
       "    </tr>\n",
       "    <tr>\n",
       "      <th>2</th>\n",
       "      <td>12.523295</td>\n",
       "      <td>12.94511</td>\n",
       "      <td>12.860913</td>\n",
       "      <td>11.669439</td>\n",
       "    </tr>\n",
       "    <tr>\n",
       "      <th>3</th>\n",
       "      <td>11.723295</td>\n",
       "      <td>12.94511</td>\n",
       "      <td>12.860913</td>\n",
       "      <td>12.680242</td>\n",
       "    </tr>\n",
       "    <tr>\n",
       "      <th>4</th>\n",
       "      <td>13.142303</td>\n",
       "      <td>12.94511</td>\n",
       "      <td>12.860913</td>\n",
       "      <td>10.566091</td>\n",
       "    </tr>\n",
       "    <tr>\n",
       "      <th>...</th>\n",
       "      <td>...</td>\n",
       "      <td>...</td>\n",
       "      <td>...</td>\n",
       "      <td>...</td>\n",
       "    </tr>\n",
       "    <tr>\n",
       "      <th>94</th>\n",
       "      <td>12.616354</td>\n",
       "      <td>12.94511</td>\n",
       "      <td>12.860913</td>\n",
       "      <td>11.918931</td>\n",
       "    </tr>\n",
       "    <tr>\n",
       "      <th>95</th>\n",
       "      <td>12.034212</td>\n",
       "      <td>12.94511</td>\n",
       "      <td>12.860913</td>\n",
       "      <td>14.186799</td>\n",
       "    </tr>\n",
       "    <tr>\n",
       "      <th>96</th>\n",
       "      <td>12.192145</td>\n",
       "      <td>12.94511</td>\n",
       "      <td>12.860913</td>\n",
       "      <td>13.348421</td>\n",
       "    </tr>\n",
       "    <tr>\n",
       "      <th>97</th>\n",
       "      <td>11.727850</td>\n",
       "      <td>12.94511</td>\n",
       "      <td>12.860913</td>\n",
       "      <td>13.398582</td>\n",
       "    </tr>\n",
       "    <tr>\n",
       "      <th>98</th>\n",
       "      <td>12.272701</td>\n",
       "      <td>12.94511</td>\n",
       "      <td>12.860913</td>\n",
       "      <td>13.885535</td>\n",
       "    </tr>\n",
       "  </tbody>\n",
       "</table>\n",
       "<p>99 rows × 4 columns</p>\n",
       "</div>"
      ],
      "text/plain": [
       "    EM_imputed  Mean_imputed  Median_imputed  Original data\n",
       "0    13.621966      12.94511       12.860913      12.055047\n",
       "1    14.439823      12.94511       12.860913      14.434631\n",
       "2    12.523295      12.94511       12.860913      11.669439\n",
       "3    11.723295      12.94511       12.860913      12.680242\n",
       "4    13.142303      12.94511       12.860913      10.566091\n",
       "..         ...           ...             ...            ...\n",
       "94   12.616354      12.94511       12.860913      11.918931\n",
       "95   12.034212      12.94511       12.860913      14.186799\n",
       "96   12.192145      12.94511       12.860913      13.348421\n",
       "97   11.727850      12.94511       12.860913      13.398582\n",
       "98   12.272701      12.94511       12.860913      13.885535\n",
       "\n",
       "[99 rows x 4 columns]"
      ]
     },
     "execution_count": 35,
     "metadata": {},
     "output_type": "execute_result"
    }
   ],
   "source": [
    "#View the new dataset\n",
    "full_dataset"
   ]
  },
  {
   "cell_type": "markdown",
   "id": "dd4125c2",
   "metadata": {},
   "source": [
    "Now, plot a line graph for the data imputed from the three imputation methods as well as the original data in one plot:"
   ]
  },
  {
   "cell_type": "code",
   "execution_count": 36,
   "id": "d4f4f57c",
   "metadata": {},
   "outputs": [
    {
     "data": {
      "image/png": "[encoded data removed]",
      "text/plain": [
       "<Figure size 3000x1000 with 1 Axes>"
      ]
     },
     "metadata": {},
     "output_type": "display_data"
    }
   ],
   "source": [
    "#Plot a line graph for the data imputed from the three imputation methods and the original data \n",
    "x = np.linspace(1,a.size, a.size)\n",
    "fig, ax = plt.subplots(figsize=(30,10))\n",
    "ax.plot(x, a, marker='o',label='EM')\n",
    "ax.plot(x,b,marker='o', label='Mean')\n",
    "ax.plot(x,c,marker='o', label='Median')\n",
    "ax.plot(x,d,marker='o', label='Original')\n",
    "ax.legend()\n",
    "plt.show()"
   ]
  },
  {
   "cell_type": "markdown",
   "id": "274aab62",
   "metadata": {},
   "source": [
    "- - - - - -"
   ]
  },
  {
   "cell_type": "markdown",
   "id": "be7b7b09",
   "metadata": {},
   "source": [
    "## Linear Regression imputation"
   ]
  },
  {
   "cell_type": "markdown",
   "id": "e8a08a3f",
   "metadata": {},
   "source": [
    "If you have a dataset where one of the variables has some missing values, and this variable correlates strongly with one other or more variables in the dataset, then Linear Regression imputation might work really well. \n",
    "\n",
    "It fits a linear regression model where the variable with the missing values is the target/response variable, and the other variable/s (has no missing data) that correlate with it as the predictor variable/s. \n",
    "\n",
    "Because relationships/correlations between variables are conserved in this imputation method, it has an advantage over the simpler imputation methods such as the mean and median in some of the cases.\n",
    "\n",
    "There are two versions for this imputation method: \n",
    "\n",
    "<b> 1) Deterministic Regression Imputation: </b>\n",
    "\n",
    "This is when the missing values are imputed with the exact predictions from the linear regression model, without adding any error terms to it. A disadvantage for this is that it reduces the variability of the imputed variable. This is because the imputed values would lie exactly on the regression hyperplane, which is not a very good representative of real world data. This leads to the second version.\n",
    "\n",
    "<b> 2) Stochastic Regression Imputation: </b>\n",
    "\n",
    "This follows the same idea of Deterministic Regression Imputation but with the addition of a random error term to the predicted value. \n",
    "\n",
    "You will try by yourself an example of imputing missing data using both methods to see how each one performs. "
   ]
  },
  {
   "cell_type": "markdown",
   "id": "dc37d342",
   "metadata": {},
   "source": [
    "Again, let us simulate two variables that are correlated.\n",
    "\n",
    "Start by generating 100 data points from a normal distribution of mean 5 and standard deviation 1. Call this array col1."
   ]
  },
  {
   "cell_type": "code",
   "execution_count": 37,
   "id": "b275121e",
   "metadata": {},
   "outputs": [],
   "source": [
    "# Generate 100 data points from a normal distribution of mean 5 and standard deviation 1. \n",
    "col1 = rand.normal(5.,1.,100)"
   ]
  },
  {
   "cell_type": "markdown",
   "id": "4a0f4a5a",
   "metadata": {},
   "source": [
    "Simulate another random variable that correlates with it. Remember to add a random noise/term to prevent the two variables from correlating perfectly. Call this array col2."
   ]
  },
  {
   "cell_type": "code",
   "execution_count": 38,
   "id": "991eafab",
   "metadata": {},
   "outputs": [],
   "source": [
    "#Generate another 100 data points that correlate with the previously generated 100 data points\n",
    "col2 = col1*1.5 +  rand.normal(0.,.5,100)\n"
   ]
  },
  {
   "cell_type": "code",
   "execution_count": 39,
   "id": "198177ec",
   "metadata": {},
   "outputs": [
    {
     "data": {
      "image/png": "[encoded data removed]",
      "text/plain": [
       "<Figure size 640x480 with 1 Axes>"
      ]
     },
     "metadata": {},
     "output_type": "display_data"
    }
   ],
   "source": [
    "#Create a scatterplot for col2 against col1\n",
    "plt.scatter(col1,col2)\n",
    "plt.show()"
   ]
  },
  {
   "cell_type": "markdown",
   "id": "da08beae",
   "metadata": {},
   "source": [
    "Again, we will remove data randomly from col2 using the binomial distribution; so that the missing data fall under the MCAR type."
   ]
  },
  {
   "cell_type": "code",
   "execution_count": 40,
   "id": "6a609735",
   "metadata": {},
   "outputs": [],
   "source": [
    "#Create a copy of v2.\n",
    "col2_MCAR = col2.copy()"
   ]
  },
  {
   "cell_type": "code",
   "execution_count": 41,
   "id": "5eac73d9",
   "metadata": {},
   "outputs": [],
   "source": [
    "#Remove data randomly\n",
    "col2_MCAR = col2_MCAR * rand.binomial(1,0.5,100)\n",
    "col2_MCAR = np.where(col2_MCAR == 0, np.nan, col2_MCAR) # nice method"
   ]
  },
  {
   "cell_type": "code",
   "execution_count": 42,
   "id": "615b8e2b",
   "metadata": {},
   "outputs": [
    {
     "data": {
      "text/plain": [
       "array([        nan,         nan,         nan,         nan, 10.33926674,\n",
       "               nan,  8.23283887,         nan,         nan,         nan,\n",
       "               nan,         nan,         nan,  5.67387175,         nan,\n",
       "               nan,  6.57399764,         nan,  7.32889675,         nan,\n",
       "        5.19345759,  8.45467643,  9.30828833,  6.17824514,         nan,\n",
       "               nan,  9.77846961,  5.99260886,  7.77134764,  8.80783567,\n",
       "        4.73570019,         nan,         nan,  5.59174395,  5.0437747 ,\n",
       "        8.20729364,         nan,         nan,  7.45647149,  9.43907523,\n",
       "        8.50961461,  6.62011702,  6.5029949 ,  8.90993855,  5.30715073,\n",
       "        8.894905  ,         nan,  8.70836095,         nan,  7.85237633,\n",
       "        8.8229904 ,  6.52911785,  8.13327024,         nan,  8.01765494,\n",
       "               nan,  9.43138425,         nan,         nan,         nan,\n",
       "               nan,         nan,         nan,  7.57599317,  7.60639554,\n",
       "        6.47298171,         nan,  6.58340803,  6.36445174,  6.78581532,\n",
       "               nan,  8.18506977,         nan,  6.12746328,         nan,\n",
       "        7.23635684, 10.40083874,  6.284585  ,         nan,  9.61311738,\n",
       "        4.95721008,         nan,  6.99016245,  7.97596032,  5.06158424,\n",
       "               nan,         nan,         nan,  8.57367591,  8.96218049,\n",
       "        4.7822006 , 10.40873562,  6.22096817,  6.48906309,         nan,\n",
       "        6.70263758,         nan,         nan,  5.94284426,  8.05677892])"
      ]
     },
     "execution_count": 42,
     "metadata": {},
     "output_type": "execute_result"
    }
   ],
   "source": [
    "#View v2 with missing data\n",
    "col2_MCAR"
   ]
  },
  {
   "cell_type": "code",
   "execution_count": 43,
   "id": "918ae423",
   "metadata": {},
   "outputs": [
    {
     "data": {
      "text/plain": [
       "array([ 0,  1,  2,  3,  5,  7,  8,  9, 10, 11, 12, 14, 15, 17, 19, 24, 25,\n",
       "       31, 32, 36, 37, 46, 48, 53, 55, 57, 58, 59, 60, 61, 62, 66, 70, 72,\n",
       "       74, 78, 81, 85, 86, 87, 94, 96, 97], dtype=int64)"
      ]
     },
     "execution_count": 43,
     "metadata": {},
     "output_type": "execute_result"
    }
   ],
   "source": [
    "#Find the indices of the observations that having a missing value for v2\n",
    "indices = np.argwhere(np.isnan(col2_MCAR))[:,0]\n",
    "indices"
   ]
  },
  {
   "cell_type": "markdown",
   "id": "1f16a0c3",
   "metadata": {},
   "source": [
    "Now, we are going to fit a linear regression model for the observations with no missing data. Recall in the third project session, we went through the steps of creating a linear regression model step by step. Now, we are going to make use of a library called `sklearn` that has a built-in function called LinearRegression. \n",
    "\n",
    "Read more about how to use it here, and then use it to fit a linear regression model where v1 is the predictor variable and v2 is the target/response variable. \n"
   ]
  },
  {
   "cell_type": "code",
   "execution_count": 44,
   "id": "f8e7039a",
   "metadata": {},
   "outputs": [],
   "source": [
    "#Import LinearRegression from sklearn.linear_model\n",
    "from sklearn.linear_model import LinearRegression"
   ]
  },
  {
   "cell_type": "code",
   "execution_count": 45,
   "id": "2e919c29",
   "metadata": {},
   "outputs": [],
   "source": [
    "#Find the indices of the observations that have no missing values \n",
    "indices2 = np.argwhere(~np.isnan(col2_MCAR))[:,0]"
   ]
  },
  {
   "cell_type": "code",
   "execution_count": 46,
   "id": "1da338e5",
   "metadata": {},
   "outputs": [],
   "source": [
    "#Create X_train for the v1 values for observations with no missing values\n",
    "X_train = col1[indices2]"
   ]
  },
  {
   "cell_type": "code",
   "execution_count": 47,
   "id": "3aac020c",
   "metadata": {},
   "outputs": [],
   "source": [
    "#Create y_train for the v2 values for observations with no missing values\n",
    "y_train = col2[indices2]"
   ]
  },
  {
   "cell_type": "markdown",
   "id": "d08fba8f",
   "metadata": {},
   "source": [
    "The LinearRegression function requires the X_train values to follow a specific format, where each entry is an array on its own, and all of those individual arrays are stacked on top of each others. I will reformat it for you."
   ]
  },
  {
   "cell_type": "code",
   "execution_count": 48,
   "id": "2968c25d",
   "metadata": {},
   "outputs": [],
   "source": [
    "X_train = np.reshape(X_train, [X_train.size,1])"
   ]
  },
  {
   "cell_type": "code",
   "execution_count": 49,
   "id": "1ed03d96",
   "metadata": {},
   "outputs": [],
   "source": [
    "#Fit the linear regression model\n",
    "Model_1= LinearRegression().fit(X_train, y_train)\n"
   ]
  },
  {
   "cell_type": "markdown",
   "id": "408b1883",
   "metadata": {},
   "source": [
    "## Deterministic Linear Regression"
   ]
  },
  {
   "cell_type": "markdown",
   "id": "33c22bd9",
   "metadata": {},
   "source": [
    "Let us start by imputing the missing values using the Deterministic Linear Regression approach. \n",
    "\n",
    "Start by using the fitted regression model to predict values for the missing data:"
   ]
  },
  {
   "cell_type": "code",
   "execution_count": 50,
   "id": "85c0c463",
   "metadata": {},
   "outputs": [],
   "source": [
    "#Create an array of the v1 values of the observations that have missing values \n",
    "col1_miss = col1[indices]"
   ]
  },
  {
   "cell_type": "code",
   "execution_count": 51,
   "id": "fdac7cc4",
   "metadata": {},
   "outputs": [],
   "source": [
    "#Reshaping of the array to be suitable for usage in the regression model\n",
    "col1_miss = np.reshape(col1_miss, [col1_miss.size,1])"
   ]
  },
  {
   "cell_type": "code",
   "execution_count": 52,
   "id": "f97559f6",
   "metadata": {},
   "outputs": [],
   "source": [
    "#Create an array for the missing v2 values \n",
    "y_test = Model_1.predict(col1_miss)"
   ]
  },
  {
   "cell_type": "markdown",
   "id": "324f8410",
   "metadata": {},
   "source": [
    "Now, create a dataset where each row has the imputed value of v2 by linear regression, and the original value of v2 from the original array:"
   ]
  },
  {
   "cell_type": "code",
   "execution_count": 53,
   "id": "79fa0730",
   "metadata": {},
   "outputs": [],
   "source": [
    "#Create the dataset as specified above\n",
    "original = col2[indices]\n",
    "imputed = y_test\n",
    "df = pd.DataFrame(columns = ['Original','Imputed'])\n",
    "df['Original'] = original\n",
    "df['Imputed'] = imputed"
   ]
  },
  {
   "cell_type": "code",
   "execution_count": 54,
   "id": "118b3fd6",
   "metadata": {},
   "outputs": [
    {
     "data": {
      "text/html": [
       "<div>\n",
       "<style scoped>\n",
       "    .dataframe tbody tr th:only-of-type {\n",
       "        vertical-align: middle;\n",
       "    }\n",
       "\n",
       "    .dataframe tbody tr th {\n",
       "        vertical-align: top;\n",
       "    }\n",
       "\n",
       "    .dataframe thead th {\n",
       "        text-align: right;\n",
       "    }\n",
       "</style>\n",
       "<table border=\"1\" class=\"dataframe\">\n",
       "  <thead>\n",
       "    <tr style=\"text-align: right;\">\n",
       "      <th></th>\n",
       "      <th>Original</th>\n",
       "      <th>Imputed</th>\n",
       "    </tr>\n",
       "  </thead>\n",
       "  <tbody>\n",
       "    <tr>\n",
       "      <th>0</th>\n",
       "      <td>7.406851</td>\n",
       "      <td>7.171932</td>\n",
       "    </tr>\n",
       "    <tr>\n",
       "      <th>1</th>\n",
       "      <td>7.297075</td>\n",
       "      <td>8.013141</td>\n",
       "    </tr>\n",
       "    <tr>\n",
       "      <th>2</th>\n",
       "      <td>6.822099</td>\n",
       "      <td>7.032711</td>\n",
       "    </tr>\n",
       "    <tr>\n",
       "      <th>3</th>\n",
       "      <td>6.797733</td>\n",
       "      <td>7.379467</td>\n",
       "    </tr>\n",
       "    <tr>\n",
       "      <th>4</th>\n",
       "      <td>8.906874</td>\n",
       "      <td>8.856218</td>\n",
       "    </tr>\n",
       "    <tr>\n",
       "      <th>5</th>\n",
       "      <td>5.697898</td>\n",
       "      <td>5.764599</td>\n",
       "    </tr>\n",
       "    <tr>\n",
       "      <th>6</th>\n",
       "      <td>6.534139</td>\n",
       "      <td>6.801849</td>\n",
       "    </tr>\n",
       "    <tr>\n",
       "      <th>7</th>\n",
       "      <td>8.186692</td>\n",
       "      <td>7.677636</td>\n",
       "    </tr>\n",
       "    <tr>\n",
       "      <th>8</th>\n",
       "      <td>7.522564</td>\n",
       "      <td>6.835208</td>\n",
       "    </tr>\n",
       "    <tr>\n",
       "      <th>9</th>\n",
       "      <td>6.786941</td>\n",
       "      <td>6.314358</td>\n",
       "    </tr>\n",
       "    <tr>\n",
       "      <th>10</th>\n",
       "      <td>6.886419</td>\n",
       "      <td>7.789788</td>\n",
       "    </tr>\n",
       "    <tr>\n",
       "      <th>11</th>\n",
       "      <td>6.247637</td>\n",
       "      <td>5.846177</td>\n",
       "    </tr>\n",
       "    <tr>\n",
       "      <th>12</th>\n",
       "      <td>6.063565</td>\n",
       "      <td>6.630907</td>\n",
       "    </tr>\n",
       "    <tr>\n",
       "      <th>13</th>\n",
       "      <td>9.685159</td>\n",
       "      <td>9.390672</td>\n",
       "    </tr>\n",
       "    <tr>\n",
       "      <th>14</th>\n",
       "      <td>9.737096</td>\n",
       "      <td>9.407502</td>\n",
       "    </tr>\n",
       "    <tr>\n",
       "      <th>15</th>\n",
       "      <td>10.317185</td>\n",
       "      <td>10.270895</td>\n",
       "    </tr>\n",
       "    <tr>\n",
       "      <th>16</th>\n",
       "      <td>7.466774</td>\n",
       "      <td>6.854970</td>\n",
       "    </tr>\n",
       "    <tr>\n",
       "      <th>17</th>\n",
       "      <td>6.842462</td>\n",
       "      <td>6.728344</td>\n",
       "    </tr>\n",
       "    <tr>\n",
       "      <th>18</th>\n",
       "      <td>5.425955</td>\n",
       "      <td>5.089280</td>\n",
       "    </tr>\n",
       "    <tr>\n",
       "      <th>19</th>\n",
       "      <td>8.890645</td>\n",
       "      <td>8.517875</td>\n",
       "    </tr>\n",
       "    <tr>\n",
       "      <th>20</th>\n",
       "      <td>11.040428</td>\n",
       "      <td>10.489455</td>\n",
       "    </tr>\n",
       "    <tr>\n",
       "      <th>21</th>\n",
       "      <td>7.408412</td>\n",
       "      <td>6.774003</td>\n",
       "    </tr>\n",
       "    <tr>\n",
       "      <th>22</th>\n",
       "      <td>8.294834</td>\n",
       "      <td>8.410670</td>\n",
       "    </tr>\n",
       "    <tr>\n",
       "      <th>23</th>\n",
       "      <td>8.114905</td>\n",
       "      <td>8.242456</td>\n",
       "    </tr>\n",
       "    <tr>\n",
       "      <th>24</th>\n",
       "      <td>9.789658</td>\n",
       "      <td>9.463078</td>\n",
       "    </tr>\n",
       "    <tr>\n",
       "      <th>25</th>\n",
       "      <td>9.431501</td>\n",
       "      <td>8.437182</td>\n",
       "    </tr>\n",
       "    <tr>\n",
       "      <th>26</th>\n",
       "      <td>8.096879</td>\n",
       "      <td>8.196164</td>\n",
       "    </tr>\n",
       "    <tr>\n",
       "      <th>27</th>\n",
       "      <td>5.441139</td>\n",
       "      <td>5.444534</td>\n",
       "    </tr>\n",
       "    <tr>\n",
       "      <th>28</th>\n",
       "      <td>6.150112</td>\n",
       "      <td>5.889897</td>\n",
       "    </tr>\n",
       "    <tr>\n",
       "      <th>29</th>\n",
       "      <td>7.405482</td>\n",
       "      <td>6.678246</td>\n",
       "    </tr>\n",
       "    <tr>\n",
       "      <th>30</th>\n",
       "      <td>7.439741</td>\n",
       "      <td>6.928007</td>\n",
       "    </tr>\n",
       "    <tr>\n",
       "      <th>31</th>\n",
       "      <td>8.223193</td>\n",
       "      <td>8.672016</td>\n",
       "    </tr>\n",
       "    <tr>\n",
       "      <th>32</th>\n",
       "      <td>5.747481</td>\n",
       "      <td>6.082432</td>\n",
       "    </tr>\n",
       "    <tr>\n",
       "      <th>33</th>\n",
       "      <td>6.668979</td>\n",
       "      <td>6.673619</td>\n",
       "    </tr>\n",
       "    <tr>\n",
       "      <th>34</th>\n",
       "      <td>8.752542</td>\n",
       "      <td>8.490036</td>\n",
       "    </tr>\n",
       "    <tr>\n",
       "      <th>35</th>\n",
       "      <td>5.971684</td>\n",
       "      <td>6.240017</td>\n",
       "    </tr>\n",
       "    <tr>\n",
       "      <th>36</th>\n",
       "      <td>7.948387</td>\n",
       "      <td>8.331338</td>\n",
       "    </tr>\n",
       "    <tr>\n",
       "      <th>37</th>\n",
       "      <td>9.434972</td>\n",
       "      <td>8.296501</td>\n",
       "    </tr>\n",
       "    <tr>\n",
       "      <th>38</th>\n",
       "      <td>8.449797</td>\n",
       "      <td>8.584714</td>\n",
       "    </tr>\n",
       "    <tr>\n",
       "      <th>39</th>\n",
       "      <td>8.523925</td>\n",
       "      <td>8.085596</td>\n",
       "    </tr>\n",
       "    <tr>\n",
       "      <th>40</th>\n",
       "      <td>7.267176</td>\n",
       "      <td>7.529405</td>\n",
       "    </tr>\n",
       "    <tr>\n",
       "      <th>41</th>\n",
       "      <td>7.080829</td>\n",
       "      <td>7.295747</td>\n",
       "    </tr>\n",
       "    <tr>\n",
       "      <th>42</th>\n",
       "      <td>8.022048</td>\n",
       "      <td>8.479528</td>\n",
       "    </tr>\n",
       "  </tbody>\n",
       "</table>\n",
       "</div>"
      ],
      "text/plain": [
       "     Original    Imputed\n",
       "0    7.406851   7.171932\n",
       "1    7.297075   8.013141\n",
       "2    6.822099   7.032711\n",
       "3    6.797733   7.379467\n",
       "4    8.906874   8.856218\n",
       "5    5.697898   5.764599\n",
       "6    6.534139   6.801849\n",
       "7    8.186692   7.677636\n",
       "8    7.522564   6.835208\n",
       "9    6.786941   6.314358\n",
       "10   6.886419   7.789788\n",
       "11   6.247637   5.846177\n",
       "12   6.063565   6.630907\n",
       "13   9.685159   9.390672\n",
       "14   9.737096   9.407502\n",
       "15  10.317185  10.270895\n",
       "16   7.466774   6.854970\n",
       "17   6.842462   6.728344\n",
       "18   5.425955   5.089280\n",
       "19   8.890645   8.517875\n",
       "20  11.040428  10.489455\n",
       "21   7.408412   6.774003\n",
       "22   8.294834   8.410670\n",
       "23   8.114905   8.242456\n",
       "24   9.789658   9.463078\n",
       "25   9.431501   8.437182\n",
       "26   8.096879   8.196164\n",
       "27   5.441139   5.444534\n",
       "28   6.150112   5.889897\n",
       "29   7.405482   6.678246\n",
       "30   7.439741   6.928007\n",
       "31   8.223193   8.672016\n",
       "32   5.747481   6.082432\n",
       "33   6.668979   6.673619\n",
       "34   8.752542   8.490036\n",
       "35   5.971684   6.240017\n",
       "36   7.948387   8.331338\n",
       "37   9.434972   8.296501\n",
       "38   8.449797   8.584714\n",
       "39   8.523925   8.085596\n",
       "40   7.267176   7.529405\n",
       "41   7.080829   7.295747\n",
       "42   8.022048   8.479528"
      ]
     },
     "execution_count": 54,
     "metadata": {},
     "output_type": "execute_result"
    }
   ],
   "source": [
    "#View the dataset\n",
    "df"
   ]
  },
  {
   "cell_type": "code",
   "execution_count": 55,
   "id": "7acc9e6b",
   "metadata": {},
   "outputs": [
    {
     "data": {
      "image/png": "[encoded data removed]",
      "text/plain": [
       "<Figure size 640x480 with 1 Axes>"
      ]
     },
     "metadata": {},
     "output_type": "display_data"
    }
   ],
   "source": [
    "#Plot the observations using the original values and the observations with the imputed values\n",
    "plt.scatter(col1_miss, col2[indices], label='Original')\n",
    "plt.scatter(col1_miss, y_test, label='imputed')\n",
    "plt.legend()\n",
    "plt.show()"
   ]
  },
  {
   "cell_type": "markdown",
   "id": "a53e3dd1",
   "metadata": {},
   "source": [
    "Now, I will leave you to try and impute data using Stochastic Linear Regression. This resource might help you out: https://www.kaggle.com/shashankasubrahmanya/missing-data-imputation-using-regression but feel free to do your own research."
   ]
  },
  {
   "cell_type": "markdown",
   "id": "1590d4e9-1852-4a57-9ef5-6fcc9bd38954",
   "metadata": {},
   "source": [
    "# Stochastic Linear Regression"
   ]
  },
  {
   "cell_type": "code",
   "execution_count": 56,
   "id": "57487b65-48db-4458-bcda-c9533494fca5",
   "metadata": {},
   "outputs": [],
   "source": [
    "col1 = rand.normal(5.,1.,100)\n",
    "#Generate another 100 data points that correlate with the previously generated 100 data points\n",
    "col2 = col1*1.5 +  rand.normal(0.,.5,100)"
   ]
  },
  {
   "cell_type": "code",
   "execution_count": 57,
   "id": "454eda2b-e5f1-4a9e-9e0a-cb4ec1a6c7bc",
   "metadata": {},
   "outputs": [],
   "source": [
    "#Fit the linear regression model\n",
    "Model_2= LinearRegression().fit(X_train, y_train)"
   ]
  },
  {
   "cell_type": "markdown",
   "id": "174d56bf-4cca-42c7-a8e1-f01e6a08a342",
   "metadata": {},
   "source": [
    "#Standard Error of the regression estimates is equal to std() of the errors of each estimates"
   ]
  },
  {
   "cell_type": "code",
   "execution_count": 58,
   "id": "1cfc4269-91e3-4d13-8845-bb164f6caa59",
   "metadata": {},
   "outputs": [],
   "source": [
    "#Standard Error of the regression estimates is equal to std() of the errors of each estimates\n",
    "predict = Model_2.predict(col1_miss)\n",
    "std_error = (predict - col1_miss).std()"
   ]
  },
  {
   "cell_type": "code",
   "execution_count": 59,
   "id": "7d02a11d-2888-49a0-8bc5-aa526d0e4cac",
   "metadata": {},
   "outputs": [],
   "source": [
    "#introduce gaussian noise into the linear regression predicitons.\n",
    "random_predict = np.random.normal(size = col1_miss.shape[0], \n",
    "                                      loc = predict, \n",
    "                                      scale = std_error)\n"
   ]
  },
  {
   "cell_type": "code",
   "execution_count": 60,
   "id": "935242de-c7d1-4d5e-979c-e75e3239a954",
   "metadata": {},
   "outputs": [
    {
     "data": {
      "image/png": "[encoded data removed]",
      "text/plain": [
       "<Figure size 640x480 with 1 Axes>"
      ]
     },
     "metadata": {},
     "output_type": "display_data"
    }
   ],
   "source": [
    "plt.scatter(col1_miss, col2[indices], label='Original')\n",
    "plt.scatter(col1_miss, y_test, label='Linear regression impoutation')\n",
    "plt.scatter(col1_miss, random_predict, label='Stochastic linear regression imputation')\n",
    "plt.legend()\n",
    "plt.show()"
   ]
  },
  {
   "cell_type": "markdown",
   "id": "64fa5cd8-f9a4-419b-89e9-902b0c78a916",
   "metadata": {},
   "source": [
    "The Stochastic Linear regression method visually maintains the natural variance of the dataset."
   ]
  },
  {
   "cell_type": "code",
   "execution_count": null,
   "id": "b801b81a-74bc-4bdb-8761-1c2fe2f3ac80",
   "metadata": {},
   "outputs": [],
   "source": []
  }
 ],
 "metadata": {
  "kernelspec": {
   "display_name": "Python 3 (ipykernel)",
   "language": "python",
   "name": "python3"
  },
  "language_info": {
   "codemirror_mode": {
    "name": "ipython",
    "version": 3
   },
   "file_extension": ".py",
   "mimetype": "text/x-python",
   "name": "python",
   "nbconvert_exporter": "python",
   "pygments_lexer": "ipython3",
   "version": "3.10.9"
  }
 },
 "nbformat": 4,
 "nbformat_minor": 5
}
