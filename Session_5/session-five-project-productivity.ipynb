{
 "cells": [
  {
   "cell_type": "markdown",
   "id": "0e838a0b-5b92-409f-89f9-cdd6175bc032",
   "metadata": {
    "tags": []
   },
   "source": [
    "## Regression: What are the drivers of worker productivity?\n",
    "For this project, we will aim to predict the level of productivity for workers in the garment industry given a variety of production and supply chain metrics. To do this, we will use  data collected from January to March 2015 by the Industrial Engineering (IE) department of a garment manufacturing unit in\n",
    "Bangladesh. This kind of model would have all sorts of real world applications within the fields of operational research, labour economics, and supply chain management."
   ]
  },
  {
   "cell_type": "code",
   "execution_count": 1,
   "id": "4d1f8275-efe0-4f84-a19f-b324dac32c5e",
   "metadata": {},
   "outputs": [],
   "source": [
    "import pandas as pd\n",
    "import numpy as np\n",
    "import matplotlib.pyplot as plt"
   ]
  },
  {
   "cell_type": "markdown",
   "id": "7782276c-596c-4123-bf93-a53eff764680",
   "metadata": {},
   "source": [
    "### Data set overview"
   ]
  },
  {
   "cell_type": "markdown",
   "id": "5fa58483-9511-4fee-b707-6e95dc48e8ae",
   "metadata": {},
   "source": [
    "To start out, lets get an overview of our data set dimensions and feature types. We'll be doing a very simple overview in this section but feel free to perform more extensive EDA on your own: the more you know about your data, the better you can harness it through modelling.\n",
    "\n",
    "Start out with the following tasks:\n",
    "- Read in the data set as a pandas DataFrame (file path: `data/garments_worker_productivity.csv'`)\n",
    "- Output the first ten data set rows\n",
    "- Output the last ten data set rows\n",
    "- Print out a comprehensive summary of the data set (dimensions, variable names, data types, and null values)"
   ]
  },
  {
   "cell_type": "code",
   "execution_count": 2,
   "id": "8a891f7b-ebc6-4e1d-9582-53debce5ff1a",
   "metadata": {},
   "outputs": [],
   "source": [
    "# Read  data set\n",
    "data = pd.read_csv('data/garments_worker_productivity.csv')"
   ]
  },
  {
   "cell_type": "code",
   "execution_count": 3,
   "id": "80000bec-e026-452c-a03f-18bf95911050",
   "metadata": {},
   "outputs": [
    {
     "data": {
      "text/html": [
       "<div>\n",
       "<style scoped>\n",
       "    .dataframe tbody tr th:only-of-type {\n",
       "        vertical-align: middle;\n",
       "    }\n",
       "\n",
       "    .dataframe tbody tr th {\n",
       "        vertical-align: top;\n",
       "    }\n",
       "\n",
       "    .dataframe thead th {\n",
       "        text-align: right;\n",
       "    }\n",
       "</style>\n",
       "<table border=\"1\" class=\"dataframe\">\n",
       "  <thead>\n",
       "    <tr style=\"text-align: right;\">\n",
       "      <th></th>\n",
       "      <th>date</th>\n",
       "      <th>quarter</th>\n",
       "      <th>department</th>\n",
       "      <th>team</th>\n",
       "      <th>targeted_productivity</th>\n",
       "      <th>smv</th>\n",
       "      <th>wip</th>\n",
       "      <th>over_time</th>\n",
       "      <th>incentive</th>\n",
       "      <th>idle_time</th>\n",
       "      <th>idle_men</th>\n",
       "      <th>no_of_style_change</th>\n",
       "      <th>no_of_workers</th>\n",
       "      <th>actual_productivity</th>\n",
       "    </tr>\n",
       "  </thead>\n",
       "  <tbody>\n",
       "    <tr>\n",
       "      <th>0</th>\n",
       "      <td>1/1/2015</td>\n",
       "      <td>Quarter1</td>\n",
       "      <td>sweing</td>\n",
       "      <td>8</td>\n",
       "      <td>0.80</td>\n",
       "      <td>26.16</td>\n",
       "      <td>1108.0</td>\n",
       "      <td>7080</td>\n",
       "      <td>98</td>\n",
       "      <td>0.0</td>\n",
       "      <td>0</td>\n",
       "      <td>0</td>\n",
       "      <td>59.0</td>\n",
       "      <td>0.940725</td>\n",
       "    </tr>\n",
       "    <tr>\n",
       "      <th>1</th>\n",
       "      <td>1/1/2015</td>\n",
       "      <td>Quarter1</td>\n",
       "      <td>finishing</td>\n",
       "      <td>1</td>\n",
       "      <td>0.75</td>\n",
       "      <td>3.94</td>\n",
       "      <td>NaN</td>\n",
       "      <td>960</td>\n",
       "      <td>0</td>\n",
       "      <td>0.0</td>\n",
       "      <td>0</td>\n",
       "      <td>0</td>\n",
       "      <td>8.0</td>\n",
       "      <td>0.886500</td>\n",
       "    </tr>\n",
       "    <tr>\n",
       "      <th>2</th>\n",
       "      <td>1/1/2015</td>\n",
       "      <td>Quarter1</td>\n",
       "      <td>sweing</td>\n",
       "      <td>11</td>\n",
       "      <td>0.80</td>\n",
       "      <td>11.41</td>\n",
       "      <td>968.0</td>\n",
       "      <td>3660</td>\n",
       "      <td>50</td>\n",
       "      <td>0.0</td>\n",
       "      <td>0</td>\n",
       "      <td>0</td>\n",
       "      <td>30.5</td>\n",
       "      <td>0.800570</td>\n",
       "    </tr>\n",
       "    <tr>\n",
       "      <th>3</th>\n",
       "      <td>1/1/2015</td>\n",
       "      <td>Quarter1</td>\n",
       "      <td>sweing</td>\n",
       "      <td>12</td>\n",
       "      <td>0.80</td>\n",
       "      <td>11.41</td>\n",
       "      <td>968.0</td>\n",
       "      <td>3660</td>\n",
       "      <td>50</td>\n",
       "      <td>0.0</td>\n",
       "      <td>0</td>\n",
       "      <td>0</td>\n",
       "      <td>30.5</td>\n",
       "      <td>0.800570</td>\n",
       "    </tr>\n",
       "    <tr>\n",
       "      <th>4</th>\n",
       "      <td>1/1/2015</td>\n",
       "      <td>Quarter1</td>\n",
       "      <td>sweing</td>\n",
       "      <td>6</td>\n",
       "      <td>0.80</td>\n",
       "      <td>25.90</td>\n",
       "      <td>1170.0</td>\n",
       "      <td>1920</td>\n",
       "      <td>50</td>\n",
       "      <td>0.0</td>\n",
       "      <td>0</td>\n",
       "      <td>0</td>\n",
       "      <td>56.0</td>\n",
       "      <td>0.800382</td>\n",
       "    </tr>\n",
       "    <tr>\n",
       "      <th>5</th>\n",
       "      <td>1/1/2015</td>\n",
       "      <td>Quarter1</td>\n",
       "      <td>sweing</td>\n",
       "      <td>7</td>\n",
       "      <td>0.80</td>\n",
       "      <td>25.90</td>\n",
       "      <td>984.0</td>\n",
       "      <td>6720</td>\n",
       "      <td>38</td>\n",
       "      <td>0.0</td>\n",
       "      <td>0</td>\n",
       "      <td>0</td>\n",
       "      <td>56.0</td>\n",
       "      <td>0.800125</td>\n",
       "    </tr>\n",
       "    <tr>\n",
       "      <th>6</th>\n",
       "      <td>1/1/2015</td>\n",
       "      <td>Quarter1</td>\n",
       "      <td>finishing</td>\n",
       "      <td>2</td>\n",
       "      <td>0.75</td>\n",
       "      <td>3.94</td>\n",
       "      <td>NaN</td>\n",
       "      <td>960</td>\n",
       "      <td>0</td>\n",
       "      <td>0.0</td>\n",
       "      <td>0</td>\n",
       "      <td>0</td>\n",
       "      <td>8.0</td>\n",
       "      <td>0.755167</td>\n",
       "    </tr>\n",
       "    <tr>\n",
       "      <th>7</th>\n",
       "      <td>1/1/2015</td>\n",
       "      <td>Quarter1</td>\n",
       "      <td>sweing</td>\n",
       "      <td>3</td>\n",
       "      <td>0.75</td>\n",
       "      <td>28.08</td>\n",
       "      <td>795.0</td>\n",
       "      <td>6900</td>\n",
       "      <td>45</td>\n",
       "      <td>0.0</td>\n",
       "      <td>0</td>\n",
       "      <td>0</td>\n",
       "      <td>57.5</td>\n",
       "      <td>0.753683</td>\n",
       "    </tr>\n",
       "    <tr>\n",
       "      <th>8</th>\n",
       "      <td>1/1/2015</td>\n",
       "      <td>Quarter1</td>\n",
       "      <td>sweing</td>\n",
       "      <td>2</td>\n",
       "      <td>0.75</td>\n",
       "      <td>19.87</td>\n",
       "      <td>733.0</td>\n",
       "      <td>6000</td>\n",
       "      <td>34</td>\n",
       "      <td>0.0</td>\n",
       "      <td>0</td>\n",
       "      <td>0</td>\n",
       "      <td>55.0</td>\n",
       "      <td>0.753098</td>\n",
       "    </tr>\n",
       "    <tr>\n",
       "      <th>9</th>\n",
       "      <td>1/1/2015</td>\n",
       "      <td>Quarter1</td>\n",
       "      <td>sweing</td>\n",
       "      <td>1</td>\n",
       "      <td>0.75</td>\n",
       "      <td>28.08</td>\n",
       "      <td>681.0</td>\n",
       "      <td>6900</td>\n",
       "      <td>45</td>\n",
       "      <td>0.0</td>\n",
       "      <td>0</td>\n",
       "      <td>0</td>\n",
       "      <td>57.5</td>\n",
       "      <td>0.750428</td>\n",
       "    </tr>\n",
       "  </tbody>\n",
       "</table>\n",
       "</div>"
      ],
      "text/plain": [
       "       date   quarter  department  team  targeted_productivity    smv     wip  \\\n",
       "0  1/1/2015  Quarter1      sweing     8                   0.80  26.16  1108.0   \n",
       "1  1/1/2015  Quarter1  finishing      1                   0.75   3.94     NaN   \n",
       "2  1/1/2015  Quarter1      sweing    11                   0.80  11.41   968.0   \n",
       "3  1/1/2015  Quarter1      sweing    12                   0.80  11.41   968.0   \n",
       "4  1/1/2015  Quarter1      sweing     6                   0.80  25.90  1170.0   \n",
       "5  1/1/2015  Quarter1      sweing     7                   0.80  25.90   984.0   \n",
       "6  1/1/2015  Quarter1  finishing      2                   0.75   3.94     NaN   \n",
       "7  1/1/2015  Quarter1      sweing     3                   0.75  28.08   795.0   \n",
       "8  1/1/2015  Quarter1      sweing     2                   0.75  19.87   733.0   \n",
       "9  1/1/2015  Quarter1      sweing     1                   0.75  28.08   681.0   \n",
       "\n",
       "   over_time  incentive  idle_time  idle_men  no_of_style_change  \\\n",
       "0       7080         98        0.0         0                   0   \n",
       "1        960          0        0.0         0                   0   \n",
       "2       3660         50        0.0         0                   0   \n",
       "3       3660         50        0.0         0                   0   \n",
       "4       1920         50        0.0         0                   0   \n",
       "5       6720         38        0.0         0                   0   \n",
       "6        960          0        0.0         0                   0   \n",
       "7       6900         45        0.0         0                   0   \n",
       "8       6000         34        0.0         0                   0   \n",
       "9       6900         45        0.0         0                   0   \n",
       "\n",
       "   no_of_workers  actual_productivity  \n",
       "0           59.0             0.940725  \n",
       "1            8.0             0.886500  \n",
       "2           30.5             0.800570  \n",
       "3           30.5             0.800570  \n",
       "4           56.0             0.800382  \n",
       "5           56.0             0.800125  \n",
       "6            8.0             0.755167  \n",
       "7           57.5             0.753683  \n",
       "8           55.0             0.753098  \n",
       "9           57.5             0.750428  "
      ]
     },
     "execution_count": 3,
     "metadata": {},
     "output_type": "execute_result"
    }
   ],
   "source": [
    "# Output the first ten rows\n",
    "data.head(10)"
   ]
  },
  {
   "cell_type": "code",
   "execution_count": 4,
   "id": "d43378f8-2cd9-4545-9529-922d058d737b",
   "metadata": {},
   "outputs": [
    {
     "data": {
      "text/html": [
       "<div>\n",
       "<style scoped>\n",
       "    .dataframe tbody tr th:only-of-type {\n",
       "        vertical-align: middle;\n",
       "    }\n",
       "\n",
       "    .dataframe tbody tr th {\n",
       "        vertical-align: top;\n",
       "    }\n",
       "\n",
       "    .dataframe thead th {\n",
       "        text-align: right;\n",
       "    }\n",
       "</style>\n",
       "<table border=\"1\" class=\"dataframe\">\n",
       "  <thead>\n",
       "    <tr style=\"text-align: right;\">\n",
       "      <th></th>\n",
       "      <th>date</th>\n",
       "      <th>quarter</th>\n",
       "      <th>department</th>\n",
       "      <th>team</th>\n",
       "      <th>targeted_productivity</th>\n",
       "      <th>smv</th>\n",
       "      <th>wip</th>\n",
       "      <th>over_time</th>\n",
       "      <th>incentive</th>\n",
       "      <th>idle_time</th>\n",
       "      <th>idle_men</th>\n",
       "      <th>no_of_style_change</th>\n",
       "      <th>no_of_workers</th>\n",
       "      <th>actual_productivity</th>\n",
       "    </tr>\n",
       "  </thead>\n",
       "  <tbody>\n",
       "    <tr>\n",
       "      <th>1187</th>\n",
       "      <td>3/11/2015</td>\n",
       "      <td>Quarter2</td>\n",
       "      <td>sweing</td>\n",
       "      <td>4</td>\n",
       "      <td>0.75</td>\n",
       "      <td>26.82</td>\n",
       "      <td>1054.0</td>\n",
       "      <td>7080</td>\n",
       "      <td>45</td>\n",
       "      <td>0.0</td>\n",
       "      <td>0</td>\n",
       "      <td>0</td>\n",
       "      <td>59.0</td>\n",
       "      <td>0.750051</td>\n",
       "    </tr>\n",
       "    <tr>\n",
       "      <th>1188</th>\n",
       "      <td>3/11/2015</td>\n",
       "      <td>Quarter2</td>\n",
       "      <td>sweing</td>\n",
       "      <td>5</td>\n",
       "      <td>0.70</td>\n",
       "      <td>26.82</td>\n",
       "      <td>992.0</td>\n",
       "      <td>6960</td>\n",
       "      <td>30</td>\n",
       "      <td>0.0</td>\n",
       "      <td>0</td>\n",
       "      <td>1</td>\n",
       "      <td>58.0</td>\n",
       "      <td>0.700557</td>\n",
       "    </tr>\n",
       "    <tr>\n",
       "      <th>1189</th>\n",
       "      <td>3/11/2015</td>\n",
       "      <td>Quarter2</td>\n",
       "      <td>sweing</td>\n",
       "      <td>8</td>\n",
       "      <td>0.70</td>\n",
       "      <td>30.48</td>\n",
       "      <td>914.0</td>\n",
       "      <td>6840</td>\n",
       "      <td>30</td>\n",
       "      <td>0.0</td>\n",
       "      <td>0</td>\n",
       "      <td>1</td>\n",
       "      <td>57.0</td>\n",
       "      <td>0.700505</td>\n",
       "    </tr>\n",
       "    <tr>\n",
       "      <th>1190</th>\n",
       "      <td>3/11/2015</td>\n",
       "      <td>Quarter2</td>\n",
       "      <td>sweing</td>\n",
       "      <td>6</td>\n",
       "      <td>0.70</td>\n",
       "      <td>23.41</td>\n",
       "      <td>1128.0</td>\n",
       "      <td>4560</td>\n",
       "      <td>40</td>\n",
       "      <td>0.0</td>\n",
       "      <td>0</td>\n",
       "      <td>1</td>\n",
       "      <td>38.0</td>\n",
       "      <td>0.700246</td>\n",
       "    </tr>\n",
       "    <tr>\n",
       "      <th>1191</th>\n",
       "      <td>3/11/2015</td>\n",
       "      <td>Quarter2</td>\n",
       "      <td>sweing</td>\n",
       "      <td>7</td>\n",
       "      <td>0.65</td>\n",
       "      <td>30.48</td>\n",
       "      <td>935.0</td>\n",
       "      <td>6840</td>\n",
       "      <td>26</td>\n",
       "      <td>0.0</td>\n",
       "      <td>0</td>\n",
       "      <td>1</td>\n",
       "      <td>57.0</td>\n",
       "      <td>0.650596</td>\n",
       "    </tr>\n",
       "    <tr>\n",
       "      <th>1192</th>\n",
       "      <td>3/11/2015</td>\n",
       "      <td>Quarter2</td>\n",
       "      <td>finishing</td>\n",
       "      <td>10</td>\n",
       "      <td>0.75</td>\n",
       "      <td>2.90</td>\n",
       "      <td>NaN</td>\n",
       "      <td>960</td>\n",
       "      <td>0</td>\n",
       "      <td>0.0</td>\n",
       "      <td>0</td>\n",
       "      <td>0</td>\n",
       "      <td>8.0</td>\n",
       "      <td>0.628333</td>\n",
       "    </tr>\n",
       "    <tr>\n",
       "      <th>1193</th>\n",
       "      <td>3/11/2015</td>\n",
       "      <td>Quarter2</td>\n",
       "      <td>finishing</td>\n",
       "      <td>8</td>\n",
       "      <td>0.70</td>\n",
       "      <td>3.90</td>\n",
       "      <td>NaN</td>\n",
       "      <td>960</td>\n",
       "      <td>0</td>\n",
       "      <td>0.0</td>\n",
       "      <td>0</td>\n",
       "      <td>0</td>\n",
       "      <td>8.0</td>\n",
       "      <td>0.625625</td>\n",
       "    </tr>\n",
       "    <tr>\n",
       "      <th>1194</th>\n",
       "      <td>3/11/2015</td>\n",
       "      <td>Quarter2</td>\n",
       "      <td>finishing</td>\n",
       "      <td>7</td>\n",
       "      <td>0.65</td>\n",
       "      <td>3.90</td>\n",
       "      <td>NaN</td>\n",
       "      <td>960</td>\n",
       "      <td>0</td>\n",
       "      <td>0.0</td>\n",
       "      <td>0</td>\n",
       "      <td>0</td>\n",
       "      <td>8.0</td>\n",
       "      <td>0.625625</td>\n",
       "    </tr>\n",
       "    <tr>\n",
       "      <th>1195</th>\n",
       "      <td>3/11/2015</td>\n",
       "      <td>Quarter2</td>\n",
       "      <td>finishing</td>\n",
       "      <td>9</td>\n",
       "      <td>0.75</td>\n",
       "      <td>2.90</td>\n",
       "      <td>NaN</td>\n",
       "      <td>1800</td>\n",
       "      <td>0</td>\n",
       "      <td>0.0</td>\n",
       "      <td>0</td>\n",
       "      <td>0</td>\n",
       "      <td>15.0</td>\n",
       "      <td>0.505889</td>\n",
       "    </tr>\n",
       "    <tr>\n",
       "      <th>1196</th>\n",
       "      <td>3/11/2015</td>\n",
       "      <td>Quarter2</td>\n",
       "      <td>finishing</td>\n",
       "      <td>6</td>\n",
       "      <td>0.70</td>\n",
       "      <td>2.90</td>\n",
       "      <td>NaN</td>\n",
       "      <td>720</td>\n",
       "      <td>0</td>\n",
       "      <td>0.0</td>\n",
       "      <td>0</td>\n",
       "      <td>0</td>\n",
       "      <td>6.0</td>\n",
       "      <td>0.394722</td>\n",
       "    </tr>\n",
       "  </tbody>\n",
       "</table>\n",
       "</div>"
      ],
      "text/plain": [
       "           date   quarter department  team  targeted_productivity    smv  \\\n",
       "1187  3/11/2015  Quarter2     sweing     4                   0.75  26.82   \n",
       "1188  3/11/2015  Quarter2     sweing     5                   0.70  26.82   \n",
       "1189  3/11/2015  Quarter2     sweing     8                   0.70  30.48   \n",
       "1190  3/11/2015  Quarter2     sweing     6                   0.70  23.41   \n",
       "1191  3/11/2015  Quarter2     sweing     7                   0.65  30.48   \n",
       "1192  3/11/2015  Quarter2  finishing    10                   0.75   2.90   \n",
       "1193  3/11/2015  Quarter2  finishing     8                   0.70   3.90   \n",
       "1194  3/11/2015  Quarter2  finishing     7                   0.65   3.90   \n",
       "1195  3/11/2015  Quarter2  finishing     9                   0.75   2.90   \n",
       "1196  3/11/2015  Quarter2  finishing     6                   0.70   2.90   \n",
       "\n",
       "         wip  over_time  incentive  idle_time  idle_men  no_of_style_change  \\\n",
       "1187  1054.0       7080         45        0.0         0                   0   \n",
       "1188   992.0       6960         30        0.0         0                   1   \n",
       "1189   914.0       6840         30        0.0         0                   1   \n",
       "1190  1128.0       4560         40        0.0         0                   1   \n",
       "1191   935.0       6840         26        0.0         0                   1   \n",
       "1192     NaN        960          0        0.0         0                   0   \n",
       "1193     NaN        960          0        0.0         0                   0   \n",
       "1194     NaN        960          0        0.0         0                   0   \n",
       "1195     NaN       1800          0        0.0         0                   0   \n",
       "1196     NaN        720          0        0.0         0                   0   \n",
       "\n",
       "      no_of_workers  actual_productivity  \n",
       "1187           59.0             0.750051  \n",
       "1188           58.0             0.700557  \n",
       "1189           57.0             0.700505  \n",
       "1190           38.0             0.700246  \n",
       "1191           57.0             0.650596  \n",
       "1192            8.0             0.628333  \n",
       "1193            8.0             0.625625  \n",
       "1194            8.0             0.625625  \n",
       "1195           15.0             0.505889  \n",
       "1196            6.0             0.394722  "
      ]
     },
     "execution_count": 4,
     "metadata": {},
     "output_type": "execute_result"
    }
   ],
   "source": [
    "# Output the last ten rows\n",
    "data.tail(10)"
   ]
  },
  {
   "cell_type": "code",
   "execution_count": 5,
   "id": "601dd941-b3d7-4f08-854f-f4d8a113d9bd",
   "metadata": {},
   "outputs": [
    {
     "name": "stdout",
     "output_type": "stream",
     "text": [
      "<class 'pandas.core.frame.DataFrame'>\n",
      "RangeIndex: 1197 entries, 0 to 1196\n",
      "Data columns (total 14 columns):\n",
      " #   Column                 Non-Null Count  Dtype  \n",
      "---  ------                 --------------  -----  \n",
      " 0   date                   1197 non-null   object \n",
      " 1   quarter                1197 non-null   object \n",
      " 2   department             1197 non-null   object \n",
      " 3   team                   1197 non-null   int64  \n",
      " 4   targeted_productivity  1197 non-null   float64\n",
      " 5   smv                    1197 non-null   float64\n",
      " 6   wip                    691 non-null    float64\n",
      " 7   over_time              1197 non-null   int64  \n",
      " 8   incentive              1197 non-null   int64  \n",
      " 9   idle_time              1197 non-null   float64\n",
      " 10  idle_men               1197 non-null   int64  \n",
      " 11  no_of_style_change     1197 non-null   int64  \n",
      " 12  no_of_workers          1197 non-null   float64\n",
      " 13  actual_productivity    1197 non-null   float64\n",
      "dtypes: float64(6), int64(5), object(3)\n",
      "memory usage: 131.0+ KB\n"
     ]
    }
   ],
   "source": [
    "# Print the data set overview (dimensions, variable names, data types, null values)\n",
    "data.info()"
   ]
  },
  {
   "cell_type": "markdown",
   "id": "537b8d6f-04c0-447e-88d5-8a3e4d46d9ca",
   "metadata": {},
   "source": [
    "### Feature engineering with dates"
   ]
  },
  {
   "cell_type": "markdown",
   "id": "fa4494a7-37db-4e64-92f2-328671fd2dfe",
   "metadata": {},
   "source": [
    "One of the features in our data set provides date information. In this format, the feature can be quite useless, but there are several things that we can do to extract useful information from it relating to worker productivity. To start, we want to convert the feature entries into `datetime` objects. To do this:\n",
    "- Use the `pd.to_datetime()` function to reset the `'date'` column in our data set.\n",
    "> **Note:** In order to get the right format, pass the argument `format = '%m/%d/%Y' `, and have a read [here](https://www.w3schools.com/python/python_datetime.asp) for further information on how to handle datetime objects."
   ]
  },
  {
   "cell_type": "code",
   "execution_count": 6,
   "id": "f5e46c1f-545c-4a24-8998-01031cb58c59",
   "metadata": {},
   "outputs": [],
   "source": [
    "# Converting 'date' column into datetime \n",
    "data['date'] = pd.to_datetime(data['date'], format = '%m/%d/%Y' ) "
   ]
  },
  {
   "cell_type": "markdown",
   "id": "55fa48a2-7de0-47ec-8a2c-69ccf6dc1bc2",
   "metadata": {},
   "source": [
    "With our 'date' column in `datetime` format, we can now proceed to extract a number of additional features. Although you can find the full list of `datetime` attributes [here](https://pandas.pydata.org/pandas-docs/version/0.23/api.html#datetimelike-properties), we will focus on extracting the day of the week and the month as separate features. To extract a `datetime` attribute as a feature, we can use the following command:\n",
    "- `data['<new_feature_label>'] = data['date'].dt.<attribute>`\n",
    "\n",
    "Try extracting the attributes `.month` and `.dayofweek` and assigning it to columns with the labels `'month'` and `'day'` respectively:"
   ]
  },
  {
   "cell_type": "code",
   "execution_count": 7,
   "id": "108a8edc-3bd9-4b5d-a70d-bba22717a1d7",
   "metadata": {},
   "outputs": [],
   "source": [
    "# Creating month and day of the week features\n",
    "data['month'] = data['date'].dt.month\n",
    "data['day'] = data['date'].dt.dayofweek"
   ]
  },
  {
   "cell_type": "markdown",
   "id": "068908d5-7e4c-42a9-9f06-03d1c38e581a",
   "metadata": {},
   "source": [
    "Lastly, we want to drop the `'date'` feature from our data set (as this can be hard to encode) and output the first ten rows of our data set and the data set overview to check the new features:"
   ]
  },
  {
   "cell_type": "code",
   "execution_count": 8,
   "id": "02a8a51c-3f48-4d9d-89e2-cd44de8bce00",
   "metadata": {},
   "outputs": [],
   "source": [
    "# dropping 'date' column\n",
    "data = data.drop(columns='date')"
   ]
  },
  {
   "cell_type": "code",
   "execution_count": 9,
   "id": "a74d964a-f601-43fa-a57d-af5893b1a754",
   "metadata": {},
   "outputs": [
    {
     "data": {
      "text/html": [
       "<div>\n",
       "<style scoped>\n",
       "    .dataframe tbody tr th:only-of-type {\n",
       "        vertical-align: middle;\n",
       "    }\n",
       "\n",
       "    .dataframe tbody tr th {\n",
       "        vertical-align: top;\n",
       "    }\n",
       "\n",
       "    .dataframe thead th {\n",
       "        text-align: right;\n",
       "    }\n",
       "</style>\n",
       "<table border=\"1\" class=\"dataframe\">\n",
       "  <thead>\n",
       "    <tr style=\"text-align: right;\">\n",
       "      <th></th>\n",
       "      <th>quarter</th>\n",
       "      <th>department</th>\n",
       "      <th>team</th>\n",
       "      <th>targeted_productivity</th>\n",
       "      <th>smv</th>\n",
       "      <th>wip</th>\n",
       "      <th>over_time</th>\n",
       "      <th>incentive</th>\n",
       "      <th>idle_time</th>\n",
       "      <th>idle_men</th>\n",
       "      <th>no_of_style_change</th>\n",
       "      <th>no_of_workers</th>\n",
       "      <th>actual_productivity</th>\n",
       "      <th>month</th>\n",
       "      <th>day</th>\n",
       "    </tr>\n",
       "  </thead>\n",
       "  <tbody>\n",
       "    <tr>\n",
       "      <th>0</th>\n",
       "      <td>Quarter1</td>\n",
       "      <td>sweing</td>\n",
       "      <td>8</td>\n",
       "      <td>0.80</td>\n",
       "      <td>26.16</td>\n",
       "      <td>1108.0</td>\n",
       "      <td>7080</td>\n",
       "      <td>98</td>\n",
       "      <td>0.0</td>\n",
       "      <td>0</td>\n",
       "      <td>0</td>\n",
       "      <td>59.0</td>\n",
       "      <td>0.940725</td>\n",
       "      <td>1</td>\n",
       "      <td>3</td>\n",
       "    </tr>\n",
       "    <tr>\n",
       "      <th>1</th>\n",
       "      <td>Quarter1</td>\n",
       "      <td>finishing</td>\n",
       "      <td>1</td>\n",
       "      <td>0.75</td>\n",
       "      <td>3.94</td>\n",
       "      <td>NaN</td>\n",
       "      <td>960</td>\n",
       "      <td>0</td>\n",
       "      <td>0.0</td>\n",
       "      <td>0</td>\n",
       "      <td>0</td>\n",
       "      <td>8.0</td>\n",
       "      <td>0.886500</td>\n",
       "      <td>1</td>\n",
       "      <td>3</td>\n",
       "    </tr>\n",
       "    <tr>\n",
       "      <th>2</th>\n",
       "      <td>Quarter1</td>\n",
       "      <td>sweing</td>\n",
       "      <td>11</td>\n",
       "      <td>0.80</td>\n",
       "      <td>11.41</td>\n",
       "      <td>968.0</td>\n",
       "      <td>3660</td>\n",
       "      <td>50</td>\n",
       "      <td>0.0</td>\n",
       "      <td>0</td>\n",
       "      <td>0</td>\n",
       "      <td>30.5</td>\n",
       "      <td>0.800570</td>\n",
       "      <td>1</td>\n",
       "      <td>3</td>\n",
       "    </tr>\n",
       "    <tr>\n",
       "      <th>3</th>\n",
       "      <td>Quarter1</td>\n",
       "      <td>sweing</td>\n",
       "      <td>12</td>\n",
       "      <td>0.80</td>\n",
       "      <td>11.41</td>\n",
       "      <td>968.0</td>\n",
       "      <td>3660</td>\n",
       "      <td>50</td>\n",
       "      <td>0.0</td>\n",
       "      <td>0</td>\n",
       "      <td>0</td>\n",
       "      <td>30.5</td>\n",
       "      <td>0.800570</td>\n",
       "      <td>1</td>\n",
       "      <td>3</td>\n",
       "    </tr>\n",
       "    <tr>\n",
       "      <th>4</th>\n",
       "      <td>Quarter1</td>\n",
       "      <td>sweing</td>\n",
       "      <td>6</td>\n",
       "      <td>0.80</td>\n",
       "      <td>25.90</td>\n",
       "      <td>1170.0</td>\n",
       "      <td>1920</td>\n",
       "      <td>50</td>\n",
       "      <td>0.0</td>\n",
       "      <td>0</td>\n",
       "      <td>0</td>\n",
       "      <td>56.0</td>\n",
       "      <td>0.800382</td>\n",
       "      <td>1</td>\n",
       "      <td>3</td>\n",
       "    </tr>\n",
       "    <tr>\n",
       "      <th>5</th>\n",
       "      <td>Quarter1</td>\n",
       "      <td>sweing</td>\n",
       "      <td>7</td>\n",
       "      <td>0.80</td>\n",
       "      <td>25.90</td>\n",
       "      <td>984.0</td>\n",
       "      <td>6720</td>\n",
       "      <td>38</td>\n",
       "      <td>0.0</td>\n",
       "      <td>0</td>\n",
       "      <td>0</td>\n",
       "      <td>56.0</td>\n",
       "      <td>0.800125</td>\n",
       "      <td>1</td>\n",
       "      <td>3</td>\n",
       "    </tr>\n",
       "    <tr>\n",
       "      <th>6</th>\n",
       "      <td>Quarter1</td>\n",
       "      <td>finishing</td>\n",
       "      <td>2</td>\n",
       "      <td>0.75</td>\n",
       "      <td>3.94</td>\n",
       "      <td>NaN</td>\n",
       "      <td>960</td>\n",
       "      <td>0</td>\n",
       "      <td>0.0</td>\n",
       "      <td>0</td>\n",
       "      <td>0</td>\n",
       "      <td>8.0</td>\n",
       "      <td>0.755167</td>\n",
       "      <td>1</td>\n",
       "      <td>3</td>\n",
       "    </tr>\n",
       "    <tr>\n",
       "      <th>7</th>\n",
       "      <td>Quarter1</td>\n",
       "      <td>sweing</td>\n",
       "      <td>3</td>\n",
       "      <td>0.75</td>\n",
       "      <td>28.08</td>\n",
       "      <td>795.0</td>\n",
       "      <td>6900</td>\n",
       "      <td>45</td>\n",
       "      <td>0.0</td>\n",
       "      <td>0</td>\n",
       "      <td>0</td>\n",
       "      <td>57.5</td>\n",
       "      <td>0.753683</td>\n",
       "      <td>1</td>\n",
       "      <td>3</td>\n",
       "    </tr>\n",
       "    <tr>\n",
       "      <th>8</th>\n",
       "      <td>Quarter1</td>\n",
       "      <td>sweing</td>\n",
       "      <td>2</td>\n",
       "      <td>0.75</td>\n",
       "      <td>19.87</td>\n",
       "      <td>733.0</td>\n",
       "      <td>6000</td>\n",
       "      <td>34</td>\n",
       "      <td>0.0</td>\n",
       "      <td>0</td>\n",
       "      <td>0</td>\n",
       "      <td>55.0</td>\n",
       "      <td>0.753098</td>\n",
       "      <td>1</td>\n",
       "      <td>3</td>\n",
       "    </tr>\n",
       "    <tr>\n",
       "      <th>9</th>\n",
       "      <td>Quarter1</td>\n",
       "      <td>sweing</td>\n",
       "      <td>1</td>\n",
       "      <td>0.75</td>\n",
       "      <td>28.08</td>\n",
       "      <td>681.0</td>\n",
       "      <td>6900</td>\n",
       "      <td>45</td>\n",
       "      <td>0.0</td>\n",
       "      <td>0</td>\n",
       "      <td>0</td>\n",
       "      <td>57.5</td>\n",
       "      <td>0.750428</td>\n",
       "      <td>1</td>\n",
       "      <td>3</td>\n",
       "    </tr>\n",
       "  </tbody>\n",
       "</table>\n",
       "</div>"
      ],
      "text/plain": [
       "    quarter  department  team  targeted_productivity    smv     wip  \\\n",
       "0  Quarter1      sweing     8                   0.80  26.16  1108.0   \n",
       "1  Quarter1  finishing      1                   0.75   3.94     NaN   \n",
       "2  Quarter1      sweing    11                   0.80  11.41   968.0   \n",
       "3  Quarter1      sweing    12                   0.80  11.41   968.0   \n",
       "4  Quarter1      sweing     6                   0.80  25.90  1170.0   \n",
       "5  Quarter1      sweing     7                   0.80  25.90   984.0   \n",
       "6  Quarter1  finishing      2                   0.75   3.94     NaN   \n",
       "7  Quarter1      sweing     3                   0.75  28.08   795.0   \n",
       "8  Quarter1      sweing     2                   0.75  19.87   733.0   \n",
       "9  Quarter1      sweing     1                   0.75  28.08   681.0   \n",
       "\n",
       "   over_time  incentive  idle_time  idle_men  no_of_style_change  \\\n",
       "0       7080         98        0.0         0                   0   \n",
       "1        960          0        0.0         0                   0   \n",
       "2       3660         50        0.0         0                   0   \n",
       "3       3660         50        0.0         0                   0   \n",
       "4       1920         50        0.0         0                   0   \n",
       "5       6720         38        0.0         0                   0   \n",
       "6        960          0        0.0         0                   0   \n",
       "7       6900         45        0.0         0                   0   \n",
       "8       6000         34        0.0         0                   0   \n",
       "9       6900         45        0.0         0                   0   \n",
       "\n",
       "   no_of_workers  actual_productivity  month  day  \n",
       "0           59.0             0.940725      1    3  \n",
       "1            8.0             0.886500      1    3  \n",
       "2           30.5             0.800570      1    3  \n",
       "3           30.5             0.800570      1    3  \n",
       "4           56.0             0.800382      1    3  \n",
       "5           56.0             0.800125      1    3  \n",
       "6            8.0             0.755167      1    3  \n",
       "7           57.5             0.753683      1    3  \n",
       "8           55.0             0.753098      1    3  \n",
       "9           57.5             0.750428      1    3  "
      ]
     },
     "execution_count": 9,
     "metadata": {},
     "output_type": "execute_result"
    }
   ],
   "source": [
    "# Output the first ten rows\n",
    "data.head(10)"
   ]
  },
  {
   "cell_type": "code",
   "execution_count": 10,
   "id": "ef0fa1bf-beb3-44c4-b1e0-bcc48ce30789",
   "metadata": {},
   "outputs": [
    {
     "name": "stdout",
     "output_type": "stream",
     "text": [
      "<class 'pandas.core.frame.DataFrame'>\n",
      "RangeIndex: 1197 entries, 0 to 1196\n",
      "Data columns (total 15 columns):\n",
      " #   Column                 Non-Null Count  Dtype  \n",
      "---  ------                 --------------  -----  \n",
      " 0   quarter                1197 non-null   object \n",
      " 1   department             1197 non-null   object \n",
      " 2   team                   1197 non-null   int64  \n",
      " 3   targeted_productivity  1197 non-null   float64\n",
      " 4   smv                    1197 non-null   float64\n",
      " 5   wip                    691 non-null    float64\n",
      " 6   over_time              1197 non-null   int64  \n",
      " 7   incentive              1197 non-null   int64  \n",
      " 8   idle_time              1197 non-null   float64\n",
      " 9   idle_men               1197 non-null   int64  \n",
      " 10  no_of_style_change     1197 non-null   int64  \n",
      " 11  no_of_workers          1197 non-null   float64\n",
      " 12  actual_productivity    1197 non-null   float64\n",
      " 13  month                  1197 non-null   int64  \n",
      " 14  day                    1197 non-null   int64  \n",
      "dtypes: float64(6), int64(7), object(2)\n",
      "memory usage: 140.4+ KB\n"
     ]
    }
   ],
   "source": [
    "# Print the data set overview (dimensions, variable names, data types, null values)\n",
    "data.info()"
   ]
  },
  {
   "cell_type": "markdown",
   "id": "0f713684-c572-4dd1-9b90-2ce6ea02b756",
   "metadata": {},
   "source": [
    "### Dummy encoding"
   ]
  },
  {
   "cell_type": "markdown",
   "id": "03a9a853-9c7f-4cf4-bbb6-85e55e5a7fca",
   "metadata": {},
   "source": [
    "Now that we've extracted some new features from our date data, we want to encode all our features so that they're ready for machine learning modeling. This includes encoding all of our categorical features as 'dummy variables'. Whilst this may seem easy at first sight, check the unique values (using `.unique()`) for the following features: `'team'`, `'month'`, `'day'`. Do these seem like continuous or categorical variables to you?"
   ]
  },
  {
   "cell_type": "code",
   "execution_count": 11,
   "id": "37e73c7d-4a3b-401b-b779-c05d6ab4492b",
   "metadata": {},
   "outputs": [
    {
     "data": {
      "text/plain": [
       "array([ 8,  1, 11, 12,  6,  7,  2,  3,  9, 10,  5,  4], dtype=int64)"
      ]
     },
     "execution_count": 11,
     "metadata": {},
     "output_type": "execute_result"
    }
   ],
   "source": [
    "# Checking unique values for 'team'\n",
    "data['team'].unique()"
   ]
  },
  {
   "cell_type": "code",
   "execution_count": 12,
   "id": "707df377-340c-4073-968c-1004788baffd",
   "metadata": {},
   "outputs": [
    {
     "data": {
      "text/plain": [
       "array([1, 2, 3], dtype=int64)"
      ]
     },
     "execution_count": 12,
     "metadata": {},
     "output_type": "execute_result"
    }
   ],
   "source": [
    "# Checking unique values for 'month' \n",
    "data['month'].unique()"
   ]
  },
  {
   "cell_type": "code",
   "execution_count": 13,
   "id": "0faf94e4-7c93-4dc8-be50-b8cbffd13d78",
   "metadata": {},
   "outputs": [
    {
     "data": {
      "text/plain": [
       "array([3, 5, 6, 0, 1, 2], dtype=int64)"
      ]
     },
     "execution_count": 13,
     "metadata": {},
     "output_type": "execute_result"
    }
   ],
   "source": [
    "# Checking unique values for 'day' \n",
    "data['day'].unique()"
   ]
  },
  {
   "cell_type": "markdown",
   "id": "648aee6a-4c66-486c-bc4a-d96d34bfbed5",
   "metadata": {},
   "source": [
    "As we can see, these features, although of numerical data type, fall much better under the definition of categorical variables. Had we not noticed, they would not get dummy encoded by the `pd.get_dummies()` function, leading to the incorrect handling of our data. Thus, its important to always check what kind of features we have, irrespective if data type. We can get around this encoding problem by casting these features as `str` types and then proceeding with the dummy encoding. In our data set:\n",
    "- Cast the features `'team'`, `'month'`, and `'day'` as strings.\n",
    "- Use the `pd.get_dummies()` function to dummy encode categorical variables (Hint: remember to drop one dummy pre categorical feature using the `drop_first` parameter)."
   ]
  },
  {
   "cell_type": "code",
   "execution_count": 14,
   "id": "3d85a53d-55ab-400a-a24d-66148329d4cb",
   "metadata": {},
   "outputs": [],
   "source": [
    "# Cast 'team', 'month', and 'day' features as str\n",
    "data['team'] = data['team'].astype(str)\n",
    "data['month'] = data['month'].astype(str)\n",
    "data['day'] = data['day'].astype(str)"
   ]
  },
  {
   "cell_type": "code",
   "execution_count": 15,
   "id": "f863184d-7b01-41d5-ae6f-8b658ac22bcb",
   "metadata": {},
   "outputs": [],
   "source": [
    "# Generate dummy encoding\n",
    "# We drop the first categorical variable as the machine learning algorithm will see it the same, but this way we reduced the dimensions of the dataset\n",
    "data = pd.get_dummies(data, drop_first=True)"
   ]
  },
  {
   "cell_type": "code",
   "execution_count": 16,
   "id": "79619f84-afb8-4b82-b1f0-9329c35ddeaa",
   "metadata": {},
   "outputs": [
    {
     "name": "stdout",
     "output_type": "stream",
     "text": [
      "<class 'pandas.core.frame.DataFrame'>\n",
      "RangeIndex: 1197 entries, 0 to 1196\n",
      "Data columns (total 34 columns):\n",
      " #   Column                 Non-Null Count  Dtype  \n",
      "---  ------                 --------------  -----  \n",
      " 0   targeted_productivity  1197 non-null   float64\n",
      " 1   smv                    1197 non-null   float64\n",
      " 2   wip                    691 non-null    float64\n",
      " 3   over_time              1197 non-null   int64  \n",
      " 4   incentive              1197 non-null   int64  \n",
      " 5   idle_time              1197 non-null   float64\n",
      " 6   idle_men               1197 non-null   int64  \n",
      " 7   no_of_style_change     1197 non-null   int64  \n",
      " 8   no_of_workers          1197 non-null   float64\n",
      " 9   actual_productivity    1197 non-null   float64\n",
      " 10  quarter_Quarter2       1197 non-null   uint8  \n",
      " 11  quarter_Quarter3       1197 non-null   uint8  \n",
      " 12  quarter_Quarter4       1197 non-null   uint8  \n",
      " 13  quarter_Quarter5       1197 non-null   uint8  \n",
      " 14  department_finishing   1197 non-null   uint8  \n",
      " 15  department_sweing      1197 non-null   uint8  \n",
      " 16  team_10                1197 non-null   uint8  \n",
      " 17  team_11                1197 non-null   uint8  \n",
      " 18  team_12                1197 non-null   uint8  \n",
      " 19  team_2                 1197 non-null   uint8  \n",
      " 20  team_3                 1197 non-null   uint8  \n",
      " 21  team_4                 1197 non-null   uint8  \n",
      " 22  team_5                 1197 non-null   uint8  \n",
      " 23  team_6                 1197 non-null   uint8  \n",
      " 24  team_7                 1197 non-null   uint8  \n",
      " 25  team_8                 1197 non-null   uint8  \n",
      " 26  team_9                 1197 non-null   uint8  \n",
      " 27  month_2                1197 non-null   uint8  \n",
      " 28  month_3                1197 non-null   uint8  \n",
      " 29  day_1                  1197 non-null   uint8  \n",
      " 30  day_2                  1197 non-null   uint8  \n",
      " 31  day_3                  1197 non-null   uint8  \n",
      " 32  day_5                  1197 non-null   uint8  \n",
      " 33  day_6                  1197 non-null   uint8  \n",
      "dtypes: float64(6), int64(4), uint8(24)\n",
      "memory usage: 121.7 KB\n"
     ]
    }
   ],
   "source": [
    "# Print data set overview\n",
    "data.info()"
   ]
  },
  {
   "cell_type": "markdown",
   "id": "aa22ed99-1aa4-4e03-9eae-8a1166c577c8",
   "metadata": {},
   "source": [
    "### Our ML setup\n",
    "Now that we have our variables encoded we want to set up our data in the usual machine learning configuration: a training and a test set, each with a feature matrix and a target vector. To start:\n",
    "\n",
    "- Import the `train_test_split()` function from scikit learn\n",
    "- Declare a target vector y (corresponding to the `actual_productivity` column in the data set)\n",
    "- Declare a feature matrix X (including all columns except `actual_productivity`)\n",
    "- Create a training and test set\n",
    "- Print the dimensions of X and y in both the training and test set."
   ]
  },
  {
   "cell_type": "code",
   "execution_count": 17,
   "id": "7406c1a1-48bb-4671-a438-bd26fbd9696f",
   "metadata": {},
   "outputs": [],
   "source": [
    "# Importing train-test split function\n",
    "from sklearn.model_selection import train_test_split"
   ]
  },
  {
   "cell_type": "code",
   "execution_count": 18,
   "id": "68be4e31-8311-4f98-97bd-c808a3e0f235",
   "metadata": {},
   "outputs": [],
   "source": [
    "# Declare the training vector y which has the column label 'actual_productivity'\n",
    "y = data['actual_productivity']"
   ]
  },
  {
   "cell_type": "code",
   "execution_count": 19,
   "id": "cd60bb12-516f-40a4-bcd7-f9eef7bb73b0",
   "metadata": {},
   "outputs": [],
   "source": [
    "# Declare feature matrix \n",
    "X = data.drop(columns='actual_productivity')"
   ]
  },
  {
   "cell_type": "code",
   "execution_count": 20,
   "id": "063f1c4a-6a7a-44d9-b9d2-99b3f92f4b89",
   "metadata": {},
   "outputs": [],
   "source": [
    "# Create a train-test- split using random state 253, test_size 30%\n",
    "X_train, X_test, y_train, y_test = train_test_split(X, y, test_size=0.30, random_state=253)"
   ]
  },
  {
   "cell_type": "code",
   "execution_count": 21,
   "id": "3568af11-74a9-48f8-ba07-596f959feaa5",
   "metadata": {},
   "outputs": [
    {
     "name": "stdout",
     "output_type": "stream",
     "text": [
      "X_train dimensions:  (837, 33)\n",
      "y_train dimensions:  (837,)\n"
     ]
    }
   ],
   "source": [
    "# Print dimensions of the training set\n",
    "print('X_train dimensions: ', X_train.shape)\n",
    "print('y_train dimensions: ', y_train.shape)"
   ]
  },
  {
   "cell_type": "code",
   "execution_count": 22,
   "id": "a5830a8e-bca6-4e12-953c-45c5b499171f",
   "metadata": {},
   "outputs": [
    {
     "name": "stdout",
     "output_type": "stream",
     "text": [
      "X_test dimensions:  (360, 33)\n",
      "y_test dimensions:  (360,)\n"
     ]
    }
   ],
   "source": [
    "# Print dimensions of the test set\n",
    "print('X_test dimensions: ', X_test.shape)\n",
    "print('y_test dimensions: ', y_test.shape)"
   ]
  },
  {
   "cell_type": "markdown",
   "id": "fdb0ecd6-e58a-4e31-9b0c-b56683c8c13f",
   "metadata": {},
   "source": [
    "### Missing value imputation"
   ]
  },
  {
   "cell_type": "markdown",
   "id": "3900a9c2-5542-4681-88b5-f12124a4e626",
   "metadata": {},
   "source": [
    "As you probably already noticed, we have several missing values in the `'wip'` column of our data set. This time, however, we will use a more advanced method to impute missing values. More specifically, we will use the K Nearest Neighbors algorithm to impute values that are similar to other nearby samples, which should hopefully give us more accuracy. To do this:\n",
    "- Import the `KNNImputer` class from scikit learn\n",
    "- Create `KNNImputer` transformer, passing `n_neighbors=7` as an argument.\n",
    "- Fit the transformer using `X_train`\n",
    "- Impute missing values by calling the `.transform()` method with `X_train` as an argument. Assign this to a new variable `X_full`."
   ]
  },
  {
   "cell_type": "code",
   "execution_count": 33,
   "id": "f755d904-59ee-45d8-aa75-47143969ab8b",
   "metadata": {},
   "outputs": [],
   "source": [
    "# Importing KNNImputer\n",
    "from sklearn.impute import KNNImputer"
   ]
  },
  {
   "cell_type": "code",
   "execution_count": 37,
   "id": "9de61af1-b131-463f-be7c-3d2989f9c7b9",
   "metadata": {},
   "outputs": [],
   "source": [
    "# Creating KNNImputer transformer\n",
    "kkni = KNNImputer(n_neighbors = 7)"
   ]
  },
  {
   "cell_type": "code",
   "execution_count": 39,
   "id": "20c54f0e-dc99-406b-bba8-41b3e269dc0c",
   "metadata": {},
   "outputs": [
    {
     "data": {
      "text/html": [
       "<style>#sk-container-id-1 {color: black;background-color: white;}#sk-container-id-1 pre{padding: 0;}#sk-container-id-1 div.sk-toggleable {background-color: white;}#sk-container-id-1 label.sk-toggleable__label {cursor: pointer;display: block;width: 100%;margin-bottom: 0;padding: 0.3em;box-sizing: border-box;text-align: center;}#sk-container-id-1 label.sk-toggleable__label-arrow:before {content: \"▸\";float: left;margin-right: 0.25em;color: #696969;}#sk-container-id-1 label.sk-toggleable__label-arrow:hover:before {color: black;}#sk-container-id-1 div.sk-estimator:hover label.sk-toggleable__label-arrow:before {color: black;}#sk-container-id-1 div.sk-toggleable__content {max-height: 0;max-width: 0;overflow: hidden;text-align: left;background-color: #f0f8ff;}#sk-container-id-1 div.sk-toggleable__content pre {margin: 0.2em;color: black;border-radius: 0.25em;background-color: #f0f8ff;}#sk-container-id-1 input.sk-toggleable__control:checked~div.sk-toggleable__content {max-height: 200px;max-width: 100%;overflow: auto;}#sk-container-id-1 input.sk-toggleable__control:checked~label.sk-toggleable__label-arrow:before {content: \"▾\";}#sk-container-id-1 div.sk-estimator input.sk-toggleable__control:checked~label.sk-toggleable__label {background-color: #d4ebff;}#sk-container-id-1 div.sk-label input.sk-toggleable__control:checked~label.sk-toggleable__label {background-color: #d4ebff;}#sk-container-id-1 input.sk-hidden--visually {border: 0;clip: rect(1px 1px 1px 1px);clip: rect(1px, 1px, 1px, 1px);height: 1px;margin: -1px;overflow: hidden;padding: 0;position: absolute;width: 1px;}#sk-container-id-1 div.sk-estimator {font-family: monospace;background-color: #f0f8ff;border: 1px dotted black;border-radius: 0.25em;box-sizing: border-box;margin-bottom: 0.5em;}#sk-container-id-1 div.sk-estimator:hover {background-color: #d4ebff;}#sk-container-id-1 div.sk-parallel-item::after {content: \"\";width: 100%;border-bottom: 1px solid gray;flex-grow: 1;}#sk-container-id-1 div.sk-label:hover label.sk-toggleable__label {background-color: #d4ebff;}#sk-container-id-1 div.sk-serial::before {content: \"\";position: absolute;border-left: 1px solid gray;box-sizing: border-box;top: 0;bottom: 0;left: 50%;z-index: 0;}#sk-container-id-1 div.sk-serial {display: flex;flex-direction: column;align-items: center;background-color: white;padding-right: 0.2em;padding-left: 0.2em;position: relative;}#sk-container-id-1 div.sk-item {position: relative;z-index: 1;}#sk-container-id-1 div.sk-parallel {display: flex;align-items: stretch;justify-content: center;background-color: white;position: relative;}#sk-container-id-1 div.sk-item::before, #sk-container-id-1 div.sk-parallel-item::before {content: \"\";position: absolute;border-left: 1px solid gray;box-sizing: border-box;top: 0;bottom: 0;left: 50%;z-index: -1;}#sk-container-id-1 div.sk-parallel-item {display: flex;flex-direction: column;z-index: 1;position: relative;background-color: white;}#sk-container-id-1 div.sk-parallel-item:first-child::after {align-self: flex-end;width: 50%;}#sk-container-id-1 div.sk-parallel-item:last-child::after {align-self: flex-start;width: 50%;}#sk-container-id-1 div.sk-parallel-item:only-child::after {width: 0;}#sk-container-id-1 div.sk-dashed-wrapped {border: 1px dashed gray;margin: 0 0.4em 0.5em 0.4em;box-sizing: border-box;padding-bottom: 0.4em;background-color: white;}#sk-container-id-1 div.sk-label label {font-family: monospace;font-weight: bold;display: inline-block;line-height: 1.2em;}#sk-container-id-1 div.sk-label-container {text-align: center;}#sk-container-id-1 div.sk-container {/* jupyter's `normalize.less` sets `[hidden] { display: none; }` but bootstrap.min.css set `[hidden] { display: none !important; }` so we also need the `!important` here to be able to override the default hidden behavior on the sphinx rendered scikit-learn.org. See: https://github.com/scikit-learn/scikit-learn/issues/21755 */display: inline-block !important;position: relative;}#sk-container-id-1 div.sk-text-repr-fallback {display: none;}</style><div id=\"sk-container-id-1\" class=\"sk-top-container\"><div class=\"sk-text-repr-fallback\"><pre>KNNImputer(n_neighbors=7)</pre><b>In a Jupyter environment, please rerun this cell to show the HTML representation or trust the notebook. <br />On GitHub, the HTML representation is unable to render, please try loading this page with nbviewer.org.</b></div><div class=\"sk-container\" hidden><div class=\"sk-item\"><div class=\"sk-estimator sk-toggleable\"><input class=\"sk-toggleable__control sk-hidden--visually\" id=\"sk-estimator-id-1\" type=\"checkbox\" checked><label for=\"sk-estimator-id-1\" class=\"sk-toggleable__label sk-toggleable__label-arrow\">KNNImputer</label><div class=\"sk-toggleable__content\"><pre>KNNImputer(n_neighbors=7)</pre></div></div></div></div></div>"
      ],
      "text/plain": [
       "KNNImputer(n_neighbors=7)"
      ]
     },
     "execution_count": 39,
     "metadata": {},
     "output_type": "execute_result"
    }
   ],
   "source": [
    "# Fitting and transforming training feature matrix using our imput\n",
    "kkni.fit(X_train)"
   ]
  },
  {
   "cell_type": "markdown",
   "id": "d051f664-6205-412e-b943-86541e5ffb7a",
   "metadata": {},
   "source": [
    "### Pipelines"
   ]
  },
  {
   "cell_type": "markdown",
   "id": "d87b48dd-bdca-4080-89d4-811a90caf600",
   "metadata": {},
   "source": [
    "You might've noticed that most machine learning with scikit learn involves:\n",
    "- Instantiating a transformer or model.\n",
    "- Fitting this to our data using `.fit()`.\n",
    "- Transforming or predicting using `.transform()` or `.predict()`.\n",
    "\n",
    "This simple, general process means that we can simplify our ML process using **Pipelines**. A Pipeline allows you to establish a sequence of transformations terminating with *one estimator*. Pipelines can then be treated as any other scikit learn estimator, but each time they perform all of the interim transformation steps in the sequence. This has the benefit of greatly simplifying your code and can also help prevent [data leakage](https://machinelearningmastery.com/data-leakage-machine-learning/). \n",
    "\n",
    "To instantiate a Pipeline you must pass as an argument a list of $n+1$ tuples (where $n$ is the number of transforms) in the form: `[('transformer_1_name', transformer_1), ..., ('estimator_name', estimator)]`.\n",
    "\n",
    "We will now create Pipelines for both an SVM and a Linear Regression model below:\n",
    "- Import the `StandardScaler`, `SVR`, and `LinearRegression` classes from scikit learn.\n",
    "- Import the `Pipeline` class from scikit learn.\n",
    "- For each one of the two models, create a Pipeline with the following transforms (in order): imputation, scaling, estimator."
   ]
  },
  {
   "cell_type": "code",
   "execution_count": 26,
   "id": "0c145e7b-9b45-4351-ac01-372735160aac",
   "metadata": {},
   "outputs": [],
   "source": [
    "# Importing StandardScaler\n",
    "from sklearn.preprocessing import StandardScaler"
   ]
  },
  {
   "cell_type": "code",
   "execution_count": 27,
   "id": "54ac82f9-6138-408d-b6f0-08e11c91b12a",
   "metadata": {},
   "outputs": [],
   "source": [
    "# Importing KNN, SVM, and Linear Regression models \n",
    "from sklearn.svm import SVR\n",
    "from sklearn.linear_model import LinearRegression\n"
   ]
  },
  {
   "cell_type": "code",
   "execution_count": 28,
   "id": "71694e37-9175-4339-a534-73c3c1074397",
   "metadata": {},
   "outputs": [],
   "source": [
    "# Importing Pipeline\n",
    "from sklearn.pipeline import Pipeline"
   ]
  },
  {
   "cell_type": "code",
   "execution_count": 73,
   "id": "cf712afc-2fd1-43cb-91d6-ea331307fdee",
   "metadata": {},
   "outputs": [],
   "source": [
    "# Combine these into two Pipelines, one for each model\n",
    "lin_reg_pipe = Pipeline([('Imputation', KNNImputer(n_neighbors=7)), \n",
    "                         ('Scaler', StandardScaler()), \n",
    "                         ('Model', LinearRegression())])\n",
    "\n",
    "#SVR pipe\n",
    "svm_pipe = Pipeline([('Imputation', KNNImputer(n_neighbors=7)), \n",
    "                         ('Scaler', StandardScaler()), \n",
    "                         ('Model', SVR())])\n"
   ]
  },
  {
   "cell_type": "markdown",
   "id": "bb070625-93f6-4620-b6d3-c01cb3189fac",
   "metadata": {},
   "source": [
    "Now we want to see how well our models stack up! For regression problems, one metric that is often used to assess model performance is the **Root Mean Squared Error (RMSE)**. this is given by:\n",
    "$$\\text{RMSE}=\\sqrt{\\frac{\\sum_{i=1}^n (\\,y_i\\,-\\,y_i^{pred}\\,)^2}{n}}$$\n",
    "\n",
    "We can compare our models by computing the cross-validated RMSE scores:\n",
    "- Import the `cross_val_score()` function from scikit learn.\n",
    "- Calculate the cross-validated scores for each pipeline estimator. \n",
    "- Print the mean score for each pipeline estimator.\n",
    "> **Note:**  Pass `scoring = 'neg_root_mean_squared_error'` as an argument to `cross_val_score()` to ensure that it computes the RMSE for all models."
   ]
  },
  {
   "cell_type": "code",
   "execution_count": 74,
   "id": "2bdceee1-77cc-44e5-83f5-7d720c3231c5",
   "metadata": {},
   "outputs": [],
   "source": [
    "from sklearn.model_selection import cross_val_score"
   ]
  },
  {
   "cell_type": "code",
   "execution_count": 75,
   "id": "0089fb9c-cb48-4c32-9a54-928477adbbd5",
   "metadata": {},
   "outputs": [
    {
     "name": "stdout",
     "output_type": "stream",
     "text": [
      "-0.15265815212350917\n",
      "-0.1584394088538033\n"
     ]
    }
   ],
   "source": [
    "# Calculate the cross-validated score of these two models\n",
    "#cross validation\n",
    "lin_reg_score = cross_val_score(lin_reg_pipe, X_train, y_train, scoring = 'neg_root_mean_squared_error').mean()\n",
    "svm_score = cross_val_score(svm_pipe, X_train, y_train, scoring = 'neg_root_mean_squared_error').mean() \n",
    "\n",
    "print(svm_score)\n",
    "print(lin_reg_score)\n",
    "\n"
   ]
  },
  {
   "cell_type": "code",
   "execution_count": 76,
   "id": "8702a3e8-6cd4-474d-a40e-ca98e71a3274",
   "metadata": {},
   "outputs": [
    {
     "name": "stdout",
     "output_type": "stream",
     "text": [
      "Linear Regression RMSE Score:\n",
      "0.1584394088538033\n"
     ]
    }
   ],
   "source": [
    "print('Linear Regression RMSE Score:')\n",
    "print((-1)*lin_reg_score)"
   ]
  },
  {
   "cell_type": "code",
   "execution_count": 77,
   "id": "1b5f5ecf-8c57-4b5e-b2bf-45a75893939b",
   "metadata": {},
   "outputs": [
    {
     "name": "stdout",
     "output_type": "stream",
     "text": [
      "SVM RMSE Score:\n",
      "0.15265815212350917\n"
     ]
    }
   ],
   "source": [
    "print('SVM RMSE Score:')\n",
    "print((-1)*svm_score)"
   ]
  },
  {
   "cell_type": "markdown",
   "id": "15e89161-e7fd-4df9-831e-5efd3d58e837",
   "metadata": {},
   "source": [
    "### Regularization"
   ]
  },
  {
   "cell_type": "markdown",
   "id": "90f4a6de-c06a-4f9e-bfe7-a8fc45fa7365",
   "metadata": {},
   "source": [
    "We will now learn about a more advanced technique called **regularization** that can help us build better regression models. Regularization is an adaptation on the standard linear regression and essentially works by placing a penalty on the size of the regression coefficients when fitting. This is because large coefficients tend to overfit our model to the training data, so by shrinking them we enable the model to generalize better and improve performance on unseen data. A more detailed description of regularization can be found [here](https://towardsdatascience.com/regularization-in-machine-learning-76441ddcf99a). \n",
    "\n",
    "We will focus on one particular kind of regularized regression model known as **Ridge regression**. One key aspect of ridge regression is the `alpha` hyperparameter, which is used to denote the strength of the penalty on coefficient size. A larger value of`alpha` will seek to shrink coefficients more and viseversa. Finding the optimal `alpha` value can be cumbersome, but luckily we can use the hyperparameter optimization techniques learned in Session Five to do this. \n",
    "\n",
    "Lets try out using a Ridge model for our productivity problem:\n",
    "- Import the `Ridge` and `GridSearchCV` classes from scikit learn\n",
    "- Create a Pipeline with the following transforms (in order): imputation, scaling, Ridge estimator.\n",
    "- Create a `GridSearchCV` object by passing our Ridge pipeline, and the dictionary `params`.\n",
    "- Fit the `GridSearchCV` object using `X_train` and `y_train`.\n",
    "- Print the optimal `alpha` value using the `.best_params_` attribute on our `GridSearchCV` object.\n",
    "- Print the best RMSE score using the `.best_score_` attribute on our `GridSearchCV` object.\n",
    "- Assign the optimized model to `ridge_pipe` using the `.best_estimator_` attribute on our `GridSearchCV` object.\n",
    "> **Note:**  Pass `scoring = 'neg_root_mean_squared_error'` as an argument to `GridSearchCV()` to ensure that it computes the RMSE for our Ridge model."
   ]
  },
  {
   "cell_type": "code",
   "execution_count": 78,
   "id": "c8624fe4-81ea-4289-b387-43206ff13170",
   "metadata": {},
   "outputs": [],
   "source": [
    "# Importing Ridge\n",
    "from sklearn.linear_model import Ridge"
   ]
  },
  {
   "cell_type": "code",
   "execution_count": 79,
   "id": "2782e7ed-c762-474a-9f16-9dfe9d196262",
   "metadata": {},
   "outputs": [],
   "source": [
    "# Importing GridSearchCV\n",
    "from sklearn.model_selection import GridSearchCV"
   ]
  },
  {
   "cell_type": "code",
   "execution_count": 80,
   "id": "3c62bc17-536e-4bca-ac3b-aa41d6637c24",
   "metadata": {},
   "outputs": [],
   "source": [
    "# Creating Ridge Pipeline\n",
    "ridge_pipe = Pipeline([('Imputation', KNNImputer(n_neighbors=7)), \n",
    "                         ('Scaler', StandardScaler()), \n",
    "                         ('Model', Ridge())])"
   ]
  },
  {
   "cell_type": "code",
   "execution_count": 81,
   "id": "454d555b-07c4-4767-9f3f-18b09ce021a3",
   "metadata": {},
   "outputs": [],
   "source": [
    "params = {'Model__alpha':np.linspace(0, 1, 40)}"
   ]
  },
  {
   "cell_type": "code",
   "execution_count": 82,
   "id": "9b242e70-b6d1-4ea6-ac40-b7f7c6f10aeb",
   "metadata": {},
   "outputs": [
    {
     "name": "stdout",
     "output_type": "stream",
     "text": [
      "Best Alpha:  {'Model__alpha': 0.0}\n",
      "RMSE:  -0.1584394088538034\n"
     ]
    }
   ],
   "source": [
    "# Optimizing alpha hyperparameter using GridSearchCV\n",
    "grid_search = GridSearchCV(ridge_pipe, params, scoring = 'neg_root_mean_squared_error') #scoring is important here\n",
    "grid_search.fit(X_train, y_train)\n",
    "print('Best Alpha: ', grid_search.best_params_)\n",
    "print('RMSE: ', grid_search.best_score_)"
   ]
  },
  {
   "cell_type": "code",
   "execution_count": 83,
   "id": "96a62fd2-25ac-4069-a9fc-6f6c8157f6f0",
   "metadata": {},
   "outputs": [],
   "source": [
    "\n",
    "# Retrieving optimized Ridge model\n",
    "ridge_pipe = grid_search.best_estimator_"
   ]
  },
  {
   "cell_type": "markdown",
   "id": "235afec3-953d-4923-95e6-a362124ae3ca",
   "metadata": {},
   "source": [
    "### Wrapping it all up"
   ]
  },
  {
   "cell_type": "markdown",
   "id": "8616cbac-2548-4920-bb7f-4cb6127ced33",
   "metadata": {},
   "source": [
    "We're nearly there! Now its time to train our models using the whole initial training set to then predict on the test set:\n",
    "- Import the `mean_squared_error()` function from scikit learn\n",
    "- Fit each model on the training set.\n",
    "- Predict with each model on the test set.\n",
    "- Print out the RMSE of your predictions using mean_squared_error(). \n",
    "\n",
    "> **Note**: To get the RMSE instead of the MSE, just pass `squared=False` as an argument."
   ]
  },
  {
   "cell_type": "code",
   "execution_count": 86,
   "id": "25e2899a-7a03-4605-a645-46455c9dd6a9",
   "metadata": {},
   "outputs": [],
   "source": [
    "# Importing mean_squared_error\n",
    "from sklearn.metrics import mean_squared_error"
   ]
  },
  {
   "cell_type": "code",
   "execution_count": 87,
   "id": "7e54736e-b5f8-4f45-8406-cb69f531aee0",
   "metadata": {},
   "outputs": [
    {
     "name": "stdout",
     "output_type": "stream",
     "text": [
      "Linear Regression RMSE:\n",
      "0.15584585558454092\n"
     ]
    }
   ],
   "source": [
    "# Fit and predict Linear Regression pipeline\n",
    "lin_reg_pipe.fit(X_train, y_train)\n",
    "y_pred = lin_reg_pipe.predict(X_test)\n",
    "print('Linear Regression RMSE:')\n",
    "print(mean_squared_error(y_test, y_pred, squared=False))"
   ]
  },
  {
   "cell_type": "code",
   "execution_count": 88,
   "id": "35f71ee9-d405-4118-bd96-04136ce3965a",
   "metadata": {},
   "outputs": [
    {
     "name": "stdout",
     "output_type": "stream",
     "text": [
      "SVM RMSE:\n",
      "0.1583052933346432\n"
     ]
    }
   ],
   "source": [
    "# Fit and predict SVM pipeline\n",
    "svm_pipe.fit(X_train, y_train)\n",
    "y_pred = svm_pipe.predict(X_test)\n",
    "print('SVM RMSE:')\n",
    "print(mean_squared_error(y_test, y_pred, squared=False))"
   ]
  },
  {
   "cell_type": "code",
   "execution_count": 89,
   "id": "2f749e22-6645-489a-bf2f-23ded4c38b58",
   "metadata": {},
   "outputs": [
    {
     "name": "stdout",
     "output_type": "stream",
     "text": [
      "Ridge RMSE:\n",
      "0.1558458555845411\n"
     ]
    }
   ],
   "source": [
    "# Fit and predict Ridge pipeline\n",
    "ridge_pipe.fit(X_train, y_train)\n",
    "y_pred = ridge_pipe.predict(X_test)\n",
    "print('Ridge RMSE:')\n",
    "print(mean_squared_error(y_test, y_pred, squared=False))"
   ]
  },
  {
   "cell_type": "code",
   "execution_count": null,
   "id": "2b11ea85-903a-4d8c-ae88-7b8578995fa4",
   "metadata": {},
   "outputs": [],
   "source": []
  }
 ],
 "metadata": {
  "kernelspec": {
   "display_name": "Python 3 (ipykernel)",
   "language": "python",
   "name": "python3"
  },
  "language_info": {
   "codemirror_mode": {
    "name": "ipython",
    "version": 3
   },
   "file_extension": ".py",
   "mimetype": "text/x-python",
   "name": "python",
   "nbconvert_exporter": "python",
   "pygments_lexer": "ipython3",
   "version": "3.10.9"
  }
 },
 "nbformat": 4,
 "nbformat_minor": 5
}
