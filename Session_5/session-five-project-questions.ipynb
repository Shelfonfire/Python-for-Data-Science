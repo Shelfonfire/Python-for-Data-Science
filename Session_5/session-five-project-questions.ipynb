{
 "cells": [
  {
   "cell_type": "markdown",
   "metadata": {},
   "source": [
    "# Python for Data Science Project Session 5: Economics and Finance"
   ]
  },
  {
   "cell_type": "markdown",
   "metadata": {},
   "source": [
    "## Introduction\n"
   ]
  },
  {
   "cell_type": "markdown",
   "metadata": {},
   "source": [
    "In this session, we will look at two mini projects related to Economics/Finance, applying techniques covered in Session Five and extending these a bit further. To start, we will import our general data science packages here, and then add the necessary machine learning imports as we go along so that it's clear when to use what: "
   ]
  },
  {
   "cell_type": "code",
   "execution_count": 1,
   "metadata": {},
   "outputs": [],
   "source": [
    "# Importing key data science libraries\n",
    "import numpy as np\n",
    "import pandas as pd\n",
    "import matplotlib.pyplot as plt\n",
    "\n",
    "# Convergence warning disabling\n",
    "from sklearn.exceptions import ConvergenceWarning\n",
    "from warnings import simplefilter\n",
    "\n",
    "simplefilter(\"ignore\", category=ConvergenceWarning)"
   ]
  },
  {
   "cell_type": "markdown",
   "metadata": {},
   "source": [
    "## Mini-Projects\n",
    "> [Classification: Which companies go bust?](#Classification:-Which-companies-go-bust?)\n",
    ">\n",
    "> [Regression: What are the drivers of worker productivity?](#Regression:-What-are-the-drivers-of-worker-productivity?)\n"
   ]
  },
  {
   "cell_type": "markdown",
   "metadata": {},
   "source": [
    "## Classification: Which companies go bust?\n",
    "For this project, we will aim to predict if a company is likely to go bankrupt given a variety of accounting and financial metrics. To do this, we will use  data collected from the Taiwan Economic Journal for the years 1999 to 2009. This kind of model would have all sorts of real world applications, from portfolio stock picks to loan approvals."
   ]
  },
  {
   "cell_type": "markdown",
   "metadata": {},
   "source": [
    "### Data set overview"
   ]
  },
  {
   "cell_type": "markdown",
   "metadata": {},
   "source": [
    "To start out, lets get an overview of our data set dimensions and feature types. We'll be doing a very simple overview in this section but feel free to perform more extensive EDA on your own: the more you know about your data, the better you can harness it through modelling.\n",
    "\n",
    "Start out with the following tasks:\n",
    "- Read in the data set as a pandas DataFrame (file path: `data/bankruptcy.csv`)\n",
    "- Output the first five data set rows\n",
    "- Print out a comprehensive summary of the data set (dimensions, variable names, data types, and null values)"
   ]
  },
  {
   "cell_type": "code",
   "execution_count": 2,
   "metadata": {},
   "outputs": [],
   "source": [
    "# Read bankruptcy data set\n",
    "data = pd.read_csv('data/bankruptcy.csv')"
   ]
  },
  {
   "cell_type": "code",
   "execution_count": 3,
   "metadata": {},
   "outputs": [
    {
     "data": {
      "text/html": [
       "<div>\n",
       "<style scoped>\n",
       "    .dataframe tbody tr th:only-of-type {\n",
       "        vertical-align: middle;\n",
       "    }\n",
       "\n",
       "    .dataframe tbody tr th {\n",
       "        vertical-align: top;\n",
       "    }\n",
       "\n",
       "    .dataframe thead th {\n",
       "        text-align: right;\n",
       "    }\n",
       "</style>\n",
       "<table border=\"1\" class=\"dataframe\">\n",
       "  <thead>\n",
       "    <tr style=\"text-align: right;\">\n",
       "      <th></th>\n",
       "      <th>Bankrupt</th>\n",
       "      <th>ROA(C) before interest and depreciation before interest</th>\n",
       "      <th>ROA(A) before interest and % after tax</th>\n",
       "      <th>ROA(B) before interest and depreciation after tax</th>\n",
       "      <th>Operating Gross Margin</th>\n",
       "      <th>Realized Sales Gross Margin</th>\n",
       "      <th>Operating Profit Rate</th>\n",
       "      <th>Pre-tax net Interest Rate</th>\n",
       "      <th>After-tax net Interest Rate</th>\n",
       "      <th>Non-industry income and expenditure/revenue</th>\n",
       "      <th>...</th>\n",
       "      <th>Net Income to Total Assets</th>\n",
       "      <th>Total assets to GNP price</th>\n",
       "      <th>No-credit Interval</th>\n",
       "      <th>Gross Profit to Sales</th>\n",
       "      <th>Net Income to Stockholder's Equity</th>\n",
       "      <th>Liability to Equity</th>\n",
       "      <th>Degree of Financial Leverage (DFL)</th>\n",
       "      <th>Interest Coverage Ratio (Interest expense to EBIT)</th>\n",
       "      <th>Net Income Flag</th>\n",
       "      <th>Equity to Liability</th>\n",
       "    </tr>\n",
       "  </thead>\n",
       "  <tbody>\n",
       "    <tr>\n",
       "      <th>0</th>\n",
       "      <td>1</td>\n",
       "      <td>0.370594</td>\n",
       "      <td>0.424389</td>\n",
       "      <td>0.405750</td>\n",
       "      <td>0.601457</td>\n",
       "      <td>0.601457</td>\n",
       "      <td>0.998969</td>\n",
       "      <td>0.796887</td>\n",
       "      <td>0.808809</td>\n",
       "      <td>0.302646</td>\n",
       "      <td>...</td>\n",
       "      <td>0.716845</td>\n",
       "      <td>0.009219</td>\n",
       "      <td>0.622879</td>\n",
       "      <td>0.601453</td>\n",
       "      <td>0.827890</td>\n",
       "      <td>0.290202</td>\n",
       "      <td>0.026601</td>\n",
       "      <td>0.564050</td>\n",
       "      <td>1</td>\n",
       "      <td>0.016469</td>\n",
       "    </tr>\n",
       "    <tr>\n",
       "      <th>1</th>\n",
       "      <td>1</td>\n",
       "      <td>0.464291</td>\n",
       "      <td>0.538214</td>\n",
       "      <td>0.516730</td>\n",
       "      <td>0.610235</td>\n",
       "      <td>0.610235</td>\n",
       "      <td>0.998946</td>\n",
       "      <td>0.797380</td>\n",
       "      <td>0.809301</td>\n",
       "      <td>0.303556</td>\n",
       "      <td>...</td>\n",
       "      <td>0.795297</td>\n",
       "      <td>0.008323</td>\n",
       "      <td>0.623652</td>\n",
       "      <td>0.610237</td>\n",
       "      <td>0.839969</td>\n",
       "      <td>0.283846</td>\n",
       "      <td>0.264577</td>\n",
       "      <td>0.570175</td>\n",
       "      <td>1</td>\n",
       "      <td>0.020794</td>\n",
       "    </tr>\n",
       "    <tr>\n",
       "      <th>2</th>\n",
       "      <td>1</td>\n",
       "      <td>0.426071</td>\n",
       "      <td>0.499019</td>\n",
       "      <td>0.472295</td>\n",
       "      <td>0.601450</td>\n",
       "      <td>0.601364</td>\n",
       "      <td>0.998857</td>\n",
       "      <td>0.796403</td>\n",
       "      <td>0.808388</td>\n",
       "      <td>0.302035</td>\n",
       "      <td>...</td>\n",
       "      <td>0.774670</td>\n",
       "      <td>0.040003</td>\n",
       "      <td>0.623841</td>\n",
       "      <td>0.601449</td>\n",
       "      <td>0.836774</td>\n",
       "      <td>0.290189</td>\n",
       "      <td>0.026555</td>\n",
       "      <td>0.563706</td>\n",
       "      <td>1</td>\n",
       "      <td>0.016474</td>\n",
       "    </tr>\n",
       "    <tr>\n",
       "      <th>3</th>\n",
       "      <td>1</td>\n",
       "      <td>0.399844</td>\n",
       "      <td>0.451265</td>\n",
       "      <td>0.457733</td>\n",
       "      <td>0.583541</td>\n",
       "      <td>0.583541</td>\n",
       "      <td>0.998700</td>\n",
       "      <td>0.796967</td>\n",
       "      <td>0.808966</td>\n",
       "      <td>0.303350</td>\n",
       "      <td>...</td>\n",
       "      <td>0.739555</td>\n",
       "      <td>0.003252</td>\n",
       "      <td>0.622929</td>\n",
       "      <td>0.583538</td>\n",
       "      <td>0.834697</td>\n",
       "      <td>0.281721</td>\n",
       "      <td>0.026697</td>\n",
       "      <td>0.564663</td>\n",
       "      <td>1</td>\n",
       "      <td>0.023982</td>\n",
       "    </tr>\n",
       "    <tr>\n",
       "      <th>4</th>\n",
       "      <td>1</td>\n",
       "      <td>0.465022</td>\n",
       "      <td>0.538432</td>\n",
       "      <td>0.522298</td>\n",
       "      <td>0.598783</td>\n",
       "      <td>0.598783</td>\n",
       "      <td>0.998973</td>\n",
       "      <td>0.797366</td>\n",
       "      <td>0.809304</td>\n",
       "      <td>0.303475</td>\n",
       "      <td>...</td>\n",
       "      <td>0.795016</td>\n",
       "      <td>0.003878</td>\n",
       "      <td>0.623521</td>\n",
       "      <td>0.598782</td>\n",
       "      <td>0.839973</td>\n",
       "      <td>0.278514</td>\n",
       "      <td>0.024752</td>\n",
       "      <td>0.575617</td>\n",
       "      <td>1</td>\n",
       "      <td>0.035490</td>\n",
       "    </tr>\n",
       "  </tbody>\n",
       "</table>\n",
       "<p>5 rows × 96 columns</p>\n",
       "</div>"
      ],
      "text/plain": [
       "   Bankrupt   ROA(C) before interest and depreciation before interest  \\\n",
       "0         1                                           0.370594          \n",
       "1         1                                           0.464291          \n",
       "2         1                                           0.426071          \n",
       "3         1                                           0.399844          \n",
       "4         1                                           0.465022          \n",
       "\n",
       "    ROA(A) before interest and % after tax  \\\n",
       "0                                 0.424389   \n",
       "1                                 0.538214   \n",
       "2                                 0.499019   \n",
       "3                                 0.451265   \n",
       "4                                 0.538432   \n",
       "\n",
       "    ROA(B) before interest and depreciation after tax  \\\n",
       "0                                           0.405750    \n",
       "1                                           0.516730    \n",
       "2                                           0.472295    \n",
       "3                                           0.457733    \n",
       "4                                           0.522298    \n",
       "\n",
       "    Operating Gross Margin   Realized Sales Gross Margin  \\\n",
       "0                 0.601457                      0.601457   \n",
       "1                 0.610235                      0.610235   \n",
       "2                 0.601450                      0.601364   \n",
       "3                 0.583541                      0.583541   \n",
       "4                 0.598783                      0.598783   \n",
       "\n",
       "    Operating Profit Rate   Pre-tax net Interest Rate  \\\n",
       "0                0.998969                    0.796887   \n",
       "1                0.998946                    0.797380   \n",
       "2                0.998857                    0.796403   \n",
       "3                0.998700                    0.796967   \n",
       "4                0.998973                    0.797366   \n",
       "\n",
       "    After-tax net Interest Rate   Non-industry income and expenditure/revenue  \\\n",
       "0                      0.808809                                      0.302646   \n",
       "1                      0.809301                                      0.303556   \n",
       "2                      0.808388                                      0.302035   \n",
       "3                      0.808966                                      0.303350   \n",
       "4                      0.809304                                      0.303475   \n",
       "\n",
       "   ...   Net Income to Total Assets   Total assets to GNP price  \\\n",
       "0  ...                     0.716845                    0.009219   \n",
       "1  ...                     0.795297                    0.008323   \n",
       "2  ...                     0.774670                    0.040003   \n",
       "3  ...                     0.739555                    0.003252   \n",
       "4  ...                     0.795016                    0.003878   \n",
       "\n",
       "    No-credit Interval   Gross Profit to Sales  \\\n",
       "0             0.622879                0.601453   \n",
       "1             0.623652                0.610237   \n",
       "2             0.623841                0.601449   \n",
       "3             0.622929                0.583538   \n",
       "4             0.623521                0.598782   \n",
       "\n",
       "    Net Income to Stockholder's Equity   Liability to Equity  \\\n",
       "0                             0.827890              0.290202   \n",
       "1                             0.839969              0.283846   \n",
       "2                             0.836774              0.290189   \n",
       "3                             0.834697              0.281721   \n",
       "4                             0.839973              0.278514   \n",
       "\n",
       "    Degree of Financial Leverage (DFL)  \\\n",
       "0                             0.026601   \n",
       "1                             0.264577   \n",
       "2                             0.026555   \n",
       "3                             0.026697   \n",
       "4                             0.024752   \n",
       "\n",
       "    Interest Coverage Ratio (Interest expense to EBIT)   Net Income Flag  \\\n",
       "0                                           0.564050                   1   \n",
       "1                                           0.570175                   1   \n",
       "2                                           0.563706                   1   \n",
       "3                                           0.564663                   1   \n",
       "4                                           0.575617                   1   \n",
       "\n",
       "    Equity to Liability  \n",
       "0              0.016469  \n",
       "1              0.020794  \n",
       "2              0.016474  \n",
       "3              0.023982  \n",
       "4              0.035490  \n",
       "\n",
       "[5 rows x 96 columns]"
      ]
     },
     "execution_count": 3,
     "metadata": {},
     "output_type": "execute_result"
    }
   ],
   "source": [
    "# Output the first five rows\n",
    "data.head(5)"
   ]
  },
  {
   "cell_type": "code",
   "execution_count": 4,
   "metadata": {},
   "outputs": [
    {
     "name": "stdout",
     "output_type": "stream",
     "text": [
      "<class 'pandas.core.frame.DataFrame'>\n",
      "RangeIndex: 6819 entries, 0 to 6818\n",
      "Data columns (total 96 columns):\n",
      " #   Column                                                    Non-Null Count  Dtype  \n",
      "---  ------                                                    --------------  -----  \n",
      " 0   Bankrupt                                                  6819 non-null   int64  \n",
      " 1    ROA(C) before interest and depreciation before interest  6819 non-null   float64\n",
      " 2    ROA(A) before interest and % after tax                   6819 non-null   float64\n",
      " 3    ROA(B) before interest and depreciation after tax        6819 non-null   float64\n",
      " 4    Operating Gross Margin                                   6819 non-null   float64\n",
      " 5    Realized Sales Gross Margin                              6819 non-null   float64\n",
      " 6    Operating Profit Rate                                    6819 non-null   float64\n",
      " 7    Pre-tax net Interest Rate                                6819 non-null   float64\n",
      " 8    After-tax net Interest Rate                              6819 non-null   float64\n",
      " 9    Non-industry income and expenditure/revenue              6819 non-null   float64\n",
      " 10   Continuous interest rate (after tax)                     6819 non-null   float64\n",
      " 11   Operating Expense Rate                                   6819 non-null   float64\n",
      " 12   Research and development expense rate                    6819 non-null   float64\n",
      " 13   Cash flow rate                                           6819 non-null   float64\n",
      " 14   Interest-bearing debt interest rate                      6819 non-null   float64\n",
      " 15   Tax rate (A)                                             6819 non-null   float64\n",
      " 16   Net Value Per Share (B)                                  6819 non-null   float64\n",
      " 17   Net Value Per Share (A)                                  6819 non-null   float64\n",
      " 18   Net Value Per Share (C)                                  6819 non-null   float64\n",
      " 19   Persistent EPS in the Last Four Seasons                  6819 non-null   float64\n",
      " 20   Cash Flow Per Share                                      6819 non-null   float64\n",
      " 21   Revenue Per Share (Yuan ¥)                               6819 non-null   float64\n",
      " 22   Operating Profit Per Share (Yuan ¥)                      6819 non-null   float64\n",
      " 23   Per Share Net profit before tax (Yuan ¥)                 6819 non-null   float64\n",
      " 24   Realized Sales Gross Profit Growth Rate                  6819 non-null   float64\n",
      " 25   Operating Profit Growth Rate                             6819 non-null   float64\n",
      " 26   After-tax Net Profit Growth Rate                         6819 non-null   float64\n",
      " 27   Regular Net Profit Growth Rate                           6819 non-null   float64\n",
      " 28   Continuous Net Profit Growth Rate                        6819 non-null   float64\n",
      " 29   Total Asset Growth Rate                                  6819 non-null   float64\n",
      " 30   Net Value Growth Rate                                    6819 non-null   float64\n",
      " 31   Total Asset Return Growth Rate Ratio                     6819 non-null   float64\n",
      " 32   Cash Reinvestment %                                      6819 non-null   float64\n",
      " 33   Current Ratio                                            6819 non-null   float64\n",
      " 34   Quick Ratio                                              6819 non-null   float64\n",
      " 35   Interest Expense Ratio                                   6819 non-null   float64\n",
      " 36   Total debt/Total net worth                               6819 non-null   float64\n",
      " 37   Debt ratio %                                             6819 non-null   float64\n",
      " 38   Net worth/Assets                                         6819 non-null   float64\n",
      " 39   Long-term fund suitability ratio (A)                     6819 non-null   float64\n",
      " 40   Borrowing dependency                                     6819 non-null   float64\n",
      " 41   Contingent liabilities/Net worth                         6819 non-null   float64\n",
      " 42   Operating profit/Paid-in capital                         6819 non-null   float64\n",
      " 43   Net profit before tax/Paid-in capital                    6819 non-null   float64\n",
      " 44   Inventory and accounts receivable/Net value              6819 non-null   float64\n",
      " 45   Total Asset Turnover                                     6819 non-null   float64\n",
      " 46   Accounts Receivable Turnover                             6819 non-null   float64\n",
      " 47   Average Collection Days                                  6819 non-null   float64\n",
      " 48   Inventory Turnover Rate (times)                          6819 non-null   float64\n",
      " 49   Fixed Assets Turnover Frequency                          6819 non-null   float64\n",
      " 50   Net Worth Turnover Rate (times)                          6819 non-null   float64\n",
      " 51   Revenue per person                                       6819 non-null   float64\n",
      " 52   Operating profit per person                              6819 non-null   float64\n",
      " 53   Allocation rate per person                               6819 non-null   float64\n",
      " 54   Working Capital to Total Assets                          6819 non-null   float64\n",
      " 55   Quick Assets/Total Assets                                6819 non-null   float64\n",
      " 56   Current Assets/Total Assets                              6819 non-null   float64\n",
      " 57   Cash/Total Assets                                        6819 non-null   float64\n",
      " 58   Quick Assets/Current Liability                           6819 non-null   float64\n",
      " 59   Cash/Current Liability                                   6819 non-null   float64\n",
      " 60   Current Liability to Assets                              6819 non-null   float64\n",
      " 61   Operating Funds to Liability                             6819 non-null   float64\n",
      " 62   Inventory/Working Capital                                6819 non-null   float64\n",
      " 63   Inventory/Current Liability                              6819 non-null   float64\n",
      " 64   Current Liabilities/Liability                            6819 non-null   float64\n",
      " 65   Working Capital/Equity                                   6819 non-null   float64\n",
      " 66   Current Liabilities/Equity                               6819 non-null   float64\n",
      " 67   Long-term Liability to Current Assets                    6819 non-null   float64\n",
      " 68   Retained Earnings to Total Assets                        6819 non-null   float64\n",
      " 69   Total income/Total expense                               6819 non-null   float64\n",
      " 70   Total expense/Assets                                     6819 non-null   float64\n",
      " 71   Current Asset Turnover Rate                              6819 non-null   float64\n",
      " 72   Quick Asset Turnover Rate                                6819 non-null   float64\n",
      " 73   Working capitcal Turnover Rate                           6819 non-null   float64\n",
      " 74   Cash Turnover Rate                                       6819 non-null   float64\n",
      " 75   Cash Flow to Sales                                       6819 non-null   float64\n",
      " 76   Fixed Assets to Assets                                   6819 non-null   float64\n",
      " 77   Current Liability to Liability                           6819 non-null   float64\n",
      " 78   Current Liability to Equity                              6819 non-null   float64\n",
      " 79   Equity to Long-term Liability                            6819 non-null   float64\n",
      " 80   Cash Flow to Total Assets                                6819 non-null   float64\n",
      " 81   Cash Flow to Liability                                   6819 non-null   float64\n",
      " 82   CFO to Assets                                            6819 non-null   float64\n",
      " 83   Cash Flow to Equity                                      6819 non-null   float64\n",
      " 84   Current Liability to Current Assets                      6819 non-null   float64\n",
      " 85   Liability-Assets Flag                                    6819 non-null   int64  \n",
      " 86   Net Income to Total Assets                               6819 non-null   float64\n",
      " 87   Total assets to GNP price                                6819 non-null   float64\n",
      " 88   No-credit Interval                                       6819 non-null   float64\n",
      " 89   Gross Profit to Sales                                    6819 non-null   float64\n",
      " 90   Net Income to Stockholder's Equity                       6819 non-null   float64\n",
      " 91   Liability to Equity                                      6819 non-null   float64\n",
      " 92   Degree of Financial Leverage (DFL)                       6819 non-null   float64\n",
      " 93   Interest Coverage Ratio (Interest expense to EBIT)       6819 non-null   float64\n",
      " 94   Net Income Flag                                          6819 non-null   int64  \n",
      " 95   Equity to Liability                                      6819 non-null   float64\n",
      "dtypes: float64(93), int64(3)\n",
      "memory usage: 5.0 MB\n"
     ]
    }
   ],
   "source": [
    "# Print the data set overview (dimensions, variable names, data types, null values)\n",
    "#data.describe()\n",
    "data.info()"
   ]
  },
  {
   "cell_type": "markdown",
   "metadata": {},
   "source": [
    "### Our ML setup\n",
    "To start our project we want to set up our data in the usual machine learning configuration: a training and a test set, each with its own feature matrix and target vector. To start:\n",
    "\n",
    "- Import the `train_test_split()` function from scikit learn\n",
    "- Declare a target vector y (corresponding to the `Bankrupt` column in the data set)\n",
    "- Declare a feature matrix X (including all columns except `Bankrupt`)\n",
    "- Create a training and test set\n",
    "- Print the dimensions of X and y in both the training and test set."
   ]
  },
  {
   "cell_type": "code",
   "execution_count": 5,
   "metadata": {},
   "outputs": [],
   "source": [
    "# Importing train-test split function\n",
    "from sklearn.model_selection import train_test_split"
   ]
  },
  {
   "cell_type": "code",
   "execution_count": 6,
   "metadata": {},
   "outputs": [],
   "source": [
    "# Declare the target vector y which has the column label 'Bankrupt'\n",
    "y = data.Bankrupt"
   ]
  },
  {
   "cell_type": "code",
   "execution_count": 7,
   "metadata": {},
   "outputs": [],
   "source": [
    "# Declare feature matrix\n",
    "X = data.drop(columns = 'Bankrupt') # feature matrix are the variable predictors of bankruptcy in our eyes"
   ]
  },
  {
   "cell_type": "code",
   "execution_count": 8,
   "metadata": {},
   "outputs": [],
   "source": [
    "# Create a train-test- split using random state 253, test_size 30%\n",
    "X_train, X_test, y_train, y_test = train_test_split(X, y, test_size=0.30, random_state=253)"
   ]
  },
  {
   "cell_type": "code",
   "execution_count": 9,
   "metadata": {},
   "outputs": [
    {
     "name": "stdout",
     "output_type": "stream",
     "text": [
      "X_train dimensions:  (4773, 95)\n",
      "y_train dimensions:  (4773,)\n"
     ]
    }
   ],
   "source": [
    "print('X_train dimensions: ', X_train.shape)\n",
    "print('y_train dimensions: ', y_train.shape)"
   ]
  },
  {
   "cell_type": "code",
   "execution_count": 10,
   "metadata": {},
   "outputs": [
    {
     "name": "stdout",
     "output_type": "stream",
     "text": [
      "X_test dimensions:  (2046, 95)\n",
      "y_test dimensions:  (2046,)\n"
     ]
    }
   ],
   "source": [
    "print('X_test dimensions: ', X_test.shape)\n",
    "print('y_test dimensions: ', y_test.shape)"
   ]
  },
  {
   "cell_type": "markdown",
   "metadata": {},
   "source": [
    "### Dimensionality reduction"
   ]
  },
  {
   "cell_type": "markdown",
   "metadata": {},
   "source": [
    "One problem that is immediately apparent is that we have a high number of features in our data. This constitutes a problem as capturing the complexities of a highly dimensional space through our model can lead us to **overfitting**. \n",
    "> This is known as the [Curse of Dimensionality](https://en.wikipedia.org/wiki/Curse_of_dimensionality#Machine_Learning) and is definitely a topic worth exploring further.\n",
    "\n",
    "\n",
    "In order to cope with the high dimensionality of our data we can employ several dimensionality reduction techniques. The first one we'll explore is called **Principal Component Analysis (PCA)** and for a more in-depth treatment of the subject be sure to refer [here](https://towardsdatascience.com/a-one-stop-shop-for-principal-component-analysis-5582fb7e0a9c). PCA essentially works by projecting our data points (which can be seen as vectors) into a lower dimensional space while maximizing the conserved variance of our data.\n",
    "\n",
    "Try out PCA on the training feature matrix `X_train` below:\n",
    "- Import the `PCA` class from the `sklearn.decomposition` module.\n",
    "- Decide on a number for `n_components`. This is going to be the new number of features.\n",
    "- Create a PCA transformer.\n",
    "- Train the transformer using the `.fit()` method.\n",
    "- Apply dimensionality reduction using the `.transform()` method.\n",
    "- Output the first five rows.\n",
    "\n",
    "> **Note:** The `.tranfrom()` method will return a NumPy array as opposed to a pandas DataFrame."
   ]
  },
  {
   "cell_type": "code",
   "execution_count": 11,
   "metadata": {},
   "outputs": [],
   "source": [
    "# Importing PCA class\n",
    "from sklearn.decomposition import PCA"
   ]
  },
  {
   "cell_type": "markdown",
   "metadata": {},
   "source": [
    "## Finding the optimal number of components for our PCA decomposition"
   ]
  },
  {
   "cell_type": "markdown",
   "metadata": {},
   "source": [
    "To find the optimal number of components..."
   ]
  },
  {
   "cell_type": "code",
   "execution_count": 12,
   "metadata": {},
   "outputs": [
    {
     "data": {
      "text/html": [
       "<style>#sk-container-id-1 {color: black;background-color: white;}#sk-container-id-1 pre{padding: 0;}#sk-container-id-1 div.sk-toggleable {background-color: white;}#sk-container-id-1 label.sk-toggleable__label {cursor: pointer;display: block;width: 100%;margin-bottom: 0;padding: 0.3em;box-sizing: border-box;text-align: center;}#sk-container-id-1 label.sk-toggleable__label-arrow:before {content: \"▸\";float: left;margin-right: 0.25em;color: #696969;}#sk-container-id-1 label.sk-toggleable__label-arrow:hover:before {color: black;}#sk-container-id-1 div.sk-estimator:hover label.sk-toggleable__label-arrow:before {color: black;}#sk-container-id-1 div.sk-toggleable__content {max-height: 0;max-width: 0;overflow: hidden;text-align: left;background-color: #f0f8ff;}#sk-container-id-1 div.sk-toggleable__content pre {margin: 0.2em;color: black;border-radius: 0.25em;background-color: #f0f8ff;}#sk-container-id-1 input.sk-toggleable__control:checked~div.sk-toggleable__content {max-height: 200px;max-width: 100%;overflow: auto;}#sk-container-id-1 input.sk-toggleable__control:checked~label.sk-toggleable__label-arrow:before {content: \"▾\";}#sk-container-id-1 div.sk-estimator input.sk-toggleable__control:checked~label.sk-toggleable__label {background-color: #d4ebff;}#sk-container-id-1 div.sk-label input.sk-toggleable__control:checked~label.sk-toggleable__label {background-color: #d4ebff;}#sk-container-id-1 input.sk-hidden--visually {border: 0;clip: rect(1px 1px 1px 1px);clip: rect(1px, 1px, 1px, 1px);height: 1px;margin: -1px;overflow: hidden;padding: 0;position: absolute;width: 1px;}#sk-container-id-1 div.sk-estimator {font-family: monospace;background-color: #f0f8ff;border: 1px dotted black;border-radius: 0.25em;box-sizing: border-box;margin-bottom: 0.5em;}#sk-container-id-1 div.sk-estimator:hover {background-color: #d4ebff;}#sk-container-id-1 div.sk-parallel-item::after {content: \"\";width: 100%;border-bottom: 1px solid gray;flex-grow: 1;}#sk-container-id-1 div.sk-label:hover label.sk-toggleable__label {background-color: #d4ebff;}#sk-container-id-1 div.sk-serial::before {content: \"\";position: absolute;border-left: 1px solid gray;box-sizing: border-box;top: 0;bottom: 0;left: 50%;z-index: 0;}#sk-container-id-1 div.sk-serial {display: flex;flex-direction: column;align-items: center;background-color: white;padding-right: 0.2em;padding-left: 0.2em;position: relative;}#sk-container-id-1 div.sk-item {position: relative;z-index: 1;}#sk-container-id-1 div.sk-parallel {display: flex;align-items: stretch;justify-content: center;background-color: white;position: relative;}#sk-container-id-1 div.sk-item::before, #sk-container-id-1 div.sk-parallel-item::before {content: \"\";position: absolute;border-left: 1px solid gray;box-sizing: border-box;top: 0;bottom: 0;left: 50%;z-index: -1;}#sk-container-id-1 div.sk-parallel-item {display: flex;flex-direction: column;z-index: 1;position: relative;background-color: white;}#sk-container-id-1 div.sk-parallel-item:first-child::after {align-self: flex-end;width: 50%;}#sk-container-id-1 div.sk-parallel-item:last-child::after {align-self: flex-start;width: 50%;}#sk-container-id-1 div.sk-parallel-item:only-child::after {width: 0;}#sk-container-id-1 div.sk-dashed-wrapped {border: 1px dashed gray;margin: 0 0.4em 0.5em 0.4em;box-sizing: border-box;padding-bottom: 0.4em;background-color: white;}#sk-container-id-1 div.sk-label label {font-family: monospace;font-weight: bold;display: inline-block;line-height: 1.2em;}#sk-container-id-1 div.sk-label-container {text-align: center;}#sk-container-id-1 div.sk-container {/* jupyter's `normalize.less` sets `[hidden] { display: none; }` but bootstrap.min.css set `[hidden] { display: none !important; }` so we also need the `!important` here to be able to override the default hidden behavior on the sphinx rendered scikit-learn.org. See: https://github.com/scikit-learn/scikit-learn/issues/21755 */display: inline-block !important;position: relative;}#sk-container-id-1 div.sk-text-repr-fallback {display: none;}</style><div id=\"sk-container-id-1\" class=\"sk-top-container\"><div class=\"sk-text-repr-fallback\"><pre>PCA(n_components=95)</pre><b>In a Jupyter environment, please rerun this cell to show the HTML representation or trust the notebook. <br />On GitHub, the HTML representation is unable to render, please try loading this page with nbviewer.org.</b></div><div class=\"sk-container\" hidden><div class=\"sk-item\"><div class=\"sk-estimator sk-toggleable\"><input class=\"sk-toggleable__control sk-hidden--visually\" id=\"sk-estimator-id-1\" type=\"checkbox\" checked><label for=\"sk-estimator-id-1\" class=\"sk-toggleable__label sk-toggleable__label-arrow\">PCA</label><div class=\"sk-toggleable__content\"><pre>PCA(n_components=95)</pre></div></div></div></div></div>"
      ],
      "text/plain": [
       "PCA(n_components=95)"
      ]
     },
     "execution_count": 12,
     "metadata": {},
     "output_type": "execute_result"
    }
   ],
   "source": [
    "covar_matrix = PCA(n_components = X_train.shape[1])\n",
    "covar_matrix.fit(X_train)\n"
   ]
  },
  {
   "cell_type": "code",
   "execution_count": 13,
   "metadata": {},
   "outputs": [
    {
     "data": {
      "text/plain": [
       "Text(0.5, 1.0, 'Scree Plot')"
      ]
     },
     "execution_count": 13,
     "metadata": {},
     "output_type": "execute_result"
    },
    {
     "data": {
      "image/png": "[encoded data removed]",
      "text/plain": [
       "<Figure size 640x480 with 1 Axes>"
      ]
     },
     "metadata": {},
     "output_type": "display_data"
    }
   ],
   "source": [
    "plt.plot(covar_matrix.explained_variance_, marker='o')\n",
    "#plt.plot(np.cumsum(covar_matrix.explained_variance_), marker='x')\n",
    "plt.xlim(0,16)\n",
    "plt.xlabel(\"Eigenvalue number\")\n",
    "plt.ylabel(\"Eigenvalue size\")\n",
    "plt.title(\"Scree Plot\")"
   ]
  },
  {
   "cell_type": "markdown",
   "metadata": {},
   "source": [
    "From the Scree plot, we can identify a large drop in expected variance in at the 8th index. We should therefore select 8 as the number of components for our model."
   ]
  },
  {
   "cell_type": "code",
   "execution_count": 14,
   "metadata": {},
   "outputs": [
    {
     "data": {
      "image/png": "[encoded data removed]",
      "text/plain": [
       "<Figure size 640x480 with 1 Axes>"
      ]
     },
     "metadata": {},
     "output_type": "display_data"
    }
   ],
   "source": [
    "exp_var = covar_matrix.explained_variance_\n",
    "exp_var_cum = np.cumsum(exp_var)\n",
    "\n",
    "plt.bar(range(1, 96), exp_var, align='center',\n",
    "        label='Individual explained variance')\n",
    "\n",
    "plt.step(range(1, 96), exp_var_cum, where='mid',\n",
    "         label='Cumulative explained variance', color='red')\n",
    "\n",
    "plt.ylabel('Explained variance percentage')\n",
    "plt.xlabel('Principal component index')\n",
    "plt.xlim(0,16)\n",
    "plt.title('Visualisation with culmulative explained variance')\n",
    "plt.legend(loc='best')\n",
    "plt.tight_layout()\n",
    "\n",
    "plt.savefig(\"Barplot.png\")\n"
   ]
  },
  {
   "cell_type": "code",
   "execution_count": 15,
   "metadata": {},
   "outputs": [],
   "source": [
    "# Create PCA transformer that keeps 30 components \n",
    "pca30 = PCA(n_components = 30)"
   ]
  },
  {
   "cell_type": "code",
   "execution_count": 16,
   "metadata": {
    "tags": []
   },
   "outputs": [
    {
     "name": "stdout",
     "output_type": "stream",
     "text": [
      "(4773, 95)\n",
      "(4773, 30)\n"
     ]
    },
    {
     "data": {
      "text/html": [
       "<div>\n",
       "<style scoped>\n",
       "    .dataframe tbody tr th:only-of-type {\n",
       "        vertical-align: middle;\n",
       "    }\n",
       "\n",
       "    .dataframe tbody tr th {\n",
       "        vertical-align: top;\n",
       "    }\n",
       "\n",
       "    .dataframe thead th {\n",
       "        text-align: right;\n",
       "    }\n",
       "</style>\n",
       "<table border=\"1\" class=\"dataframe\">\n",
       "  <thead>\n",
       "    <tr style=\"text-align: right;\">\n",
       "      <th></th>\n",
       "      <th>0</th>\n",
       "      <th>1</th>\n",
       "      <th>2</th>\n",
       "      <th>3</th>\n",
       "      <th>4</th>\n",
       "      <th>5</th>\n",
       "      <th>6</th>\n",
       "      <th>7</th>\n",
       "      <th>8</th>\n",
       "      <th>9</th>\n",
       "      <th>...</th>\n",
       "      <th>20</th>\n",
       "      <th>21</th>\n",
       "      <th>22</th>\n",
       "      <th>23</th>\n",
       "      <th>24</th>\n",
       "      <th>25</th>\n",
       "      <th>26</th>\n",
       "      <th>27</th>\n",
       "      <th>28</th>\n",
       "      <th>29</th>\n",
       "    </tr>\n",
       "  </thead>\n",
       "  <tbody>\n",
       "    <tr>\n",
       "      <th>0</th>\n",
       "      <td>-2.523242e+09</td>\n",
       "      <td>-1.918231e+09</td>\n",
       "      <td>-1.232079e+09</td>\n",
       "      <td>-1.776376e+09</td>\n",
       "      <td>-2.241226e+09</td>\n",
       "      <td>-2.137455e+09</td>\n",
       "      <td>-1.284218e+09</td>\n",
       "      <td>-4.522613e+08</td>\n",
       "      <td>-1.019373e+08</td>\n",
       "      <td>-5.526863e+07</td>\n",
       "      <td>...</td>\n",
       "      <td>5.990670e+08</td>\n",
       "      <td>-9.863251e+05</td>\n",
       "      <td>-1.488518e+06</td>\n",
       "      <td>0.021262</td>\n",
       "      <td>-0.388106</td>\n",
       "      <td>0.039452</td>\n",
       "      <td>-0.105008</td>\n",
       "      <td>-0.000646</td>\n",
       "      <td>0.046449</td>\n",
       "      <td>0.058511</td>\n",
       "    </tr>\n",
       "    <tr>\n",
       "      <th>1</th>\n",
       "      <td>-3.190167e+09</td>\n",
       "      <td>-2.229378e+09</td>\n",
       "      <td>-1.542280e+09</td>\n",
       "      <td>-1.132694e+09</td>\n",
       "      <td>-3.550784e+09</td>\n",
       "      <td>-9.206884e+08</td>\n",
       "      <td>4.735889e+09</td>\n",
       "      <td>-7.588887e+08</td>\n",
       "      <td>-1.324696e+08</td>\n",
       "      <td>-8.904601e+06</td>\n",
       "      <td>...</td>\n",
       "      <td>-5.230878e+06</td>\n",
       "      <td>-1.021334e+06</td>\n",
       "      <td>-1.433085e+06</td>\n",
       "      <td>-0.309381</td>\n",
       "      <td>-0.336137</td>\n",
       "      <td>-0.021756</td>\n",
       "      <td>-0.073706</td>\n",
       "      <td>-0.018795</td>\n",
       "      <td>-0.031770</td>\n",
       "      <td>0.026735</td>\n",
       "    </tr>\n",
       "    <tr>\n",
       "      <th>2</th>\n",
       "      <td>3.923038e+08</td>\n",
       "      <td>-1.977646e+09</td>\n",
       "      <td>2.672523e+09</td>\n",
       "      <td>-3.915985e+09</td>\n",
       "      <td>1.047293e+09</td>\n",
       "      <td>-3.084126e+09</td>\n",
       "      <td>-3.835881e+08</td>\n",
       "      <td>-1.973793e+08</td>\n",
       "      <td>-7.613600e+07</td>\n",
       "      <td>-3.861154e+07</td>\n",
       "      <td>...</td>\n",
       "      <td>-1.456694e+07</td>\n",
       "      <td>-4.647027e+05</td>\n",
       "      <td>-1.496466e+06</td>\n",
       "      <td>-0.373196</td>\n",
       "      <td>0.290911</td>\n",
       "      <td>-0.039027</td>\n",
       "      <td>0.134702</td>\n",
       "      <td>0.152493</td>\n",
       "      <td>-0.015098</td>\n",
       "      <td>0.055837</td>\n",
       "    </tr>\n",
       "    <tr>\n",
       "      <th>3</th>\n",
       "      <td>2.002011e+09</td>\n",
       "      <td>4.168241e+09</td>\n",
       "      <td>-1.769392e+09</td>\n",
       "      <td>9.539553e+08</td>\n",
       "      <td>-3.003403e+09</td>\n",
       "      <td>2.583991e+09</td>\n",
       "      <td>-1.937712e+09</td>\n",
       "      <td>-4.011079e+09</td>\n",
       "      <td>-1.151520e+07</td>\n",
       "      <td>-7.186522e+07</td>\n",
       "      <td>...</td>\n",
       "      <td>-1.115475e+07</td>\n",
       "      <td>-8.677484e+05</td>\n",
       "      <td>-1.694474e+05</td>\n",
       "      <td>-0.091082</td>\n",
       "      <td>-0.308278</td>\n",
       "      <td>0.126774</td>\n",
       "      <td>0.032384</td>\n",
       "      <td>0.124902</td>\n",
       "      <td>0.021413</td>\n",
       "      <td>-0.095182</td>\n",
       "    </tr>\n",
       "    <tr>\n",
       "      <th>4</th>\n",
       "      <td>-1.895548e+09</td>\n",
       "      <td>-2.092054e+09</td>\n",
       "      <td>-1.279104e+09</td>\n",
       "      <td>-5.940138e+08</td>\n",
       "      <td>9.752376e+08</td>\n",
       "      <td>-2.481735e+09</td>\n",
       "      <td>-6.981636e+08</td>\n",
       "      <td>-3.100633e+08</td>\n",
       "      <td>-9.929031e+07</td>\n",
       "      <td>-3.954471e+07</td>\n",
       "      <td>...</td>\n",
       "      <td>-1.818691e+07</td>\n",
       "      <td>-1.373497e+06</td>\n",
       "      <td>-1.614229e+06</td>\n",
       "      <td>-0.168585</td>\n",
       "      <td>-0.031901</td>\n",
       "      <td>-0.240893</td>\n",
       "      <td>-0.036218</td>\n",
       "      <td>0.024268</td>\n",
       "      <td>-0.071079</td>\n",
       "      <td>0.135636</td>\n",
       "    </tr>\n",
       "  </tbody>\n",
       "</table>\n",
       "<p>5 rows × 30 columns</p>\n",
       "</div>"
      ],
      "text/plain": [
       "             0             1             2             3             4   \\\n",
       "0 -2.523242e+09 -1.918231e+09 -1.232079e+09 -1.776376e+09 -2.241226e+09   \n",
       "1 -3.190167e+09 -2.229378e+09 -1.542280e+09 -1.132694e+09 -3.550784e+09   \n",
       "2  3.923038e+08 -1.977646e+09  2.672523e+09 -3.915985e+09  1.047293e+09   \n",
       "3  2.002011e+09  4.168241e+09 -1.769392e+09  9.539553e+08 -3.003403e+09   \n",
       "4 -1.895548e+09 -2.092054e+09 -1.279104e+09 -5.940138e+08  9.752376e+08   \n",
       "\n",
       "             5             6             7             8             9   ...  \\\n",
       "0 -2.137455e+09 -1.284218e+09 -4.522613e+08 -1.019373e+08 -5.526863e+07  ...   \n",
       "1 -9.206884e+08  4.735889e+09 -7.588887e+08 -1.324696e+08 -8.904601e+06  ...   \n",
       "2 -3.084126e+09 -3.835881e+08 -1.973793e+08 -7.613600e+07 -3.861154e+07  ...   \n",
       "3  2.583991e+09 -1.937712e+09 -4.011079e+09 -1.151520e+07 -7.186522e+07  ...   \n",
       "4 -2.481735e+09 -6.981636e+08 -3.100633e+08 -9.929031e+07 -3.954471e+07  ...   \n",
       "\n",
       "             20            21            22        23        24        25  \\\n",
       "0  5.990670e+08 -9.863251e+05 -1.488518e+06  0.021262 -0.388106  0.039452   \n",
       "1 -5.230878e+06 -1.021334e+06 -1.433085e+06 -0.309381 -0.336137 -0.021756   \n",
       "2 -1.456694e+07 -4.647027e+05 -1.496466e+06 -0.373196  0.290911 -0.039027   \n",
       "3 -1.115475e+07 -8.677484e+05 -1.694474e+05 -0.091082 -0.308278  0.126774   \n",
       "4 -1.818691e+07 -1.373497e+06 -1.614229e+06 -0.168585 -0.031901 -0.240893   \n",
       "\n",
       "         26        27        28        29  \n",
       "0 -0.105008 -0.000646  0.046449  0.058511  \n",
       "1 -0.073706 -0.018795 -0.031770  0.026735  \n",
       "2  0.134702  0.152493 -0.015098  0.055837  \n",
       "3  0.032384  0.124902  0.021413 -0.095182  \n",
       "4 -0.036218  0.024268 -0.071079  0.135636  \n",
       "\n",
       "[5 rows x 30 columns]"
      ]
     },
     "execution_count": 16,
     "metadata": {},
     "output_type": "execute_result"
    }
   ],
   "source": [
    "# Fit and transform using our PCA model\n",
    "pca30.fit(X_train) # fits it to xtrain\n",
    "print(X_train.shape)\n",
    "X_red = pca30.transform(X_train) # transforms into the lower dimension\n",
    "print(X_red.shape)\n",
    "pd.DataFrame(X_red).head()"
   ]
  },
  {
   "cell_type": "markdown",
   "metadata": {},
   "source": [
    "### Pipelines"
   ]
  },
  {
   "cell_type": "markdown",
   "metadata": {},
   "source": [
    "You might've noticed that most machine learning with scikit learn involves:\n",
    "- Instantiating a transformer or model.\n",
    "- Fitting this to our data using `.fit()`.\n",
    "- Transforming or predicting using `.transform()` or `.predict()`.\n",
    "\n",
    "This simple, general process means that we can simplify our ML process using **Pipelines**. A Pipeline allows you to establish a sequence of transformations terminating with *one estimator*. Pipelines can then be treated as any other scikit learn estimator, but each time they perform all of the interim transformation steps in the sequence. This has the benefit of greatly simplifying your code and can also help prevent [data leakage](https://machinelearningmastery.com/data-leakage-machine-learning/). \n",
    "\n",
    "To instantiate a Pipeline you must pass as an argument a list of $n+1$ tuples (where $n$ is the number of transforms) in the form: `[('transformer_1_name', transformer_1), ..., ('estimator_name', estimator)]`.\n",
    "\n",
    "We will now create Pipelines for a KNN, SVM, and Logistic Regression model below:\n",
    "- Import the `StandardScaler`, `KNeighborsClassifier`, `SVC`, and `LogisticRegression` classes from scikit learn.\n",
    "- Import the `Pipeline` class from scikit learn.\n",
    "- For each one of the three models, create a Pipeline with the following transforms (in order): scaling, PCA, estimator."
   ]
  },
  {
   "cell_type": "code",
   "execution_count": 17,
   "metadata": {},
   "outputs": [],
   "source": [
    "# Importing StandardScaler\n",
    "from sklearn.preprocessing import StandardScaler"
   ]
  },
  {
   "cell_type": "code",
   "execution_count": 18,
   "metadata": {},
   "outputs": [],
   "source": [
    "# Importing KNN, SVM, and Logistic Regression models \n",
    "from sklearn.neighbors import KNeighborsClassifier\n",
    "from sklearn.svm import SVC\n",
    "from sklearn.linear_model import LogisticRegression"
   ]
  },
  {
   "cell_type": "code",
   "execution_count": 19,
   "metadata": {},
   "outputs": [],
   "source": [
    "from sklearn.pipeline import Pipeline"
   ]
  },
  {
   "cell_type": "code",
   "execution_count": 20,
   "metadata": {},
   "outputs": [],
   "source": [
    "# Combine these into three Pipelines, one for each model\n",
    "knn_pipe = Pipeline([('Scaler', StandardScaler()), \n",
    "                     ('PCA', PCA(n_components=30)), \n",
    "                     ('Model', KNeighborsClassifier())])\n",
    "\n",
    "svm_pipe = Pipeline([('Scaler', StandardScaler()), \n",
    "                     ('PCA', PCA(n_components=30)), \n",
    "                     ('Model', SVC())])\n",
    "\n",
    "log_reg_pipe = Pipeline([('Scaler', StandardScaler()), \n",
    "                         ('PCA', PCA(n_components=30)), \n",
    "                         ('Model', LogisticRegression())])"
   ]
  },
  {
   "cell_type": "code",
   "execution_count": 21,
   "metadata": {},
   "outputs": [],
   "source": [
    "# Creating pipelines for the data's optimised PCA value of 8\n",
    "knn_pipePCO = Pipeline([('Scaler', StandardScaler()), \n",
    "                     ('PCA', PCA(n_components=8)), \n",
    "                     ('Model', KNeighborsClassifier())])\n",
    "\n",
    "svm_pipePCO = Pipeline([('Scaler', StandardScaler()), \n",
    "                     ('PCA', PCA(n_components=8)), \n",
    "                     ('Model', SVC())])\n",
    "\n",
    "log_reg_pipePCO = Pipeline([('Scaler', StandardScaler()), \n",
    "                         ('PCA', PCA(n_components=8)), \n",
    "                         ('Model', LogisticRegression())])"
   ]
  },
  {
   "cell_type": "markdown",
   "metadata": {},
   "source": [
    "### Alternative evaluation metrics"
   ]
  },
  {
   "cell_type": "markdown",
   "metadata": {},
   "source": [
    "During Session Five, you were introduced to Accuracy as an evaluation metric for classification model. As a reminder, accuracy is defined as follows:\n",
    "$$ \\text{Accuracy} = \\frac{TP+TN}{TP+FP+TN+FN}$$\n",
    "In other words, it is the ratio of correctly classified samples to the overall number of samples. We're now gonna compute accuracy for our three models. To do this, we use the `cross_val_score()` function from scikit learn (for documentation, see [here](https://scikit-learn.org/stable/modules/generated/sklearn.model_selection.cross_val_score.html?highlight=cross_val_score#sklearn.model_selection.cross_val_score)). This function calculates the average score (taking accuracy as the default metric for classification models) after carrying out K-fold cross validation, which we prefer in order to reduce bias and thus get a more 'realistic' estimate of our model's performance. \n",
    "\n",
    "To start out, print the average accuracy score for each of our models:\n",
    "- Import the `cross_val_score()` function from scikit learn.\n",
    "- Calculate the cross-validated scores for each pipeline estimator.\n",
    "- Print the mean score for each pipeline estimator."
   ]
  },
  {
   "cell_type": "code",
   "execution_count": 22,
   "metadata": {},
   "outputs": [],
   "source": [
    "# Importing cross_val_score\n",
    "from sklearn.model_selection import cross_val_score"
   ]
  },
  {
   "cell_type": "code",
   "execution_count": 23,
   "metadata": {},
   "outputs": [],
   "source": [
    "# Calculating mean cross-validated scores\n",
    "knn_score = cross_val_score(knn_pipe, X_train, y_train).mean()\n",
    "svm_score = cross_val_score(svm_pipe, X_train, y_train).mean()\n",
    "log_reg_score = cross_val_score(log_reg_pipe, X_train, y_train).mean()\n",
    "\n",
    "knnPCO_score = cross_val_score(knn_pipePCO, X_train, y_train).mean()\n",
    "svmPCO_score = cross_val_score(svm_pipePCO, X_train, y_train).mean()\n",
    "log_regPCO_score = cross_val_score(log_reg_pipePCO, X_train, y_train).mean()"
   ]
  },
  {
   "cell_type": "code",
   "execution_count": 24,
   "metadata": {},
   "outputs": [
    {
     "name": "stdout",
     "output_type": "stream",
     "text": [
      "KNN Accuracy Score:\n",
      "0.963963691044596\n",
      "KNN PCA optimised Accuracy Score:\n",
      "0.9635446233549562\n",
      "relative improvement:\n",
      "-0.04347338945782482 %\n"
     ]
    }
   ],
   "source": [
    "print('KNN Accuracy Score:')\n",
    "print(knn_score)\n",
    "print('KNN PCA optimised Accuracy Score:')\n",
    "print(knnPCO_score)\n",
    "print('relative improvement:')\n",
    "print(100*(knnPCO_score-knn_score)/knn_score,'%')"
   ]
  },
  {
   "cell_type": "code",
   "execution_count": 25,
   "metadata": {},
   "outputs": [
    {
     "name": "stdout",
     "output_type": "stream",
     "text": [
      "SVM Accuracy Score:\n",
      "0.9677348612071521\n",
      "SVM PCA optimised Accuracy Score:\n",
      "0.9675254371233825\n",
      "relative improvement:\n",
      "-0.021640646851187727 %\n"
     ]
    }
   ],
   "source": [
    "print('SVM Accuracy Score:')\n",
    "print(svm_score)\n",
    "print('SVM PCA optimised Accuracy Score:')\n",
    "print(svmPCO_score)\n",
    "print('relative improvement:')\n",
    "print(100*(svmPCO_score-svm_score)/svm_score,'%')"
   ]
  },
  {
   "cell_type": "code",
   "execution_count": 26,
   "metadata": {},
   "outputs": [
    {
     "name": "stdout",
     "output_type": "stream",
     "text": [
      "Logistic Regression Accuracy Score:\n",
      "0.9652206745914145\n",
      "Logistic Regression PCA optimised Accuracy Score:\n",
      "0.9671059303895418\n",
      "relative improvement:\n",
      "0.19531863000400565 %\n"
     ]
    }
   ],
   "source": [
    "print('Logistic Regression Accuracy Score:')\n",
    "print(log_reg_score)\n",
    "print('Logistic Regression PCA optimised Accuracy Score:')\n",
    "print(log_regPCO_score)\n",
    "print('relative improvement:')\n",
    "print(100*(log_regPCO_score-log_reg_score)/log_reg_score,'%')"
   ]
  },
  {
   "cell_type": "markdown",
   "metadata": {},
   "source": [
    "# Graphical representation"
   ]
  },
  {
   "cell_type": "code",
   "execution_count": 27,
   "metadata": {},
   "outputs": [
    {
     "data": {
      "image/png": "[encoded data removed]",
      "text/plain": [
       "<Figure size 640x480 with 1 Axes>"
      ]
     },
     "metadata": {},
     "output_type": "display_data"
    }
   ],
   "source": [
    "\"\"\"\n",
    "========\n",
    "Barchart\n",
    "========\n",
    "\n",
    "A bar plot with errorbars and height labels on individual bars\n",
    "\"\"\"\n",
    "\n",
    "N = 3\n",
    "original_scores = (knn_score,svm_score, log_reg_score)\n",
    "\n",
    "\n",
    "ind = np.arange(N)  # the x locations for the groups\n",
    "width = 0.2       # the width of the bars\n",
    "\n",
    "fig, ax = plt.subplots()\n",
    "rects1 = ax.bar(ind, original_scores, width, color='r')\n",
    "\n",
    "optimised_scores = (knnPCO_score,svmPCO_score, log_regPCO_score)\n",
    "\n",
    "rects2 = ax.bar(ind + width, optimised_scores, width, color='g')\n",
    "\n",
    "# add some text for labels, title and axes ticks\n",
    "ax.set_ylabel('Accuracy scores')\n",
    "ax.set_title('Accuracy scores by method and PCA component number')\n",
    "ax.set_xticks(ind + width / 2)\n",
    "ax.set_xticklabels(('KNN', 'SVM', 'Logistic Regression'))\n",
    "plt.ylim(0.7,1)\n",
    "\n",
    "ax.legend((rects1[0], rects2[0]), ('n_components = 30', 'n_components = 8'))\n",
    "plt.show()"
   ]
  },
  {
   "cell_type": "markdown",
   "metadata": {},
   "source": [
    "the above graphic shows no significant change in accuracy for the optmisation of PCA component number. This may be down to several factors\n",
    "\n",
    "The dataset is not large enough in dimenensions for the 30 features to influence the machine learning algorithms in a meaningful way.\n",
    "\n",
    "The dataset doesnt have enough entries for processing time to be a large factor (PCA may be a tool to save computational power)\n",
    "\n",
    "..."
   ]
  },
  {
   "cell_type": "markdown",
   "metadata": {
    "tags": []
   },
   "source": [
    "## Alternative dimensionality reduction with tSNE"
   ]
  },
  {
   "cell_type": "code",
   "execution_count": 28,
   "metadata": {},
   "outputs": [],
   "source": [
    "from sklearn.manifold import TSNE"
   ]
  },
  {
   "cell_type": "markdown",
   "metadata": {},
   "source": [
    "NB:\n",
    "\n",
    "t-SNE doesn't work with pipelines as we don't refit t-SNE on the testing set - it is a tool to transform the whole dataset.\n",
    "This also means that is it incompatible cross validation for a dataset."
   ]
  },
  {
   "cell_type": "code",
   "execution_count": 29,
   "metadata": {},
   "outputs": [],
   "source": [
    "#Scale data\n",
    "scaler = StandardScaler()\n",
    "X = data.drop(columns = 'Bankrupt')\n",
    "X_scaled = scaler.fit_transform(X)\n",
    "#fit and tranasform with t-SNE\n",
    "X_scaled_embedded = TSNE(n_components=2, learning_rate='auto', init='random', perplexity=90.0,random_state = 10).fit_transform(X_scaled)"
   ]
  },
  {
   "cell_type": "markdown",
   "metadata": {},
   "source": [
    "X_scaled_embedded is our new feature matrix"
   ]
  },
  {
   "cell_type": "code",
   "execution_count": 30,
   "metadata": {},
   "outputs": [],
   "source": [
    "# Declare the target vector y\n",
    "y = data.Bankrupt"
   ]
  },
  {
   "cell_type": "code",
   "execution_count": 31,
   "metadata": {},
   "outputs": [],
   "source": [
    "# Create a train-test- split using random state 253, test_size 30%\n",
    "Xs_train, Xs_test, ys_train, ys_test = train_test_split(X_scaled_embedded, y, test_size=0.30, random_state=253)"
   ]
  },
  {
   "cell_type": "code",
   "execution_count": 32,
   "metadata": {},
   "outputs": [
    {
     "name": "stdout",
     "output_type": "stream",
     "text": [
      "X_train dimensions:  (4773, 2)\n",
      "y_train dimensions:  (4773,)\n"
     ]
    }
   ],
   "source": [
    "print('X_train dimensions: ', Xs_train.shape)\n",
    "print('y_train dimensions: ', ys_train.shape)"
   ]
  },
  {
   "cell_type": "code",
   "execution_count": 33,
   "metadata": {},
   "outputs": [
    {
     "name": "stdout",
     "output_type": "stream",
     "text": [
      "X_test dimensions:  (2046, 2)\n",
      "y_test dimensions:  (2046,)\n"
     ]
    }
   ],
   "source": [
    "print('X_test dimensions: ', Xs_test.shape)\n",
    "print('y_test dimensions: ', ys_test.shape)"
   ]
  },
  {
   "cell_type": "code",
   "execution_count": 34,
   "metadata": {},
   "outputs": [],
   "source": [
    "#cross validation\n",
    "knn_score_emb = cross_val_score(KNeighborsClassifier(), Xs_train, ys_train).mean()\n",
    "svm_score_emb = cross_val_score(SVC(), Xs_train, ys_train).mean()\n",
    "log_reg_score_emb = cross_val_score(LogisticRegression(), Xs_train, ys_train).mean()"
   ]
  },
  {
   "cell_type": "code",
   "execution_count": 87,
   "metadata": {},
   "outputs": [
    {
     "name": "stdout",
     "output_type": "stream",
     "text": [
      "KNN Accuracy Score:\n",
      "0.963963691044596\n",
      "KNN PCA optimised Accuracy Score:\n",
      "0.9635446233549562\n",
      "KNN t-SNE Accuracy Score:\n",
      "0.9650105919413438\n"
     ]
    }
   ],
   "source": [
    "print('KNN Accuracy Score:')\n",
    "print(knn_score)\n",
    "print('KNN PCA optimised Accuracy Score:')\n",
    "print(knnPCO_score)\n",
    "print('KNN t-SNE Accuracy Score:')\n",
    "print(knn_score_emb)"
   ]
  },
  {
   "cell_type": "code",
   "execution_count": 36,
   "metadata": {},
   "outputs": [
    {
     "name": "stdout",
     "output_type": "stream",
     "text": [
      "KNN Accuracy Score:\n",
      "0.963963691044596\n",
      "KNN PCA optimised Accuracy Score:\n",
      "0.9635446233549562\n",
      "KNN t-SNE Accuracy Score:\n",
      "0.9650105919413438\n"
     ]
    }
   ],
   "source": [
    "print('KNN Accuracy Score:')\n",
    "print(knn_score)\n",
    "print('KNN PCA optimised Accuracy Score:')\n",
    "print(knnPCO_score)\n",
    "print('KNN t-SNE Accuracy Score:')\n",
    "print(knn_score_emb)"
   ]
  },
  {
   "cell_type": "code",
   "execution_count": 37,
   "metadata": {},
   "outputs": [
    {
     "name": "stdout",
     "output_type": "stream",
     "text": [
      "SVM Accuracy Score:\n",
      "0.9677348612071521\n",
      "SVM PCA optimised Accuracy Score:\n",
      "0.9675254371233825\n",
      "SVM t-SNE Accuracy Score:\n",
      "0.9675256566454828\n"
     ]
    }
   ],
   "source": [
    "print('SVM Accuracy Score:')\n",
    "print(svm_score)\n",
    "print('SVM PCA optimised Accuracy Score:')\n",
    "print(svmPCO_score)\n",
    "print('SVM t-SNE Accuracy Score:')\n",
    "print(svm_score_emb)"
   ]
  },
  {
   "cell_type": "code",
   "execution_count": 38,
   "metadata": {},
   "outputs": [
    {
     "name": "stdout",
     "output_type": "stream",
     "text": [
      "Logistic regression Accuracy Score:\n",
      "0.9652206745914145\n",
      "Logistic regression PCA optimised Accuracy Score:\n",
      "0.9671059303895418\n",
      "Logistic regression t-SNE Accuracy Score:\n",
      "0.9675256566454828\n"
     ]
    }
   ],
   "source": [
    "print('Logistic regression Accuracy Score:')\n",
    "print(log_reg_score)\n",
    "print('Logistic regression PCA optimised Accuracy Score:')\n",
    "print(log_regPCO_score)\n",
    "print('Logistic regression t-SNE Accuracy Score:')\n",
    "print(log_reg_score_emb)"
   ]
  },
  {
   "cell_type": "markdown",
   "metadata": {},
   "source": [
    "t-SNE doesn't seem to give a large improvement over pca, however as preprocessing of the data, . This may be due to the simplicity of the dataset"
   ]
  },
  {
   "cell_type": "markdown",
   "metadata": {},
   "source": [
    "Although accuracy is a good starting point to illustrate our model's predictive performance, it does come with some caveats. This is perhaps better illustrated by an example:\n",
    "\n",
    ">**Example:**\n",
    ">\n",
    "> *Imagine if I told you I can build a machine learning model that predicts whether or not an applicant is admitted into Harvard with 96.4% accuracy. Sounds good right! Now what if I told you the model works by predicting `NOT_ACCEPTED` to every applicant, irrespective of any data observed. This works as Harvard has a 4.6% admissions rate, but is our model any good?*  \n",
    "\n",
    "Often, we must consider using other metrics in classification. The best way to start out is by analysing how true positives/negatives are distributed among classes. We can do this through a confusion matrix, which represents this distribution in the following form:\n",
    "\n",
    "\n",
    "<img src='https://miro.medium.com/max/2102/1*fxiTNIgOyvAombPJx5KGeA.png' width=\"450\" height=\"400\">\n",
    "\n",
    "\n",
    "To output the confusion matrix of our predictions, we use the `confusion_matrix()` function from scikit learn (for documentation, see [here](https://scikit-learn.org/stable/modules/generated/sklearn.metrics.confusion_matrix.html?highlight=confusion#sklearn.metrics.confusion_matrix)). Try outputting the confussion matrix for all three of our model predictions:\n",
    "\n",
    "- Import the `confusion_matrix()` function from scikit learn.\n",
    "- Further separate the training set into training and validation sets using `train_test_split()` (suggested`test_size=0.2`).\n",
    "- Fit all pipeline estimators on the training set and predict on the validation set.\n",
    "- For each estimator's predictions, print the confusion matrix generated with `confusion_matrix()` by passing both `y_val` and `y_pred`. "
   ]
  },
  {
   "cell_type": "code",
   "execution_count": 39,
   "metadata": {},
   "outputs": [],
   "source": [
    "# Importing confusion matrix\n",
    "from sklearn.metrics import confusion_matrix"
   ]
  },
  {
   "cell_type": "code",
   "execution_count": 40,
   "metadata": {},
   "outputs": [],
   "source": [
    "# Create validation sample\n",
    "X_train, X_val, y_train, y_val = train_test_split(X_train, y_train, test_size=0.2, random_state=253)"
   ]
  },
  {
   "cell_type": "code",
   "execution_count": 41,
   "metadata": {},
   "outputs": [],
   "source": [
    "# Create validation sample\n",
    "Xs_train, Xs_val, ys_train, ys_val = train_test_split(Xs_train, ys_train, test_size=0.2, random_state=253)"
   ]
  },
  {
   "cell_type": "code",
   "execution_count": 42,
   "metadata": {},
   "outputs": [
    {
     "name": "stdout",
     "output_type": "stream",
     "text": [
      "X_train dimensions:  (3818, 95)\n",
      "y_train dimensions:  (3818,)\n",
      "Xs_train dimensions:  (3818, 2)\n",
      "ys_train dimensions:  (3818,)\n"
     ]
    }
   ],
   "source": [
    "print('X_train dimensions: ', X_train.shape)\n",
    "print('y_train dimensions: ', y_train.shape)\n",
    "print('Xs_train dimensions: ', Xs_train.shape)\n",
    "print('ys_train dimensions: ', ys_train.shape)"
   ]
  },
  {
   "cell_type": "code",
   "execution_count": 43,
   "metadata": {},
   "outputs": [
    {
     "name": "stdout",
     "output_type": "stream",
     "text": [
      "X_val dimensions:  (955, 95)\n",
      "y_val dimensions:  (955,)\n",
      "Xs_val dimensions:  (955, 2)\n",
      "ys_val dimensions:  (955,)\n"
     ]
    }
   ],
   "source": [
    "print('X_val dimensions: ', X_val.shape)\n",
    "print('y_val dimensions: ', y_val.shape)\n",
    "print('Xs_val dimensions: ', Xs_val.shape)\n",
    "print('ys_val dimensions: ', ys_val.shape)"
   ]
  },
  {
   "cell_type": "code",
   "execution_count": 44,
   "metadata": {},
   "outputs": [
    {
     "name": "stdout",
     "output_type": "stream",
     "text": [
      "KNN Confusion Matrix:\n",
      "[[915   5]\n",
      " [ 32   3]]\n"
     ]
    }
   ],
   "source": [
    "# Fit and predict KNN pipeline\n",
    "knn_pipe.fit(X_train, y_train)\n",
    "y_pred = knn_pipe.predict(X_val)\n",
    "print('KNN Confusion Matrix:')\n",
    "print(confusion_matrix(y_val, y_pred))"
   ]
  },
  {
   "cell_type": "code",
   "execution_count": 45,
   "metadata": {},
   "outputs": [
    {
     "name": "stdout",
     "output_type": "stream",
     "text": [
      "KNN on tSNE Confusion Matrix:\n",
      "[[912   8]\n",
      " [ 27   8]]\n"
     ]
    }
   ],
   "source": [
    "# Fit and predict KNN with t-SNE\n",
    "knn = KNeighborsClassifier()\n",
    "knn.fit(Xs_train, ys_train)\n",
    "ys_pred = knn.predict(Xs_val)\n",
    "print('KNN on tSNE Confusion Matrix:')\n",
    "print(confusion_matrix(ys_val, ys_pred))"
   ]
  },
  {
   "cell_type": "code",
   "execution_count": 46,
   "metadata": {},
   "outputs": [
    {
     "name": "stdout",
     "output_type": "stream",
     "text": [
      "Logisitic Regression Confusion Matrix:\n",
      "[[920   0]\n",
      " [ 34   1]]\n"
     ]
    }
   ],
   "source": [
    "svm_pipe.fit(X_train,y_train)\n",
    "y_pred = svm_pipe.predict(X_val)\n",
    "print('Logisitic Regression Confusion Matrix:')\n",
    "print(confusion_matrix(y_val,y_pred))"
   ]
  },
  {
   "cell_type": "code",
   "execution_count": 47,
   "metadata": {},
   "outputs": [
    {
     "name": "stdout",
     "output_type": "stream",
     "text": [
      "SVM Confusion Matrix:\n",
      "[[920   0]\n",
      " [ 35   0]]\n"
     ]
    }
   ],
   "source": [
    "# Fit and predict SVM pipeline\n",
    "svm = SVC()\n",
    "svm.fit(Xs_train, ys_train)\n",
    "ys_pred = svm.predict(Xs_val)\n",
    "print('SVM Confusion Matrix:')\n",
    "print(confusion_matrix(ys_val, ys_pred))"
   ]
  },
  {
   "cell_type": "code",
   "execution_count": 48,
   "metadata": {},
   "outputs": [
    {
     "name": "stdout",
     "output_type": "stream",
     "text": [
      "Logisitic Regression Confusion Matrix:\n",
      "[[912   8]\n",
      " [ 32   3]]\n"
     ]
    }
   ],
   "source": [
    "# Fit and predict Logistic Regression pipeline\n",
    "log_reg_pipe.fit(X_train,y_train)\n",
    "y_pred = log_reg_pipe.predict(X_val)\n",
    "print('Logisitic Regression Confusion Matrix:')\n",
    "print(confusion_matrix(y_val,y_pred))"
   ]
  },
  {
   "cell_type": "code",
   "execution_count": 49,
   "metadata": {},
   "outputs": [
    {
     "name": "stdout",
     "output_type": "stream",
     "text": [
      "KNN on tSNE Confusion Matrix:\n",
      "[[920   0]\n",
      " [ 35   0]]\n"
     ]
    }
   ],
   "source": [
    "#fitting and predicting logistic regression with the t-sne scaled dataset.\n",
    "log_reg = LogisticRegression()\n",
    "log_reg.fit(Xs_train, ys_train)\n",
    "ys_pred = log_reg.predict(Xs_val)\n",
    "print('Logistic Regresssion on tSNE Confusion Matrix:')\n",
    "print(confusion_matrix(ys_val, ys_pred))"
   ]
  },
  {
   "cell_type": "markdown",
   "metadata": {},
   "source": [
    "From our confusion matrix, we can then derive the following useful metrics:\n",
    "\n",
    "\n",
    "$$\\text{Precision} = \\frac{TP}{TP+FP} \\\\\n",
    "\\text{Recall} = \\frac{TP}{TP+FN}\\\\\n",
    "\\text{F1 Score} = 2 * \\frac{\\text{Precision} * \\text{Recall}}{\\text{Precision} + \\text{Recall}}$$\n",
    "\n",
    "\n",
    "One way to obtain all of these metrics is using the `classification_report()` function from scikit learn (for documentation, see [here](https://scikit-learn.org/stable/modules/generated/sklearn.metrics.classification_report.html?highlight=classification#sklearn.metrics.classification_report)). Try outputting the classification report for our three models below:\n",
    "\n",
    "- Import the `classification_report()` function from scikit learn.\n",
    "- Fit all pipeline estimators on the training set and predict on the validation set.\n",
    "- For each estimator's predictions, print the confusion matrix generated with `classification_report()` by passing both `y_val` and `y_pred`. "
   ]
  },
  {
   "cell_type": "code",
   "execution_count": 50,
   "metadata": {},
   "outputs": [],
   "source": [
    "# Importing classification_report\n",
    "from sklearn.metrics import classification_report"
   ]
  },
  {
   "cell_type": "code",
   "execution_count": 51,
   "metadata": {},
   "outputs": [
    {
     "name": "stdout",
     "output_type": "stream",
     "text": [
      "KNN Classification Report:\n",
      "              precision    recall  f1-score   support\n",
      "\n",
      "           0       0.97      0.99      0.98       920\n",
      "           1       0.30      0.09      0.13        35\n",
      "\n",
      "    accuracy                           0.96       955\n",
      "   macro avg       0.63      0.54      0.56       955\n",
      "weighted avg       0.94      0.96      0.95       955\n",
      "\n"
     ]
    }
   ],
   "source": [
    "# Fit and predict KNN pipeline\n",
    "knn_pipe.fit(X_train, y_train)\n",
    "y_pred = knn_pipe.predict(X_val)\n",
    "print('KNN Classification Report:')\n",
    "print(classification_report(y_val, y_pred))"
   ]
  },
  {
   "cell_type": "code",
   "execution_count": 52,
   "metadata": {},
   "outputs": [
    {
     "name": "stdout",
     "output_type": "stream",
     "text": [
      "KNN on tSNE Classification Report:\n",
      "              precision    recall  f1-score   support\n",
      "\n",
      "           0       0.97      0.99      0.98       920\n",
      "           1       0.50      0.23      0.31        35\n",
      "\n",
      "    accuracy                           0.96       955\n",
      "   macro avg       0.74      0.61      0.65       955\n",
      "weighted avg       0.95      0.96      0.96       955\n",
      "\n"
     ]
    }
   ],
   "source": [
    "# Fit and predict KNN on tSNE\n",
    "knn.fit(Xs_train, ys_train)\n",
    "ys_pred = knn.predict(Xs_val)\n",
    "print('KNN on tSNE Classification Report:')\n",
    "print(classification_report(ys_val, ys_pred))"
   ]
  },
  {
   "cell_type": "code",
   "execution_count": 53,
   "metadata": {},
   "outputs": [
    {
     "name": "stdout",
     "output_type": "stream",
     "text": [
      "SVM Classification Report:\n",
      "              precision    recall  f1-score   support\n",
      "\n",
      "           0       0.96      1.00      0.98       920\n",
      "           1       1.00      0.03      0.06        35\n",
      "\n",
      "    accuracy                           0.96       955\n",
      "   macro avg       0.98      0.51      0.52       955\n",
      "weighted avg       0.97      0.96      0.95       955\n",
      "\n"
     ]
    }
   ],
   "source": [
    "# Fit and predict SVM pipeline\n",
    "svm_pipe.fit(X_train, y_train)\n",
    "y_pred = svm_pipe.predict(X_val)\n",
    "print('SVM Classification Report:')\n",
    "print(classification_report(y_val, y_pred))"
   ]
  },
  {
   "cell_type": "code",
   "execution_count": 85,
   "metadata": {},
   "outputs": [
    {
     "name": "stdout",
     "output_type": "stream",
     "text": [
      "KNN on tSNE Classification Report:\n",
      "              precision    recall  f1-score   support\n",
      "\n",
      "           0       0.96      1.00      0.98       920\n",
      "           1       0.00      0.00      0.00        35\n",
      "\n",
      "    accuracy                           0.96       955\n",
      "   macro avg       0.48      0.50      0.49       955\n",
      "weighted avg       0.93      0.96      0.95       955\n",
      "\n"
     ]
    },
    {
     "name": "stderr",
     "output_type": "stream",
     "text": [
      "C:\\Users\\User\\miniconda3\\lib\\site-packages\\sklearn\\metrics\\_classification.py:1344: UndefinedMetricWarning: Precision and F-score are ill-defined and being set to 0.0 in labels with no predicted samples. Use `zero_division` parameter to control this behavior.\n",
      "  _warn_prf(average, modifier, msg_start, len(result))\n",
      "C:\\Users\\User\\miniconda3\\lib\\site-packages\\sklearn\\metrics\\_classification.py:1344: UndefinedMetricWarning: Precision and F-score are ill-defined and being set to 0.0 in labels with no predicted samples. Use `zero_division` parameter to control this behavior.\n",
      "  _warn_prf(average, modifier, msg_start, len(result))\n",
      "C:\\Users\\User\\miniconda3\\lib\\site-packages\\sklearn\\metrics\\_classification.py:1344: UndefinedMetricWarning: Precision and F-score are ill-defined and being set to 0.0 in labels with no predicted samples. Use `zero_division` parameter to control this behavior.\n",
      "  _warn_prf(average, modifier, msg_start, len(result))\n"
     ]
    }
   ],
   "source": [
    "# Fit and predict SVM on tSNE\n",
    "svm.fit(Xs_train, ys_train)\n",
    "ys_pred = svm.predict(Xs_val)\n",
    "print('KNN on tSNE Classification Report:')\n",
    "print(classification_report(ys_val, ys_pred))"
   ]
  },
  {
   "cell_type": "code",
   "execution_count": 54,
   "metadata": {},
   "outputs": [
    {
     "name": "stdout",
     "output_type": "stream",
     "text": [
      "SVM Classification Report:\n",
      "              precision    recall  f1-score   support\n",
      "\n",
      "           0       0.97      0.99      0.98       920\n",
      "           1       0.38      0.17      0.24        35\n",
      "\n",
      "    accuracy                           0.96       955\n",
      "   macro avg       0.67      0.58      0.61       955\n",
      "weighted avg       0.95      0.96      0.95       955\n",
      "\n"
     ]
    }
   ],
   "source": [
    "# Fit and predict Logistic Regression pipeline\n",
    "log_reg_pipe.fit(X_train, y_train)\n",
    "y_pred = log_reg_pipe.predict(X_val)\n",
    "print('SVM Classification Report:')\n",
    "print(classification_report(y_val, y_pred))"
   ]
  },
  {
   "cell_type": "code",
   "execution_count": 86,
   "metadata": {},
   "outputs": [
    {
     "name": "stdout",
     "output_type": "stream",
     "text": [
      "KNN on tSNE Classification Report:\n",
      "              precision    recall  f1-score   support\n",
      "\n",
      "           0       0.96      1.00      0.98       920\n",
      "           1       0.00      0.00      0.00        35\n",
      "\n",
      "    accuracy                           0.96       955\n",
      "   macro avg       0.48      0.50      0.49       955\n",
      "weighted avg       0.93      0.96      0.95       955\n",
      "\n"
     ]
    },
    {
     "name": "stderr",
     "output_type": "stream",
     "text": [
      "C:\\Users\\User\\miniconda3\\lib\\site-packages\\sklearn\\metrics\\_classification.py:1344: UndefinedMetricWarning: Precision and F-score are ill-defined and being set to 0.0 in labels with no predicted samples. Use `zero_division` parameter to control this behavior.\n",
      "  _warn_prf(average, modifier, msg_start, len(result))\n",
      "C:\\Users\\User\\miniconda3\\lib\\site-packages\\sklearn\\metrics\\_classification.py:1344: UndefinedMetricWarning: Precision and F-score are ill-defined and being set to 0.0 in labels with no predicted samples. Use `zero_division` parameter to control this behavior.\n",
      "  _warn_prf(average, modifier, msg_start, len(result))\n",
      "C:\\Users\\User\\miniconda3\\lib\\site-packages\\sklearn\\metrics\\_classification.py:1344: UndefinedMetricWarning: Precision and F-score are ill-defined and being set to 0.0 in labels with no predicted samples. Use `zero_division` parameter to control this behavior.\n",
      "  _warn_prf(average, modifier, msg_start, len(result))\n"
     ]
    }
   ],
   "source": [
    "# Fit and predict Logistic regression on tSNE\n",
    "log_reg.fit(Xs_train, ys_train)\n",
    "ys_pred = log_reg.predict(Xs_val)\n",
    "print('KNN on tSNE Classification Report:')\n",
    "print(classification_report(ys_val, ys_pred))"
   ]
  },
  {
   "cell_type": "markdown",
   "metadata": {},
   "source": [
    "for the K Nearest neighbours, we can see improvments in all metrics, with a notable increase in true positives. The application of tSNE is successful in this case.\n",
    "For the other two methods, we see that model tends toward a complete negative classification approach (every test point is identified as non-bankrupt). tSNE is clearly unsuccessful in this case."
   ]
  },
  {
   "cell_type": "markdown",
   "metadata": {},
   "source": [
    "### Class imbalance and resampling"
   ]
  },
  {
   "cell_type": "markdown",
   "metadata": {},
   "source": [
    "As we can see from our classification reports, one metric that is especially low for all three models is recall amongst bankrupt companies. This highlights a frequent problem in classification ML which is known as **class imbalance**. It occurs when one class is significantly underrepresented in the training data, and thus our models are trained really well at \"spotting\" the majority class (which is easy), but really bad at spotting the minority one. This is problematic as our interest is often to predict the minority class (i.e bankrupt companies).\n",
    "\n",
    "To illustrate imbalance in our training data set, have a look at the plot below:"
   ]
  },
  {
   "cell_type": "code",
   "execution_count": 55,
   "metadata": {},
   "outputs": [
    {
     "data": {
      "image/png": "[encoded data removed]",
      "text/plain": [
       "<Figure size 600x600 with 1 Axes>"
      ]
     },
     "metadata": {},
     "output_type": "display_data"
    }
   ],
   "source": [
    "# Ploting class imbalance\n",
    "fig, ax = plt.subplots(figsize=(6, 6)) \n",
    "ax.bar([0,1],y_train.value_counts())\n",
    "ax.set_xlabel('Bankrupt')\n",
    "ax.set_ylabel('Count')\n",
    "ax.set_xticks([0,1])\n",
    "ax.set_title('Distribution of company bankruptcy ')\n",
    "plt.show()"
   ]
  },
  {
   "cell_type": "markdown",
   "metadata": {},
   "source": [
    "To improve our model's ability to pick up bankrupt companies, we must resample our data set. There are generally two ways to do this:\n",
    "- Undersampling the majority class.\n",
    "- Oversampling the minority class.\n",
    "\n",
    "Here, we'll take a look at the latter option using a technique called Synthetic Minority Over-sampling Technique (SMOTE). For a more in depth treatment of this technique please refer [here](https://machinelearningmastery.com/smote-oversampling-for-imbalanced-classification/).\n",
    "\n",
    "To apply SMOTE, we'll have to use another library called Imbalanced Learn (imported as `imblearn`). To start, lets see how SMOTE resampling changes our class distribution:"
   ]
  },
  {
   "cell_type": "code",
   "execution_count": 56,
   "metadata": {},
   "outputs": [],
   "source": [
    "# Importing SMOTE class from Imbalanced Learn\n",
    "from imblearn.over_sampling import SMOTE"
   ]
  },
  {
   "cell_type": "code",
   "execution_count": 57,
   "metadata": {},
   "outputs": [],
   "source": [
    "# Resampling data\n",
    "sm = SMOTE(random_state=243)\n",
    "X_res, y_res = sm.fit_resample(X_train, y_train)"
   ]
  },
  {
   "cell_type": "code",
   "execution_count": 58,
   "metadata": {},
   "outputs": [
    {
     "data": {
      "image/png": "[encoded data removed]",
      "text/plain": [
       "<Figure size 600x600 with 1 Axes>"
      ]
     },
     "metadata": {},
     "output_type": "display_data"
    }
   ],
   "source": [
    "# Re-plotting class balance\n",
    "fig, ax = plt.subplots(figsize=(6, 6)) \n",
    "ax.bar([0,1],y_res.value_counts())\n",
    "ax.set_xlabel('Bankrupt')\n",
    "ax.set_ylabel('Count')\n",
    "ax.set_xticks([0,1])\n",
    "ax.set_title('Distribution of company bankruptcy ')\n",
    "plt.show()"
   ]
  },
  {
   "cell_type": "markdown",
   "metadata": {},
   "source": [
    "What is great about this library is that it is built to integrate with scikit learn, so we can just add the SMOTE transformer onto our Pipelines. The only caveat is that, to do this, we must import the `make_pipeline()` function from Imbalanced Learn (for documentation, see [here](https://imbalanced-learn.org/stable/references/generated/imblearn.pipeline.make_pipeline.html)). Have a go at changing our Pipelines (add SMOTE resampling as the first step) and then use these to predict on our validation samples:\n",
    "- Import the `make_pipeline()` function from imblearn.\n",
    "- Make a pipeline for each estimator by passing the following transformers (in order): SMOTE, Scaling, PCA, estimator.\n",
    "- Fit on the training set and predict on the validation set using all three pipelines.\n",
    "- Print out the classification report for all three models. \n",
    "\n",
    "> **Note:** The `.make_pipeline()` function, unlike the method `Pipeline()`, does not require a list of tuples as an argument. Instead, just pass in whatever transformers and estimators you want in order (separated by commas.) "
   ]
  },
  {
   "cell_type": "code",
   "execution_count": 59,
   "metadata": {},
   "outputs": [],
   "source": [
    "# Importing make_pipeline\n",
    "from imblearn.pipeline import make_pipeline"
   ]
  },
  {
   "cell_type": "code",
   "execution_count": 60,
   "metadata": {},
   "outputs": [],
   "source": [
    "# Create three Pipelines, one for each model\n",
    "knn_pipe = make_pipeline(SMOTE(random_state=253), StandardScaler(), PCA(n_components=30), KNeighborsClassifier())\n",
    "\n",
    "svm_pipe = make_pipeline(SMOTE(random_state=253), StandardScaler(), PCA(n_components=30), SVC())\n",
    "\n",
    "log_reg_pipe = make_pipeline(SMOTE(random_state=253), StandardScaler(), PCA(n_components=30),LogisticRegression()) "
   ]
  },
  {
   "cell_type": "code",
   "execution_count": 104,
   "metadata": {},
   "outputs": [],
   "source": [
    "\n",
    "## the idea here is to train on a resampled dataset then test back on the original?\n",
    "\n",
    "#preprocessing data for tSNE application with selective sampling\n",
    "sm = SMOTE(random_state=243)\n",
    "dat_X_res, dat_y_res = sm.fit_resample(data.drop(columns = 'Bankrupt'), data.Bankrupt)\n",
    "\n",
    "#Scale data\n",
    "scaler = StandardScaler()\n",
    "X_res_scaled = scaler.fit_transform(dat_X_res)\n",
    "#apply PCA\n",
    "pcax = PCA(n_components=50)\n",
    "X__res_scaled = pcax.fit_transform(X_res_scaled) \n",
    "#fit and tranasform with t-SNE\n",
    "X_res_scaled_embedded = TSNE(n_components=2, learning_rate='auto', init='random', perplexity=90.0,random_state = 320).fit_transform(X_res_scaled)\n",
    "\n"
   ]
  },
  {
   "cell_type": "code",
   "execution_count": 106,
   "metadata": {},
   "outputs": [
    {
     "data": {
      "text/plain": [
       "Text(0.5, 1.0, 't-SNE data visualisation on SMOTE resampled dataset')"
      ]
     },
     "execution_count": 106,
     "metadata": {},
     "output_type": "execute_result"
    },
    {
     "data": {
      "image/png": "[encoded data removed]",
      "text/plain": [
       "<Figure size 1000x600 with 1 Axes>"
      ]
     },
     "metadata": {},
     "output_type": "display_data"
    }
   ],
   "source": [
    "#resampled tSNE plot\n",
    "fig, ax = plt.subplots(figsize = (10,6))\n",
    "\n",
    "\n",
    "ax.scatter(X_res_scaled_embedded[dat_y_res == 0][:,0],X_res_scaled_embedded[dat_y_res == 0][:,1], c = 'b', alpha = 0.3, s = 10)\n",
    "ax.scatter(X_res_scaled_embedded[dat_y_res == 1][:,0],X_res_scaled_embedded[dat_y_res == 1][:,1], c = 'r', s = 10)\n",
    "ax.set_xlabel('Dimension 1')\n",
    "ax.set_ylabel('Dimension 2')\n",
    "ax.set_xticks([0,1])\n",
    "ax.set_title('t-SNE data visualisation on SMOTE resampled dataset')"
   ]
  },
  {
   "cell_type": "markdown",
   "metadata": {},
   "source": [
    "There appears to be clearer clustering behaviour with t-SNE applied to the SMOTE resampled dataset "
   ]
  },
  {
   "cell_type": "code",
   "execution_count": 109,
   "metadata": {},
   "outputs": [
    {
     "data": {
      "text/plain": [
       "\"\\nknn.fit(X_res_scaled_embedded,dat_y_res)\\ny_pred = knn.predict(X_val)\\nprint('KNN trained on embedded dataset Classification Report')\\nprint(confusion_matrix(y_val, y_pred))\\n\""
      ]
     },
     "execution_count": 109,
     "metadata": {},
     "output_type": "execute_result"
    }
   ],
   "source": [
    "'''\n",
    "knn.fit(X_res_scaled_embedded,dat_y_res)\n",
    "y_pred = knn.predict(X_val)\n",
    "print('KNN trained on embedded dataset Classification Report')\n",
    "print(confusion_matrix(y_val, y_pred))\n",
    "'''"
   ]
  },
  {
   "cell_type": "code",
   "execution_count": 61,
   "metadata": {},
   "outputs": [
    {
     "name": "stdout",
     "output_type": "stream",
     "text": [
      "KNN Classification Report:\n",
      "              precision    recall  f1-score   support\n",
      "\n",
      "           0       0.99      0.89      0.93       920\n",
      "           1       0.20      0.74      0.31        35\n",
      "\n",
      "    accuracy                           0.88       955\n",
      "   macro avg       0.59      0.81      0.62       955\n",
      "weighted avg       0.96      0.88      0.91       955\n",
      "\n"
     ]
    }
   ],
   "source": [
    "# Fit and predict KNN pipeline\n",
    "knn_pipe.fit(X_train,y_train)\n",
    "y_pred = knn_pipe.predict(X_val)\n",
    "print('KNN Classification Report:')\n",
    "print(classification_report(y_val, y_pred))"
   ]
  },
  {
   "cell_type": "code",
   "execution_count": null,
   "metadata": {},
   "outputs": [],
   "source": [
    "svm = SVC()\n",
    "svm.fit(Xs_train, ys_train)\n",
    "ys_pred = svm.predict(Xs_val)"
   ]
  },
  {
   "cell_type": "code",
   "execution_count": 62,
   "metadata": {},
   "outputs": [
    {
     "name": "stdout",
     "output_type": "stream",
     "text": [
      "SVM Classification Report:\n",
      "              precision    recall  f1-score   support\n",
      "\n",
      "           0       0.99      0.91      0.95       920\n",
      "           1       0.24      0.80      0.37        35\n",
      "\n",
      "    accuracy                           0.90       955\n",
      "   macro avg       0.62      0.85      0.66       955\n",
      "weighted avg       0.96      0.90      0.93       955\n",
      "\n"
     ]
    }
   ],
   "source": [
    "# Fit and predict SVM pipeline\n",
    "svm_pipe.fit(X_train, y_train)\n",
    "y_pred = svm_pipe.predict(X_val)\n",
    "print('SVM Classification Report:')\n",
    "print(classification_report(y_val, y_pred))"
   ]
  },
  {
   "cell_type": "code",
   "execution_count": 63,
   "metadata": {
    "tags": []
   },
   "outputs": [
    {
     "name": "stdout",
     "output_type": "stream",
     "text": [
      "Logistic Regression Classification Report:\n",
      "              precision    recall  f1-score   support\n",
      "\n",
      "           0       0.99      0.88      0.93       920\n",
      "           1       0.20      0.83      0.33        35\n",
      "\n",
      "    accuracy                           0.87       955\n",
      "   macro avg       0.60      0.85      0.63       955\n",
      "weighted avg       0.96      0.87      0.91       955\n",
      "\n"
     ]
    }
   ],
   "source": [
    "# Fit and predict Logistic Regression pipeline\n",
    "log_reg_pipe.fit(X_train, y_train)\n",
    "y_pred = log_reg_pipe.predict(X_val)\n",
    "print('Logistic Regression Classification Report:')\n",
    "print(classification_report(y_val, y_pred))"
   ]
  },
  {
   "cell_type": "markdown",
   "metadata": {},
   "source": [
    "### Wrapping it all up"
   ]
  },
  {
   "cell_type": "markdown",
   "metadata": {},
   "source": [
    "We're nearly there! Now its time to train our models using the whole initial training set (training + validation) to then predict on the test set:\n",
    "- Merge the training and validation sets into a new training set (covered in previous sessions).\n",
    "- Fit each model on the new training set.\n",
    "- Predict with each model on the test set.\n",
    "- Print out the classification report of your predictions."
   ]
  },
  {
   "cell_type": "code",
   "execution_count": 64,
   "metadata": {},
   "outputs": [
    {
     "name": "stderr",
     "output_type": "stream",
     "text": [
      "C:\\Users\\User\\AppData\\Local\\Temp\\ipykernel_3388\\3581310937.py:2: FutureWarning: The frame.append method is deprecated and will be removed from pandas in a future version. Use pandas.concat instead.\n",
      "  X_train = X_train.append(X_val, ignore_index=True, sort=False)\n",
      "C:\\Users\\User\\AppData\\Local\\Temp\\ipykernel_3388\\3581310937.py:3: FutureWarning: The series.append method is deprecated and will be removed from pandas in a future version. Use pandas.concat instead.\n",
      "  y_train = y_train.append(y_val, ignore_index=True)\n"
     ]
    }
   ],
   "source": [
    "# Merging together training and validation samples\n",
    "X_train = X_train.append(X_val, ignore_index=True, sort=False)\n",
    "y_train = y_train.append(y_val, ignore_index=True) "
   ]
  },
  {
   "cell_type": "code",
   "execution_count": 65,
   "metadata": {},
   "outputs": [
    {
     "name": "stdout",
     "output_type": "stream",
     "text": [
      "X_train dimensions:  (4773, 95)\n",
      "y_train dimensions:  (4773,)\n"
     ]
    }
   ],
   "source": [
    "print('X_train dimensions: ', X_train.shape)\n",
    "print('y_train dimensions: ', y_train.shape)"
   ]
  },
  {
   "cell_type": "code",
   "execution_count": 66,
   "metadata": {},
   "outputs": [
    {
     "name": "stdout",
     "output_type": "stream",
     "text": [
      "KNN Classification Report:\n",
      "              precision    recall  f1-score   support\n",
      "\n",
      "           0       0.99      0.87      0.93      1981\n",
      "           1       0.16      0.75      0.26        65\n",
      "\n",
      "    accuracy                           0.86      2046\n",
      "   macro avg       0.57      0.81      0.59      2046\n",
      "weighted avg       0.96      0.86      0.90      2046\n",
      "\n"
     ]
    }
   ],
   "source": [
    "# Fit and predict KNN pipeline\n",
    "knn_pipe.fit(X_train, y_train)\n",
    "y_pred = knn_pipe.predict(X_test)\n",
    "print('KNN Classification Report:')\n",
    "print(classification_report(y_test, y_pred))"
   ]
  },
  {
   "cell_type": "code",
   "execution_count": 67,
   "metadata": {},
   "outputs": [
    {
     "name": "stdout",
     "output_type": "stream",
     "text": [
      "SVM Classification Report:\n",
      "              precision    recall  f1-score   support\n",
      "\n",
      "           0       0.99      0.90      0.94      1981\n",
      "           1       0.19      0.71      0.30        65\n",
      "\n",
      "    accuracy                           0.89      2046\n",
      "   macro avg       0.59      0.80      0.62      2046\n",
      "weighted avg       0.96      0.89      0.92      2046\n",
      "\n"
     ]
    }
   ],
   "source": [
    "# Fit and predict SVM pipeline\n",
    "svm_pipe.fit(X_train, y_train)\n",
    "y_pred = svm_pipe.predict(X_test)\n",
    "print('SVM Classification Report:')\n",
    "print(classification_report(y_test, y_pred))\n"
   ]
  },
  {
   "cell_type": "code",
   "execution_count": 68,
   "metadata": {
    "tags": []
   },
   "outputs": [
    {
     "name": "stdout",
     "output_type": "stream",
     "text": [
      "Logistic Regression Classification Report:\n",
      "              precision    recall  f1-score   support\n",
      "\n",
      "           0       1.00      0.88      0.93       920\n",
      "           1       0.22      0.89      0.35        35\n",
      "\n",
      "    accuracy                           0.88       955\n",
      "   macro avg       0.61      0.88      0.64       955\n",
      "weighted avg       0.97      0.88      0.91       955\n",
      "\n"
     ]
    }
   ],
   "source": [
    "# Fit and predict Logistic Regression pipeline\n",
    "log_reg_pipe.fit(X_train, y_train)\n",
    "y_pred = log_reg_pipe.predict(X_val)\n",
    "print('Logistic Regression Classification Report:')\n",
    "print(classification_report(y_val, y_pred))"
   ]
  },
  {
   "cell_type": "markdown",
   "metadata": {},
   "source": [
    "## EDA"
   ]
  },
  {
   "cell_type": "markdown",
   "metadata": {},
   "source": [
    "How are the features in our dataset distributed"
   ]
  },
  {
   "cell_type": "code",
   "execution_count": 69,
   "metadata": {},
   "outputs": [
    {
     "data": {
      "text/html": [
       "<div>\n",
       "<style scoped>\n",
       "    .dataframe tbody tr th:only-of-type {\n",
       "        vertical-align: middle;\n",
       "    }\n",
       "\n",
       "    .dataframe tbody tr th {\n",
       "        vertical-align: top;\n",
       "    }\n",
       "\n",
       "    .dataframe thead th {\n",
       "        text-align: right;\n",
       "    }\n",
       "</style>\n",
       "<table border=\"1\" class=\"dataframe\">\n",
       "  <thead>\n",
       "    <tr style=\"text-align: right;\">\n",
       "      <th></th>\n",
       "      <th>Bankrupt</th>\n",
       "      <th>ROA(C) before interest and depreciation before interest</th>\n",
       "      <th>ROA(A) before interest and % after tax</th>\n",
       "      <th>ROA(B) before interest and depreciation after tax</th>\n",
       "      <th>Operating Gross Margin</th>\n",
       "      <th>Realized Sales Gross Margin</th>\n",
       "      <th>Operating Profit Rate</th>\n",
       "      <th>Pre-tax net Interest Rate</th>\n",
       "      <th>After-tax net Interest Rate</th>\n",
       "      <th>Non-industry income and expenditure/revenue</th>\n",
       "      <th>...</th>\n",
       "      <th>Net Income to Total Assets</th>\n",
       "      <th>Total assets to GNP price</th>\n",
       "      <th>No-credit Interval</th>\n",
       "      <th>Gross Profit to Sales</th>\n",
       "      <th>Net Income to Stockholder's Equity</th>\n",
       "      <th>Liability to Equity</th>\n",
       "      <th>Degree of Financial Leverage (DFL)</th>\n",
       "      <th>Interest Coverage Ratio (Interest expense to EBIT)</th>\n",
       "      <th>Net Income Flag</th>\n",
       "      <th>Equity to Liability</th>\n",
       "    </tr>\n",
       "  </thead>\n",
       "  <tbody>\n",
       "    <tr>\n",
       "      <th>count</th>\n",
       "      <td>6819.000000</td>\n",
       "      <td>6819.000000</td>\n",
       "      <td>6819.000000</td>\n",
       "      <td>6819.000000</td>\n",
       "      <td>6819.000000</td>\n",
       "      <td>6819.000000</td>\n",
       "      <td>6819.000000</td>\n",
       "      <td>6819.000000</td>\n",
       "      <td>6819.000000</td>\n",
       "      <td>6819.000000</td>\n",
       "      <td>...</td>\n",
       "      <td>6819.000000</td>\n",
       "      <td>6.819000e+03</td>\n",
       "      <td>6819.000000</td>\n",
       "      <td>6819.000000</td>\n",
       "      <td>6819.000000</td>\n",
       "      <td>6819.000000</td>\n",
       "      <td>6819.000000</td>\n",
       "      <td>6819.000000</td>\n",
       "      <td>6819.0</td>\n",
       "      <td>6819.000000</td>\n",
       "    </tr>\n",
       "    <tr>\n",
       "      <th>mean</th>\n",
       "      <td>0.032263</td>\n",
       "      <td>0.505180</td>\n",
       "      <td>0.558625</td>\n",
       "      <td>0.553589</td>\n",
       "      <td>0.607948</td>\n",
       "      <td>0.607929</td>\n",
       "      <td>0.998755</td>\n",
       "      <td>0.797190</td>\n",
       "      <td>0.809084</td>\n",
       "      <td>0.303623</td>\n",
       "      <td>...</td>\n",
       "      <td>0.807760</td>\n",
       "      <td>1.862942e+07</td>\n",
       "      <td>0.623915</td>\n",
       "      <td>0.607946</td>\n",
       "      <td>0.840402</td>\n",
       "      <td>0.280365</td>\n",
       "      <td>0.027541</td>\n",
       "      <td>0.565358</td>\n",
       "      <td>1.0</td>\n",
       "      <td>0.047578</td>\n",
       "    </tr>\n",
       "    <tr>\n",
       "      <th>std</th>\n",
       "      <td>0.176710</td>\n",
       "      <td>0.060686</td>\n",
       "      <td>0.065620</td>\n",
       "      <td>0.061595</td>\n",
       "      <td>0.016934</td>\n",
       "      <td>0.016916</td>\n",
       "      <td>0.013010</td>\n",
       "      <td>0.012869</td>\n",
       "      <td>0.013601</td>\n",
       "      <td>0.011163</td>\n",
       "      <td>...</td>\n",
       "      <td>0.040332</td>\n",
       "      <td>3.764501e+08</td>\n",
       "      <td>0.012290</td>\n",
       "      <td>0.016934</td>\n",
       "      <td>0.014523</td>\n",
       "      <td>0.014463</td>\n",
       "      <td>0.015668</td>\n",
       "      <td>0.013214</td>\n",
       "      <td>0.0</td>\n",
       "      <td>0.050014</td>\n",
       "    </tr>\n",
       "    <tr>\n",
       "      <th>min</th>\n",
       "      <td>0.000000</td>\n",
       "      <td>0.000000</td>\n",
       "      <td>0.000000</td>\n",
       "      <td>0.000000</td>\n",
       "      <td>0.000000</td>\n",
       "      <td>0.000000</td>\n",
       "      <td>0.000000</td>\n",
       "      <td>0.000000</td>\n",
       "      <td>0.000000</td>\n",
       "      <td>0.000000</td>\n",
       "      <td>...</td>\n",
       "      <td>0.000000</td>\n",
       "      <td>0.000000e+00</td>\n",
       "      <td>0.000000</td>\n",
       "      <td>0.000000</td>\n",
       "      <td>0.000000</td>\n",
       "      <td>0.000000</td>\n",
       "      <td>0.000000</td>\n",
       "      <td>0.000000</td>\n",
       "      <td>1.0</td>\n",
       "      <td>0.000000</td>\n",
       "    </tr>\n",
       "    <tr>\n",
       "      <th>25%</th>\n",
       "      <td>0.000000</td>\n",
       "      <td>0.476527</td>\n",
       "      <td>0.535543</td>\n",
       "      <td>0.527277</td>\n",
       "      <td>0.600445</td>\n",
       "      <td>0.600434</td>\n",
       "      <td>0.998969</td>\n",
       "      <td>0.797386</td>\n",
       "      <td>0.809312</td>\n",
       "      <td>0.303466</td>\n",
       "      <td>...</td>\n",
       "      <td>0.796750</td>\n",
       "      <td>9.036205e-04</td>\n",
       "      <td>0.623636</td>\n",
       "      <td>0.600443</td>\n",
       "      <td>0.840115</td>\n",
       "      <td>0.276944</td>\n",
       "      <td>0.026791</td>\n",
       "      <td>0.565158</td>\n",
       "      <td>1.0</td>\n",
       "      <td>0.024477</td>\n",
       "    </tr>\n",
       "    <tr>\n",
       "      <th>50%</th>\n",
       "      <td>0.000000</td>\n",
       "      <td>0.502706</td>\n",
       "      <td>0.559802</td>\n",
       "      <td>0.552278</td>\n",
       "      <td>0.605997</td>\n",
       "      <td>0.605976</td>\n",
       "      <td>0.999022</td>\n",
       "      <td>0.797464</td>\n",
       "      <td>0.809375</td>\n",
       "      <td>0.303525</td>\n",
       "      <td>...</td>\n",
       "      <td>0.810619</td>\n",
       "      <td>2.085213e-03</td>\n",
       "      <td>0.623879</td>\n",
       "      <td>0.605998</td>\n",
       "      <td>0.841179</td>\n",
       "      <td>0.278778</td>\n",
       "      <td>0.026808</td>\n",
       "      <td>0.565252</td>\n",
       "      <td>1.0</td>\n",
       "      <td>0.033798</td>\n",
       "    </tr>\n",
       "    <tr>\n",
       "      <th>75%</th>\n",
       "      <td>0.000000</td>\n",
       "      <td>0.535563</td>\n",
       "      <td>0.589157</td>\n",
       "      <td>0.584105</td>\n",
       "      <td>0.613914</td>\n",
       "      <td>0.613842</td>\n",
       "      <td>0.999095</td>\n",
       "      <td>0.797579</td>\n",
       "      <td>0.809469</td>\n",
       "      <td>0.303585</td>\n",
       "      <td>...</td>\n",
       "      <td>0.826455</td>\n",
       "      <td>5.269777e-03</td>\n",
       "      <td>0.624168</td>\n",
       "      <td>0.613913</td>\n",
       "      <td>0.842357</td>\n",
       "      <td>0.281449</td>\n",
       "      <td>0.026913</td>\n",
       "      <td>0.565725</td>\n",
       "      <td>1.0</td>\n",
       "      <td>0.052838</td>\n",
       "    </tr>\n",
       "    <tr>\n",
       "      <th>max</th>\n",
       "      <td>1.000000</td>\n",
       "      <td>1.000000</td>\n",
       "      <td>1.000000</td>\n",
       "      <td>1.000000</td>\n",
       "      <td>1.000000</td>\n",
       "      <td>1.000000</td>\n",
       "      <td>1.000000</td>\n",
       "      <td>1.000000</td>\n",
       "      <td>1.000000</td>\n",
       "      <td>1.000000</td>\n",
       "      <td>...</td>\n",
       "      <td>1.000000</td>\n",
       "      <td>9.820000e+09</td>\n",
       "      <td>1.000000</td>\n",
       "      <td>1.000000</td>\n",
       "      <td>1.000000</td>\n",
       "      <td>1.000000</td>\n",
       "      <td>1.000000</td>\n",
       "      <td>1.000000</td>\n",
       "      <td>1.0</td>\n",
       "      <td>1.000000</td>\n",
       "    </tr>\n",
       "  </tbody>\n",
       "</table>\n",
       "<p>8 rows × 96 columns</p>\n",
       "</div>"
      ],
      "text/plain": [
       "          Bankrupt   ROA(C) before interest and depreciation before interest  \\\n",
       "count  6819.000000                                        6819.000000          \n",
       "mean      0.032263                                           0.505180          \n",
       "std       0.176710                                           0.060686          \n",
       "min       0.000000                                           0.000000          \n",
       "25%       0.000000                                           0.476527          \n",
       "50%       0.000000                                           0.502706          \n",
       "75%       0.000000                                           0.535563          \n",
       "max       1.000000                                           1.000000          \n",
       "\n",
       "        ROA(A) before interest and % after tax  \\\n",
       "count                              6819.000000   \n",
       "mean                                  0.558625   \n",
       "std                                   0.065620   \n",
       "min                                   0.000000   \n",
       "25%                                   0.535543   \n",
       "50%                                   0.559802   \n",
       "75%                                   0.589157   \n",
       "max                                   1.000000   \n",
       "\n",
       "        ROA(B) before interest and depreciation after tax  \\\n",
       "count                                        6819.000000    \n",
       "mean                                            0.553589    \n",
       "std                                             0.061595    \n",
       "min                                             0.000000    \n",
       "25%                                             0.527277    \n",
       "50%                                             0.552278    \n",
       "75%                                             0.584105    \n",
       "max                                             1.000000    \n",
       "\n",
       "        Operating Gross Margin   Realized Sales Gross Margin  \\\n",
       "count              6819.000000                   6819.000000   \n",
       "mean                  0.607948                      0.607929   \n",
       "std                   0.016934                      0.016916   \n",
       "min                   0.000000                      0.000000   \n",
       "25%                   0.600445                      0.600434   \n",
       "50%                   0.605997                      0.605976   \n",
       "75%                   0.613914                      0.613842   \n",
       "max                   1.000000                      1.000000   \n",
       "\n",
       "        Operating Profit Rate   Pre-tax net Interest Rate  \\\n",
       "count             6819.000000                 6819.000000   \n",
       "mean                 0.998755                    0.797190   \n",
       "std                  0.013010                    0.012869   \n",
       "min                  0.000000                    0.000000   \n",
       "25%                  0.998969                    0.797386   \n",
       "50%                  0.999022                    0.797464   \n",
       "75%                  0.999095                    0.797579   \n",
       "max                  1.000000                    1.000000   \n",
       "\n",
       "        After-tax net Interest Rate  \\\n",
       "count                   6819.000000   \n",
       "mean                       0.809084   \n",
       "std                        0.013601   \n",
       "min                        0.000000   \n",
       "25%                        0.809312   \n",
       "50%                        0.809375   \n",
       "75%                        0.809469   \n",
       "max                        1.000000   \n",
       "\n",
       "        Non-industry income and expenditure/revenue  ...  \\\n",
       "count                                   6819.000000  ...   \n",
       "mean                                       0.303623  ...   \n",
       "std                                        0.011163  ...   \n",
       "min                                        0.000000  ...   \n",
       "25%                                        0.303466  ...   \n",
       "50%                                        0.303525  ...   \n",
       "75%                                        0.303585  ...   \n",
       "max                                        1.000000  ...   \n",
       "\n",
       "        Net Income to Total Assets   Total assets to GNP price  \\\n",
       "count                  6819.000000                6.819000e+03   \n",
       "mean                      0.807760                1.862942e+07   \n",
       "std                       0.040332                3.764501e+08   \n",
       "min                       0.000000                0.000000e+00   \n",
       "25%                       0.796750                9.036205e-04   \n",
       "50%                       0.810619                2.085213e-03   \n",
       "75%                       0.826455                5.269777e-03   \n",
       "max                       1.000000                9.820000e+09   \n",
       "\n",
       "        No-credit Interval   Gross Profit to Sales  \\\n",
       "count          6819.000000             6819.000000   \n",
       "mean              0.623915                0.607946   \n",
       "std               0.012290                0.016934   \n",
       "min               0.000000                0.000000   \n",
       "25%               0.623636                0.600443   \n",
       "50%               0.623879                0.605998   \n",
       "75%               0.624168                0.613913   \n",
       "max               1.000000                1.000000   \n",
       "\n",
       "        Net Income to Stockholder's Equity   Liability to Equity  \\\n",
       "count                          6819.000000           6819.000000   \n",
       "mean                              0.840402              0.280365   \n",
       "std                               0.014523              0.014463   \n",
       "min                               0.000000              0.000000   \n",
       "25%                               0.840115              0.276944   \n",
       "50%                               0.841179              0.278778   \n",
       "75%                               0.842357              0.281449   \n",
       "max                               1.000000              1.000000   \n",
       "\n",
       "        Degree of Financial Leverage (DFL)  \\\n",
       "count                          6819.000000   \n",
       "mean                              0.027541   \n",
       "std                               0.015668   \n",
       "min                               0.000000   \n",
       "25%                               0.026791   \n",
       "50%                               0.026808   \n",
       "75%                               0.026913   \n",
       "max                               1.000000   \n",
       "\n",
       "        Interest Coverage Ratio (Interest expense to EBIT)   Net Income Flag  \\\n",
       "count                                        6819.000000              6819.0   \n",
       "mean                                            0.565358                 1.0   \n",
       "std                                             0.013214                 0.0   \n",
       "min                                             0.000000                 1.0   \n",
       "25%                                             0.565158                 1.0   \n",
       "50%                                             0.565252                 1.0   \n",
       "75%                                             0.565725                 1.0   \n",
       "max                                             1.000000                 1.0   \n",
       "\n",
       "        Equity to Liability  \n",
       "count           6819.000000  \n",
       "mean               0.047578  \n",
       "std                0.050014  \n",
       "min                0.000000  \n",
       "25%                0.024477  \n",
       "50%                0.033798  \n",
       "75%                0.052838  \n",
       "max                1.000000  \n",
       "\n",
       "[8 rows x 96 columns]"
      ]
     },
     "execution_count": 69,
     "metadata": {},
     "output_type": "execute_result"
    }
   ],
   "source": [
    "data.describe()"
   ]
  },
  {
   "cell_type": "code",
   "execution_count": 70,
   "metadata": {},
   "outputs": [],
   "source": [
    "#data.columns"
   ]
  },
  {
   "cell_type": "code",
   "execution_count": 71,
   "metadata": {},
   "outputs": [
    {
     "name": "stdout",
     "output_type": "stream",
     "text": [
      "The percentage of bankrupt companies in the dataset is 3.2262795131250916 %\n"
     ]
    }
   ],
   "source": [
    "print('The percentage of bankrupt companies in the dataset is',data['Bankrupt'].sum()/data.shape[0]*100,'%' )\n"
   ]
  },
  {
   "cell_type": "code",
   "execution_count": 72,
   "metadata": {},
   "outputs": [
    {
     "data": {
      "image/png": "[encoded data removed]",
      "text/plain": [
       "<Figure size 640x480 with 2 Axes>"
      ]
     },
     "metadata": {},
     "output_type": "display_data"
    }
   ],
   "source": [
    "CBkrupt = data.loc[data['Bankrupt'] == 1]\n",
    "# categories:' Cash Flow to Total Assets'; Allocation rate per person; Tax rate (A); \n",
    "# Create a histogram of company size for bankrupt companies\n",
    "fig, ax = plt.subplots(1,2)\n",
    "ax[0].hist(data[' Cash Flow to Total Assets'], bins=30, density=True, color=\"lightgray\", edgecolor=\"black\")\n",
    "ax[0].set_title('Active')\n",
    "ax[0].set_ylabel('Cash Flow to Total Assets')\n",
    "ax[0].set_xlabel('Companies')\n",
    "ax[1].hist(CBkrupt[' Cash Flow to Total Assets'], bins=30, density=True, color=\"darkgray\", edgecolor=\"black\")\n",
    "ax[1].set_title('Bankrupt')\n",
    "plt.show()"
   ]
  },
  {
   "cell_type": "code",
   "execution_count": 73,
   "metadata": {},
   "outputs": [
    {
     "data": {
      "image/png": "[encoded data removed]",
      "text/plain": [
       "<Figure size 640x480 with 1 Axes>"
      ]
     },
     "metadata": {},
     "output_type": "display_data"
    }
   ],
   "source": [
    "fig, ax = plt.subplots()\n",
    "ax.hist(data[' Cash flow rate'],range=[0.4, 0.55], bins=30, density=True, color=\"pink\", edgecolor=\"black\",alpha = 0.5, label = 'Active')\n",
    "ax.hist(CBkrupt[' Cash flow rate'], bins=30, range=[0.4, 0.55],density=True, color=\"green\", edgecolor=\"black\",alpha = 0.5, label = 'Bankrupt')\n",
    "ax.set_title('Active vs bankrupt')\n",
    "ax.set_ylabel('Cash Flow to Total Assets')\n",
    "ax.set_xlabel('density')\n",
    "plt.legend(loc = 'upper right')\n",
    "plt.show()\n"
   ]
  },
  {
   "cell_type": "markdown",
   "metadata": {},
   "source": [
    "This graph shows extreme difference as the total assets of bankrupt companies is logically quite low"
   ]
  },
  {
   "cell_type": "code",
   "execution_count": 74,
   "metadata": {},
   "outputs": [
    {
     "data": {
      "image/png": "[encoded data removed]",
      "text/plain": [
       "<Figure size 640x480 with 2 Axes>"
      ]
     },
     "metadata": {},
     "output_type": "display_data"
    }
   ],
   "source": [
    "fig, ax = plt.subplots(2)\n",
    "ax[0].hist(data[' Tax rate (A)'], bins=40, range = [0,0.5], density=True, color=\"pink\", edgecolor=\"black\",alpha = 0.5, label = 'Active')\n",
    "ax[0].hist(CBkrupt[' Tax rate (A)'], bins=40,range = [0,0.5] ,density=True, color=\"green\", edgecolor=\"black\",alpha = 0.5, label = 'Bankrupt')\n",
    "ax[0].set_title('Active vs bankrupt')\n",
    "ax[0].set_ylabel('Tax rate (A)')\n",
    "ax[0].set_xlabel('density')\n",
    "ax[1].hist(data[' Tax rate (A)'], bins=40, range = [0,0.01], density=True, color=\"pink\", edgecolor=\"black\",alpha = 0.5, label = 'Active')\n",
    "ax[1].hist(CBkrupt[' Tax rate (A)'], bins=40,range = [0,0.01] ,density=True, color=\"green\", edgecolor=\"black\",alpha = 0.5, label = 'Bankrupt')\n",
    "ax[1].set_title('Active vs bankrupt on low tax rates')\n",
    "ax[1].set_ylabel('Tax rate (A)')\n",
    "ax[1].set_xlabel('density')\n",
    "plt.show()\n",
    "#we require true density in our histograms to compare datasets of different sizes\n",
    "# tax exemptions once a company goes bankrupt"
   ]
  },
  {
   "cell_type": "markdown",
   "metadata": {},
   "source": [
    "Tax exemptions apply to a higher proportion of bankrupt companies but there are more active companies that pay 0% tax"
   ]
  },
  {
   "cell_type": "code",
   "execution_count": 75,
   "metadata": {},
   "outputs": [
    {
     "name": "stdout",
     "output_type": "stream",
     "text": [
      "Proportion of companies with tax exemption that are bankrupt: 7.554517133956386 %\n"
     ]
    }
   ],
   "source": [
    "print('Proportion of companies with tax exemption that are bankrupt:',\n",
    "      100*CBkrupt.loc[CBkrupt[' Tax rate (A)'] == 0].size/(data.loc[data[' Tax rate (A)'] == 0]).size,'%')\n"
   ]
  },
  {
   "cell_type": "markdown",
   "metadata": {},
   "source": [
    "From this we can see that a given tax exempt company is twice as likely to be bankrupt than a given company from the general dataset."
   ]
  },
  {
   "cell_type": "code",
   "execution_count": 76,
   "metadata": {},
   "outputs": [
    {
     "data": {
      "image/png": "[encoded data removed]",
      "text/plain": [
       "<Figure size 640x480 with 1 Axes>"
      ]
     },
     "metadata": {},
     "output_type": "display_data"
    }
   ],
   "source": [
    "#' Cash Reinvestment %'\n",
    "fig, ax = plt.subplots()\n",
    "ax.hist(data[' Cash Reinvestment %'], bins=60,range=[0.2, 0.6], density=True, color=\"pink\", edgecolor=\"black\",alpha = 0.8, label = 'Active')\n",
    "ax.hist(CBkrupt[' Cash Reinvestment %'], bins=60,range=[0.2, 0.6], density=True, color=\"lightgreen\", edgecolor=\"black\",alpha = 0.5, label = 'Bankrupt')\n",
    "ax.set_title('Active vs bankrupt')\n",
    "ax.set_ylabel('Cash Reinvestment %')\n",
    "ax.set_xlabel('density')\n",
    "plt.legend(loc = 'upper right')\n",
    "plt.show()"
   ]
  },
  {
   "cell_type": "code",
   "execution_count": 77,
   "metadata": {},
   "outputs": [],
   "source": [
    "#data.iloc[(data.mean() - CBkrupt.mean())>= 0.1]"
   ]
  },
  {
   "cell_type": "markdown",
   "metadata": {},
   "source": [
    "### Taking it up a notch\n",
    "With this, we come to the end of this project, although this does not mean that you're done by any means. The project explored today can be improved in many ways to achieve better results, and doing so is what will truly help you grow as a data scientist. Here are some suggestions for improvements to this particular project:\n",
    "- **EDA:**\n",
    "    - How are the features in our data set distributed?\n",
    "    - What is the individual relationship of each of these with our target variable?\n",
    "    \n",
    "    \n",
    "- **Dimentionality reduction:**\n",
    "    - What number of components should we use to improve our predictions?\n",
    "    - What other dimensionality reduction techniques are there? (Hint: have a look at manifold learning models like [tSNE](https://scikit-learn.org/stable/modules/generated/sklearn.manifold.TSNE.html)) \n",
    "    \n",
    "    \n",
    "- **Preprocessing:**\n",
    "    - What other scaling methods are there? Which is the best for this problem?\n",
    "    - Is there any feature engineering that we can do? How?\n",
    "    - How do other resampling methods affect performance?\n",
    "    \n",
    "    \n",
    "- **Modelling:**\n",
    "    - What other classification models can you use?\n",
    "    - Try out ensemble models: random forests, LightGBM XGBoost... which works out best?\n",
    "    - Can you optimize any hyperparameters? How?\n",
    "    \n",
    "- **Evaluation Metrics:**\n",
    "    - Try looking at the ROC curve and the associated AUC metric [(link here)](https://towardsdatascience.com/understanding-auc-roc-curve-68b2303cc9c5). Can you implement these in your project? \n",
    "    \n",
    "    \n"
   ]
  }
 ],
 "metadata": {
  "kernelspec": {
   "display_name": "Python 3 (ipykernel)",
   "language": "python",
   "name": "python3"
  },
  "language_info": {
   "codemirror_mode": {
    "name": "ipython",
    "version": 3
   },
   "file_extension": ".py",
   "mimetype": "text/x-python",
   "name": "python",
   "nbconvert_exporter": "python",
   "pygments_lexer": "ipython3",
   "version": "3.10.9"
  }
 },
 "nbformat": 4,
 "nbformat_minor": 4
}
